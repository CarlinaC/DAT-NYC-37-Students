{
 "cells": [
  {
   "cell_type": "markdown",
   "metadata": {},
   "source": [
    "# Project 1\n",
    "\n",
    "In this first project you will create a framework to scope out data science projects. "
   ]
  },
  {
   "cell_type": "markdown",
   "metadata": {},
   "source": [
    "## Dataset"
   ]
  },
  {
   "cell_type": "code",
   "execution_count": 2,
   "metadata": {
    "collapsed": false
   },
   "outputs": [],
   "source": [
    "import os\n",
    "import numpy as np\n",
    "import pandas as pd\n",
    "\n",
    "df = pd.read_csv(\"admissions.csv\")"
   ]
  },
  {
   "cell_type": "markdown",
   "metadata": {},
   "source": [
    "#### 1. Data dictionary "
   ]
  },
  {
   "cell_type": "markdown",
   "metadata": {},
   "source": [
    "\n",
    "Variable | Description | Type of Variable\n",
    "---| ---| ---\n",
    "Prestige | 1 - highest prestige to 4 - lowest prestige. | categorical\n",
    "GRE | integer | continuous\n",
    "GPA | float | continuous\n",
    "Admit | 0 = no , 1 = yes | categorical\n",
    "\n",
    "\n",
    "I would like to explore the association between Prestige, GRE, GPA with admission results into graduate schools."
   ]
  },
  {
   "cell_type": "markdown",
   "metadata": {},
   "source": [
    "#### 2. What is the outcome?"
   ]
  },
  {
   "cell_type": "markdown",
   "metadata": {},
   "source": [
    "Answer: Admit (yes/no)."
   ]
  },
  {
   "cell_type": "markdown",
   "metadata": {},
   "source": [
    "#### 3. What are the predictors/covariates? "
   ]
  },
  {
   "cell_type": "markdown",
   "metadata": {},
   "source": [
    "Answer: GRE (Graduate Record Exam scores), GPA (grade point average) and Prestige (prestige of the undergraduate institution)."
   ]
  },
  {
   "cell_type": "markdown",
   "metadata": {},
   "source": [
    "#### 4. What timeframe is this data relevant for?"
   ]
  },
  {
   "cell_type": "markdown",
   "metadata": {},
   "source": [
    "Answer: Timeframe unknown."
   ]
  },
  {
   "cell_type": "markdown",
   "metadata": {},
   "source": [
    "#### 5. What is the hypothesis?"
   ]
  },
  {
   "cell_type": "markdown",
   "metadata": {},
   "source": [
    "Answer: GRE (Graduate Record Exam scores), GPA (grade point average) and Prestige (prestige of the undergraduate institution) variables, will allow me to predict if a candidat will be a admitted."
   ]
  },
  {
   "cell_type": "markdown",
   "metadata": {},
   "source": [
    "## Problem Statement\n",
    "\n",
    "A researcher is interested in how variables, such as GRE (Graduate Record Exam scores), GPA (grade point average) and prestige of the undergraduate institution, affect admission into graduate school. The response variable is admit or don't admit."
   ]
  },
  {
   "cell_type": "markdown",
   "metadata": {},
   "source": [
    "### Exploratory Analysis Plan"
   ]
  },
  {
   "cell_type": "markdown",
   "metadata": {},
   "source": [
    "Using the lab from a class as a guide, create an exploratory analysis plan. "
   ]
  },
  {
   "cell_type": "markdown",
   "metadata": {},
   "source": [
    "#### 1. What are the goals of the exploratory analysis? "
   ]
  },
  {
   "cell_type": "markdown",
   "metadata": {
    "collapsed": true
   },
   "source": [
    "Answer: The goal of the exploratory data analysis is to find out whether:\n",
    "\n",
    "1. Do I have the right data?\n",
    "2. Do I need to get more?\n",
    "3. Do I need to refine my question?"
   ]
  },
  {
   "cell_type": "markdown",
   "metadata": {},
   "source": [
    "#### 2a. What are the assumptions of the distribution of data? "
   ]
  },
  {
   "cell_type": "markdown",
   "metadata": {},
   "source": [
    "Answer:\n",
    "\n",
    "The normal assumptions of the distribution of data are: \n",
    "\n",
    "1. Normality: Data have a normal distribution (or at least is symmetric)\n",
    "2. Homogeneity of variances: Data from multiple groups have the same variance\n",
    "3. Linearity: Data have a linear relationship\n",
    "4. Independence: Data are independent"
   ]
  },
  {
   "cell_type": "markdown",
   "metadata": {},
   "source": [
    "#### 2b. How will determine the distribution of your data? "
   ]
  },
  {
   "cell_type": "markdown",
   "metadata": {
    "collapsed": true
   },
   "source": [
    "Answer: I will use the pandas function \"describe\" to get a summarized view of the data. I will also use the \"std\" function for calculating the standard deviation."
   ]
  },
  {
   "cell_type": "markdown",
   "metadata": {},
   "source": [
    "#### 3a. How might outliers impact your analysis? "
   ]
  },
  {
   "cell_type": "markdown",
   "metadata": {
    "collapsed": true
   },
   "source": [
    "Answer: They can affect results and assumption of normal distribution."
   ]
  },
  {
   "cell_type": "markdown",
   "metadata": {},
   "source": [
    "#### 3b. How will you test for outliers? "
   ]
  },
  {
   "cell_type": "markdown",
   "metadata": {},
   "source": [
    "Answer: I would use a \"Box plot\" for detecting and illustrating location and variation changes between different groups of data."
   ]
  },
  {
   "cell_type": "markdown",
   "metadata": {},
   "source": [
    "**AE NOTE:** This won't quite work in all cases, and doesn't give the control/specificity you might need. \n",
    "    \n",
    "For instance, what if you wanted to only select or remove samples less than two standard deviations below the mean?\n",
    "\n",
    "Consider:\n",
    "\n",
    "```\n",
    "lower_bound = df['col'].mean() - 2*df['col'].std()\n",
    "\n",
    "df[df['col'] > lower_bound]  # Only keep values in my dataframe above the lower bound\n",
    "```\n",
    "\n",
    "*(you can also use df.clip: http://pandas.pydata.org/pandas-docs/stable/generated/pandas.DataFrame.clip.html)*"
   ]
  },
  {
   "cell_type": "markdown",
   "metadata": {},
   "source": [
    "#### 4a. What is collinearity? "
   ]
  },
  {
   "cell_type": "markdown",
   "metadata": {
    "collapsed": true
   },
   "source": [
    "Answer: Collinearity occurs when two or more predictor variables in a multiple regression model are highly correlated."
   ]
  },
  {
   "cell_type": "markdown",
   "metadata": {},
   "source": [
    "#### 4b. How will you test for collinearity? "
   ]
  },
  {
   "cell_type": "markdown",
   "metadata": {},
   "source": [
    "Answer: \n",
    "1. For quantitative variables, correlation is tested by Pearson correlation coefficient.\n",
    "2. Association between categorical variables can be tested by a chi-square test (and P-value).\n",
    "3. Association between a categorical and a quantitative variable can be assessed by ANOVA (>=2 categories)."
   ]
  },
  {
   "cell_type": "markdown",
   "metadata": {},
   "source": [
    "#### 5. What is your exploratory analysis plan?\n",
    "Using the above information, write an exploratory analysis plan that would allow you or a colleague to reproduce your analysis one year from now. "
   ]
  },
  {
   "cell_type": "markdown",
   "metadata": {},
   "source": [
    "Answer: Exploratory analysis plan:\n",
    "\n",
    "1. I will start reading in the data by checking whether the data is properly formatted: looking for errors when reading in the dataset.\n",
    "2. I will use the pandas function \"describe\" to get a summarized view of the data. I will also use the \"std\" function for calculating the standard deviation.\n",
    "3. I will test for outliers by using a \"Box plot\" for detecting and illustrating location and variation changes between different groups of data.\n",
    "4. To avoid collinearity I will test for it. Depending on the variables, I will use the test Pearson, chi-square or ANOVA."
   ]
  }
 ],
 "metadata": {
  "kernelspec": {
   "display_name": "Python 2",
   "language": "python",
   "name": "python2"
  },
  "language_info": {
   "codemirror_mode": {
    "name": "ipython",
    "version": 2
   },
   "file_extension": ".py",
   "mimetype": "text/x-python",
   "name": "python",
   "nbconvert_exporter": "python",
   "pygments_lexer": "ipython2",
   "version": "2.7.11"
  }
 },
 "nbformat": 4,
 "nbformat_minor": 0
}
