{
 "cells": [
  {
   "cell_type": "markdown",
   "metadata": {},
   "source": [
    "# Project 1\n",
    "\n"
   ]
  },
  {
   "cell_type": "markdown",
   "metadata": {},
   "source": [
    "In this first project you will create a framework to scope out data science projects. This framework will provide you with a guide to develop a well-articulated problem statement and analysis plan that will be robust and reproducible."
   ]
  },
  {
   "cell_type": "markdown",
   "metadata": {},
   "source": [
    "Read and evaluate the following problem statement:\n",
    "Determine which free-tier customers will covert to paying customers, using demographic data collected at signup (age, gender, location, and profession) and customer useage data (days since last log in, and activity score 1 = active user, 0 = inactive user) based on Hooli data from Jan-Apr 2015."
   ]
  },
  {
   "cell_type": "markdown",
   "metadata": {},
   "source": [
    "1. What is the outcome:"
   ]
  },
  {
   "cell_type": "markdown",
   "metadata": {},
   "source": [
    "Answer:Free-tier Customer will convert to a paying customer"
   ]
  },
  {
   "cell_type": "markdown",
   "metadata": {},
   "source": [
    "2. What are the predictors/covariates:"
   ]
  },
  {
   "cell_type": "markdown",
   "metadata": {},
   "source": [
    "Answer: Age, gender, location and profession as well as days since last log in, and ativity cose."
   ]
  },
  {
   "cell_type": "markdown",
   "metadata": {},
   "source": [
    "3. What timeframe is this data relevent for?"
   ]
  },
  {
   "cell_type": "markdown",
   "metadata": {},
   "source": [
    "Answer: Jan-Apr 2015"
   ]
  },
  {
   "cell_type": "markdown",
   "metadata": {},
   "source": [
    "4. What is the hypothesis:"
   ]
  },
  {
   "cell_type": "markdown",
   "metadata": {},
   "source": [
    "That customer usage data as well as demographic data will help predict which customers will convert to paying customers."
   ]
  },
  {
   "cell_type": "markdown",
   "metadata": {},
   "source": [
    "## Let's get started with our dataset"
   ]
  },
  {
   "cell_type": "markdown",
   "metadata": {},
   "source": [
    "#### 1. Create a data dictionary "
   ]
  },
  {
   "cell_type": "markdown",
   "metadata": {},
   "source": [
    "\n",
    "|Variable|Description|Type of Variable|\n",
    "|------|--------------------------|--------------|\n",
    "|Admit\t|Admitted to the school or not. 1=Admitted 0 = not admitted\t|Boolean |\n",
    "|Gre\t|Score of Gre test. 0-800 |Integer|\n",
    "|GPA|GPA from previos school, 0-4.0| Float|\n",
    "|Prestige| Prestige of last schol 0-4.0|Float|"
   ]
  },
  {
   "cell_type": "markdown",
   "metadata": {},
   "source": [
    "Insert data in Data frame to start analysis"
   ]
  },
  {
   "cell_type": "code",
   "execution_count": 4,
   "metadata": {
    "collapsed": false
   },
   "outputs": [
    {
     "data": {
      "text/html": [
       "<div>\n",
       "<table border=\"1\" class=\"dataframe\">\n",
       "  <thead>\n",
       "    <tr style=\"text-align: right;\">\n",
       "      <th></th>\n",
       "      <th>admit</th>\n",
       "      <th>gre</th>\n",
       "      <th>gpa</th>\n",
       "      <th>prestige</th>\n",
       "    </tr>\n",
       "  </thead>\n",
       "  <tbody>\n",
       "    <tr>\n",
       "      <th>0</th>\n",
       "      <td>0</td>\n",
       "      <td>380.0</td>\n",
       "      <td>3.61</td>\n",
       "      <td>3.0</td>\n",
       "    </tr>\n",
       "    <tr>\n",
       "      <th>1</th>\n",
       "      <td>1</td>\n",
       "      <td>660.0</td>\n",
       "      <td>3.67</td>\n",
       "      <td>3.0</td>\n",
       "    </tr>\n",
       "    <tr>\n",
       "      <th>2</th>\n",
       "      <td>1</td>\n",
       "      <td>800.0</td>\n",
       "      <td>4.00</td>\n",
       "      <td>1.0</td>\n",
       "    </tr>\n",
       "    <tr>\n",
       "      <th>3</th>\n",
       "      <td>1</td>\n",
       "      <td>640.0</td>\n",
       "      <td>3.19</td>\n",
       "      <td>4.0</td>\n",
       "    </tr>\n",
       "    <tr>\n",
       "      <th>4</th>\n",
       "      <td>0</td>\n",
       "      <td>520.0</td>\n",
       "      <td>2.93</td>\n",
       "      <td>4.0</td>\n",
       "    </tr>\n",
       "  </tbody>\n",
       "</table>\n",
       "</div>"
      ],
      "text/plain": [
       "   admit    gre   gpa  prestige\n",
       "0      0  380.0  3.61       3.0\n",
       "1      1  660.0  3.67       3.0\n",
       "2      1  800.0  4.00       1.0\n",
       "3      1  640.0  3.19       4.0\n",
       "4      0  520.0  2.93       4.0"
      ]
     },
     "execution_count": 4,
     "metadata": {},
     "output_type": "execute_result"
    }
   ],
   "source": [
    "import pandas as pd\n",
    "from pandas import DataFrame,Series\n",
    "import numpy as np\n",
    "import matplotlib.pyplot as plt\n",
    "\n",
    "%matplotlib inline\n",
    "\n",
    "path='C:\\\\Anaconda2\\\\DAT-NYC-37\\\\projects\\\\unit-projects\\\\project-1\\\\assets\\\\admissions.csv'\n",
    "frame=pd.read_csv(path, header=0, index_col=False, parse_dates=False)\n",
    "frame.head()"
   ]
  },
  {
   "cell_type": "markdown",
   "metadata": {},
   "source": [
    "\n"
   ]
  },
  {
   "cell_type": "code",
   "execution_count": 5,
   "metadata": {
    "collapsed": false
   },
   "outputs": [
    {
     "name": "stdout",
     "output_type": "stream",
     "text": [
      "Percent of Yes if Prestige 1: 54.0983606557 %\n",
      "Percent of Yes if Prestige 2: 35.5704697987 %\n",
      "Percent of Yes if Prestige 3: 23.1404958678 %\n",
      "Percent of Yes if Prestige 4: 17.9104477612 %\n"
     ]
    }
   ],
   "source": [
    "#Create Intervals to make it easier to analyse how GPA factors on admission decision\n",
    "group_names=['F','D', 'C', 'B', 'A', 'A+']\n",
    "bins=[0, 1.5, 2.0, 2.5, 3.0, 3.5, 4.0]\n",
    "frame['grade_range']=pd.cut(frame['gpa'], bins, labels=group_names)\n",
    "\n",
    "#create a grouped by table to easily pull out records of students who were admitted\n",
    "admitted=np.where(frame['admit'] > 0, 'Yes', 'no')\n",
    "by_gpa=frame.groupby(['prestige','grade_range', admitted])\n",
    "counts_admit_gpa=by_gpa.size().unstack().fillna(0)\n",
    "\n",
    "#Locate Yes and No per prestige group:\n",
    "Yes_1=counts_admit_gpa.loc[1.0, ['Yes']].sum()\n",
    "Yes_2=counts_admit_gpa.loc[2.0, ['Yes']].sum()\n",
    "Yes_3=counts_admit_gpa.loc[3.0, ['Yes']].sum()\n",
    "Yes_4=counts_admit_gpa.loc[4.0, ['Yes']].sum()\n",
    "No_1=counts_admit_gpa.loc[1.0, ['no']].sum()\n",
    "No_2=counts_admit_gpa.loc[2.0, ['no']].sum()\n",
    "No_3=counts_admit_gpa.loc[3.0, ['no']].sum()\n",
    "No_4=counts_admit_gpa.loc[4.0, ['no']].sum()\n",
    "\n",
    "#Create Percentage function:\n",
    "def add_percent(a, b):\n",
    "\ttotal_admit=a + b\n",
    "\tpercent_of_yes=a/total_admit\n",
    "\tconvert=percent_of_yes * 100\n",
    "\treturn convert\n",
    "\n",
    "print \"Percent of Yes if Prestige 1:\", add_percent(Yes_1[0], No_1[0]), \"%\"\n",
    "print \"Percent of Yes if Prestige 2:\", add_percent(Yes_2[0], No_2[0]), \"%\"\n",
    "print \"Percent of Yes if Prestige 3:\", add_percent(Yes_3[0], No_3[0]), \"%\"\n",
    "print \"Percent of Yes if Prestige 4:\", add_percent(Yes_4[0], No_4[0]), \"%\""
   ]
  },
  {
   "cell_type": "code",
   "execution_count": 6,
   "metadata": {
    "collapsed": false
   },
   "outputs": [
    {
     "data": {
      "text/plain": [
       "<matplotlib.axes._subplots.AxesSubplot at 0xa019160>"
      ]
     },
     "execution_count": 6,
     "metadata": {},
     "output_type": "execute_result"
    },
    {
     "data": {
      "image/png": "[encoded data removed]",
      "text/plain": [
       "<matplotlib.figure.Figure at 0x9fb8e48>"
      ]
     },
     "metadata": {},
     "output_type": "display_data"
    }
   ],
   "source": [
    "counts_admit_gpa.plot(kind='barh', rot=0)"
   ]
  },
  {
   "cell_type": "markdown",
   "metadata": {},
   "source": [
    "#### 2. What is the outcome?"
   ]
  },
  {
   "cell_type": "markdown",
   "metadata": {},
   "source": [
    "Answer: Admit variable, Yes/No"
   ]
  },
  {
   "cell_type": "markdown",
   "metadata": {},
   "source": [
    "#### 3. What are the predictors/covariates? "
   ]
  },
  {
   "cell_type": "markdown",
   "metadata": {},
   "source": [
    "Answer: Predictors is gpa and gre scores. Covariates which can being used to make a big prediction is Prestige"
   ]
  },
  {
   "cell_type": "markdown",
   "metadata": {},
   "source": [
    "#### 4. What timeframe is this data relevant for?"
   ]
  },
  {
   "cell_type": "markdown",
   "metadata": {},
   "source": [
    "Answer: No time frame provided."
   ]
  },
  {
   "cell_type": "markdown",
   "metadata": {},
   "source": [
    "#### 4. What is the hypothesis?"
   ]
  },
  {
   "cell_type": "markdown",
   "metadata": {},
   "source": [
    "Answer: That gpa, gre and prestige of school will allow us to figure out the likely hood of someone getting admitted to a school."
   ]
  },
  {
   "cell_type": "markdown",
   "metadata": {},
   "source": [
    "    Using the above information, write a well-formed problem statement. \n"
   ]
  },
  {
   "cell_type": "markdown",
   "metadata": {},
   "source": [
    "## Problem Statement"
   ]
  },
  {
   "cell_type": "markdown",
   "metadata": {},
   "source": [
    "### Exploratory Analysis Plan"
   ]
  },
  {
   "cell_type": "markdown",
   "metadata": {},
   "source": [
    "Using the lab from a class as a guide, create an exploratory analysis plan. "
   ]
  },
  {
   "cell_type": "markdown",
   "metadata": {},
   "source": [
    "#### 1. What are the goals of the exploratory analysis? "
   ]
  },
  {
   "cell_type": "markdown",
   "metadata": {
    "collapsed": true
   },
   "source": [
    "Answer: To find relations between gpa, gre, prestige and the likley hood of getting accepted"
   ]
  },
  {
   "cell_type": "markdown",
   "metadata": {},
   "source": [
    "#### 2a. What are the assumptions of the distribution of data? "
   ]
  },
  {
   "cell_type": "markdown",
   "metadata": {},
   "source": [
    "Answer: That higher gpa, gre and prestige of shchool will increase your changes of getting admitted."
   ]
  },
  {
   "cell_type": "markdown",
   "metadata": {},
   "source": [
    "#### 2b. How will determine the distribution of your data? "
   ]
  },
  {
   "cell_type": "markdown",
   "metadata": {
    "collapsed": true
   },
   "source": [
    "Answer: Grouping and sectioning data alone to analyze in more detail."
   ]
  },
  {
   "cell_type": "markdown",
   "metadata": {},
   "source": [
    "#### 3a. How might outliers impact your analysis? "
   ]
  },
  {
   "cell_type": "markdown",
   "metadata": {
    "collapsed": true
   },
   "source": [
    "Answer: High grades/gre scores could have little impact on whether you get admitted or not with out taking into consideration prestige of school. Also, a student with low gre scores and a low gpa could of got admitted."
   ]
  },
  {
   "cell_type": "markdown",
   "metadata": {},
   "source": [
    "#### 3b. How will you test for outliers? "
   ]
  },
  {
   "cell_type": "markdown",
   "metadata": {},
   "source": [
    "Answer: The following test shows a break down of Prestige per GRE score per interval of grade. This shows that GRE score's show little to no help in figuring out whether this standardized test increase the likely hood of getting accepted."
   ]
  },
  {
   "cell_type": "code",
   "execution_count": 7,
   "metadata": {
    "collapsed": false
   },
   "outputs": [
    {
     "name": "stdout",
     "output_type": "stream",
     "text": [
      "                            Yes   no\n",
      "prestige gre   grade_range          \n",
      "1.0      340.0 B            0.0  1.0\n",
      "         360.0 A            0.0  1.0\n",
      "         420.0 B            0.0  1.0\n",
      "               A            0.0  1.0\n",
      "         440.0 A            0.0  1.0\n"
     ]
    }
   ],
   "source": [
    "by_gre=frame.groupby(['prestige','gre', 'grade_range', admitted])\n",
    "counts_admit_gre=by_gre.size().unstack().fillna(0)\n",
    "print counts_admit_gre.head()"
   ]
  },
  {
   "cell_type": "markdown",
   "metadata": {},
   "source": [
    "Example is the following:\n",
    "600.0 A            0.0  1.0\n",
    "      A+           3.0  0.0\n",
    "      \n",
    "Above student got a 600 and an A+ and got accepted, however, the following student got a 660 and did not get accepted:\n",
    "\n",
    " 660.0 A+          0.0  1.0"
   ]
  },
  {
   "cell_type": "markdown",
   "metadata": {},
   "source": [
    "#### 4a. What is collinearity? "
   ]
  },
  {
   "cell_type": "markdown",
   "metadata": {
    "collapsed": true
   },
   "source": [
    "Answer: A phenomenon in which two or more predictor variables in a multiple regression model are highly correlated, meaning that one can be linearly predicted from the others with a substantial degree of accuracy. "
   ]
  },
  {
   "cell_type": "markdown",
   "metadata": {},
   "source": [
    "#### 4b. How will you test for collinearity? "
   ]
  },
  {
   "cell_type": "markdown",
   "metadata": {},
   "source": [
    "Answer: Using this case as a model, being at a Presige 1 school while getting above a 3.5 increases your liklyhood of getting admitted. Just of these two variable alone you can see a 74% chance of getting admitted. "
   ]
  },
  {
   "cell_type": "code",
   "execution_count": 25,
   "metadata": {
    "collapsed": false
   },
   "outputs": [
    {
     "name": "stdout",
     "output_type": "stream",
     "text": [
      "                       Yes    no\n",
      "prestige grade_range            \n",
      "1.0      C             1.0   0.0\n",
      "         B             3.0   4.0\n",
      "         A             6.0  16.0\n",
      "         A+           23.0   8.0\n",
      "2.0      C             0.0   1.0\n",
      "         B             8.0  18.0\n",
      "         A            25.0  45.0\n",
      "         A+           20.0  32.0\n",
      "3.0      B             4.0  17.0\n",
      "         A             8.0  40.0\n",
      "         A+           16.0  36.0\n",
      "4.0      C             0.0   2.0\n",
      "         B             2.0  10.0\n",
      "         A             2.0  30.0\n",
      "         A+            8.0  13.0\n"
     ]
    }
   ],
   "source": [
    "print counts_admit_gpa"
   ]
  },
  {
   "cell_type": "markdown",
   "metadata": {},
   "source": [
    "#### 5. What is your exploratory analysis plan?\n",
    "Using the above information, write an exploratory analysis plan that would allow you or a colleague to reproduce your analysis one year from now. "
   ]
  },
  {
   "cell_type": "markdown",
   "metadata": {},
   "source": [
    "Answer: What you should explore is what variables, if any increase the perctage of you being accepted to the school. In order to do this, a correlation should be created between gpa score, prestige of previous school and gre score. However, you should also test to see if outliners exist that would otherwise give a false idea of impacting the decision of being accepted to the school. In this example, GRE scores in general seemed to have little to no impact on decision."
   ]
  },
  {
   "cell_type": "markdown",
   "metadata": {},
   "source": [
    "## Bonus Questions:\n",
    "1. Outline your analysis method for predicting your outcome\n",
    "2. Write an alternative problem statement for your dataset\n",
    "3. Articulate the assumptions and risks of the alternative model"
   ]
  },
  {
   "cell_type": "code",
   "execution_count": null,
   "metadata": {
    "collapsed": true
   },
   "outputs": [],
   "source": []
  }
 ],
 "metadata": {
  "kernelspec": {
   "display_name": "Python 2",
   "language": "python",
   "name": "python2"
  },
  "language_info": {
   "codemirror_mode": {
    "name": "ipython",
    "version": 2
   },
   "file_extension": ".py",
   "mimetype": "text/x-python",
   "name": "python",
   "nbconvert_exporter": "python",
   "pygments_lexer": "ipython2",
   "version": "2.7.11"
  }
 },
 "nbformat": 4,
 "nbformat_minor": 0
}
