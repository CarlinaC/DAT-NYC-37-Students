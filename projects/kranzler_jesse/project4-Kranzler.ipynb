{
 "cells": [
  {
   "cell_type": "markdown",
   "metadata": {},
   "source": [
    "# Project 4\n",
    "\n",
    "In this project, you will summarize and present your analysis from Projects 1-3."
   ]
  },
  {
   "cell_type": "markdown",
   "metadata": {},
   "source": [
    "### Intro: Write a problem Statement/ Specific Aim for this project"
   ]
  },
  {
   "cell_type": "markdown",
   "metadata": {},
   "source": [
    "Answer: We are attempting to find the best predictors of graduate school admission between a student's GPA, GRE score, and the prestige of his or her undergraduate institution. "
   ]
  },
  {
   "cell_type": "markdown",
   "metadata": {},
   "source": [
    "### Dataset:  Write up a description of your data and any cleaning that was completed"
   ]
  },
  {
   "cell_type": "markdown",
   "metadata": {},
   "source": [
    "Answer: \n",
    "\n",
    "Variable | Description | Type of Variable\n",
    "---| ---| ---\n",
    "Admit | Admission status of student (1 = admitted, 0 = denied)  | boolean\n",
    "GPA | Student's Grade Point Average | continuous\n",
    "GRE | Student's GRE score | continuous\n",
    "Prestige | Prestige rank of student's alma mater (1-4) | categorical\n",
    "\n",
    "Although prestige and admit are given to us in numerical form, they are not truly continuous variables. We can leave the admit column as 0/1 boolean values, but since prestige is categorical we needed to create dummy variables in order to best represent this data. "
   ]
  },
  {
   "cell_type": "markdown",
   "metadata": {
    "collapsed": true
   },
   "source": [
    "### Demo: Provide a table that explains the data by admission status"
   ]
  },
  {
   "cell_type": "markdown",
   "metadata": {},
   "source": [
    "Mean (STD) or counts by admission status for each variable \n",
    "\n",
    "| Not Admitted | Admitted\n",
    "---| ---|---\n",
    "GPA | 3.347159 (0.376355)  | 3.489206 (0.371655)\n",
    "GRE |573.579336 (116.052798) | 618.571429 (109.257233)\n",
    "Prestige 1 | 45.9% | 54.1%\n",
    "Prestige 2 | 64.2% | 35.8%\n",
    "Prestige 3 | 76.9% | 23.1%\n",
    "Prestige 4 | 82.1% | 17.9%\n",
    "\n",
    "*These answers were pulled from the frequency tables in project 3 and by calling df.gpa[df.admit == 0).describe(), etc.*"
   ]
  },
  {
   "cell_type": "markdown",
   "metadata": {},
   "source": [
    "### Methods: Write up the methods used in your analysis"
   ]
  },
  {
   "cell_type": "markdown",
   "metadata": {},
   "source": [
    "Answer: I dummy encoded the prestige column so I could apply Logistic Regression to the data set. I used \"gre\", \"gpa\", \"prestige_1.0\", \"prestige_2.0\", and \"prestige_3.0\" as my predictors (X) and \"admit\" as my target variable (y).\n",
    "\n",
    "Using train/test split as a cross validation method, I set aside 30% of my dataset for testing and used the rest to train my model. "
   ]
  },
  {
   "cell_type": "markdown",
   "metadata": {},
   "source": [
    "### Results: Write up your results"
   ]
  },
  {
   "cell_type": "markdown",
   "metadata": {},
   "source": [
    "Answer: My Logistic Regression had an accuracy score of 71.67%. "
   ]
  },
  {
   "cell_type": "markdown",
   "metadata": {},
   "source": [
    "### Visuals: Provide a table or visualization of these results"
   ]
  },
  {
   "cell_type": "markdown",
   "metadata": {},
   "source": [
    "<img src='https://s10.postimg.org/88sw1ubuh/factorplot.png'/>"
   ]
  },
  {
   "cell_type": "markdown",
   "metadata": {},
   "source": [
    "### Discussion: Write up your discussion and future steps"
   ]
  },
  {
   "cell_type": "markdown",
   "metadata": {},
   "source": [
    "Answer: The data shows, as expected, that higher GPA and GRE scores do correspond with higher graduate school admission rates. The prestige of a student's alma mater does seem to help iff the school has a prestige of 1. All other prestige values seem to yield higher denial rates than admissions. GPA seems to have the biggest impact and that makes sense since it is a more long term description of a student than GRE (which is a measure of performance on a single exam.) While alma mater prestige might not make too much of a difference for better schools, attending a lower prestige university can greatly impact a student's chances of being admitted into grad school. \n",
    "\n",
    "I could potentially improve my results by using a different cross validation method (like K-fold) or using different predictors. There are also a few additional pieces of data that I believe would be valuable in conducting a larger study.\n",
    "1. Student's major (both at alma mater and for applied grad program): Student profiles of artistic majors are very different from those applying for medical school. \n",
    "2. Relative prestige: Similar to the above, just because a university has a great English department does not mean its Biology department is also top notch. While schools are getting more and more selective, it seems that individual programs at universities often carry more weight than the university itself for graduate admissions.\n",
    "3. Personal connection to applied school: Students with family, friends, or faculty who are alumnus of a particular institution can help a student get in with a recommendation letter. It would be helpful to measure these students against students who get in on their own merits alone and compare the differences.\n",
    "4. Race / Ethnicity / Sex: While we like to believe all schools are equal opportunity, universities do seek out particular diversity percentages in each accepted class. "
   ]
  },
  {
   "cell_type": "code",
   "execution_count": null,
   "metadata": {
    "collapsed": true
   },
   "outputs": [],
   "source": []
  }
 ],
 "metadata": {
  "kernelspec": {
   "display_name": "Python 2",
   "language": "python",
   "name": "python2"
  },
  "language_info": {
   "codemirror_mode": {
    "name": "ipython",
    "version": 2
   },
   "file_extension": ".py",
   "mimetype": "text/x-python",
   "name": "python",
   "nbconvert_exporter": "python",
   "pygments_lexer": "ipython2",
   "version": "2.7.11"
  }
 },
 "nbformat": 4,
 "nbformat_minor": 0
}
