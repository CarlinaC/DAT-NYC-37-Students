{
 "cells": [
  {
   "cell_type": "markdown",
   "metadata": {},
   "source": [
    "# Overview"
   ]
  },
  {
   "cell_type": "markdown",
   "metadata": {},
   "source": [
    "For my final project, I intend to determine whether or not NYC DOH restaurant ratings are an appropriate measure for restaurant cleanliness and if there is any correlation between cleanliness, safety, and quality. \n",
    "\n",
    "My goal with this project is to shine light on various DOH marks that are either weighted too heavily or too lightly and ideally be able to predict potential problem areas in restaurants that have yet to be rated (either for the restaurant’s good or for DOH to know what to be on the lookout for.)\n",
    "\n",
    "If restaurants are aware of problems to watch out for, they can be more proactive and prevent potential health-related issues from ever happening. Similarly, if the DOH has a ranking of likely infractions for a restaurant, they can be more efficient in their rating process.\n",
    "\n",
    "I intend to use the NYC DOH dataset as my primary source, but will also use the Yelp API to determine if there is any relation between health rating and customer rating.\n",
    "\n",
    "This problem seems to be more of a classification problem than regression. Although I can regress and have # of infractions be a continuous variable, I think classification is more relevant since not all classifications are weighted equally. I believe logistic regression is the best technique here as it will allow me to not only predict various classifiers (restaurant letter grade, various infractions, or Yelp star rating), but also allow me to determine the probability for each outcome."
   ]
  },
  {
   "cell_type": "markdown",
   "metadata": {},
   "source": [
    "# Project Concerns & Challenges"
   ]
  },
  {
   "cell_type": "markdown",
   "metadata": {},
   "source": [
    "1. Yelp IDs and CAMIS IDs (the identifier in the DOH dataset) have no relation. I will have to figure out an alternative identifier that is consistant across both datasets. Maybe the address or phone number? The latter seems to be the most simple.\n",
    "\n",
    "2. Lack of knowledge on API usage. This project will require a fair amount of work with the Yelp dataset, which is only available as an API. I will need to learn how to use the API before I can do any work on this project.\n",
    "\n",
    "3. Additional data:\n",
    "\n",
    "       - I would love to have a dataset of all recorded cases of food poisoning and foodborne illness in NYC. This would help me determine whether the DOH ratings are overly strict or actually do reflect legitimate food safety issues.\n",
    "\n",
    "       - It would also be great to incorporate additional datasets to determine a restaurant's overall \"prestige\" (FourSquare ratings, NYTimes reviews, prescence on Michelin Guide or World's 50 Best list, etc.\n",
    "\n",
    "4. Up until this point, we have used classification to predict binary variables, but I think this project requires additional possible outcomes. Right now, I am imagining that I will output the following results\n",
    "\n",
    "        - Restaurant letter grade: A, B, or C (Z & P will be omitted.)(categorical)\n",
    "        - Yelp star rating: continuous value between 0 - 5\n",
    "        - Agree: Does the Yelp rating accurately reflect the DOH rating? For this I will say Yelp ratings of 3+ correspond to an A rating, 2-2.9 correspond to B, while 2- correspond to C. I will play around with these thresholds once I start looking at the data.\n",
    "\n",
    "5. Skewness in Yelp data: There is likely going to be skewness in Yelp data since customer's are much more likely to review a restaurant for either a terrible or great experience than they would an average experience. I think I'll find that most of the individual ratings will come in at opposite sides of the spectrum. To reduce potential skewness, I will only be looking at restaurants with a minimum number of ratings (number to be determined.) Hopefully a large dataset will normalize my results.\n"
   ]
  },
  {
   "cell_type": "markdown",
   "metadata": {},
   "source": [
    "# Domain Knowledge"
   ]
  },
  {
   "cell_type": "markdown",
   "metadata": {},
   "source": [
    "There are a few reasons why I've chosen to analyze DOH ratings for this project. Recently there has been a lot of talk in the restaurant industry about certain DOH ratings getting in the way of fine dining practices. For example, it is now required that all sushi chefs wear gloves when preparing food even though the use of one's hands is critical to the creation of high quality sushi.\n",
    "\n",
    "Additionally, fine dining restaurants are being hit with infractions over minimum / maximum temperatures for various food items that don't really translate to fine dining. Serving undercooked or raw ingredients can be perfectly safe if the ingredients come from a known entity and are treated carefully, but the DOH continues to dock restaurants for these infractions.\n",
    "\n",
    "My hope with this project is to identify the various infractions that might not apply to different classes of restaurants so that they may be weighted differently. Ideally I should be able to determine a restaurant's effective letter grade once I re-weight various infractions.\n",
    "\n",
    "Additional research efforts:\n",
    "I found a study that used the contents of Yelp comments to trace various cases of foodborne illness. I will likely reference this study in my project, but will probably not delve into the Yelp comments in my project. Details about the study are published here: http://www.cdc.gov/mmwr/preview/mmwrhtml/mm6320a1.htm"
   ]
  },
  {
   "cell_type": "markdown",
   "metadata": {},
   "source": [
    "# Sources"
   ]
  },
  {
   "cell_type": "markdown",
   "metadata": {},
   "source": [
    "NYC DOH dataset: https://data.cityofnewyork.us/Health/DOHMH-New-York-City-Restaurant-Inspection-Results/43nn-pn8j\n",
    "\n",
    "Data Dictionary: (below)"
   ]
  },
  {
   "cell_type": "markdown",
   "metadata": {},
   "source": [
    "Variable | Description \n",
    "---| ---\n",
    "CAMIS | This is an unique identifier for the restaurant  \n",
    "DBA | This field represents the name (doing business as) of the restaurant\n",
    "BORO | Borough in which the restaurant is located. NOTE: There may be discrepancies between zip code and listed boro due to differences in an establishment's mailing address and physical location\n",
    "BUILDING | This field represents the building number for the restaurant\n",
    "STREET | This field represents the street name at which the restaurant is located.\n",
    "ZIPCODE | Zip code as per the address of the restaurant\n",
    "PHONE | Phone number\n",
    "CUISINE DESCRIPTION | This field describes the restaurant's cuisine.\n",
    "INSPECTION DATE | This field represents the date of inspection\n",
    "ACTION | This field represents the actions that is associated with each restaurant inspection.\n",
    "VIOLATION CODE | This field represents the violation codes that is associated with each restaurant inspection.\n",
    "VIOLATION DESCRIPTION | This field is the description that corresponds to the violation codes\n",
    "CRITICAL FLAG | This indicates if Violation is critical or not.\n",
    "SCORE | Total Score for a particular inspection. If there was adjudication a judge may reduce the total points for the inspection and this field will have the update amount.\n",
    "GRADE | • N = Not Yet Graded • A = Grade A • B = Grade B • C = Grade C • Z = Grade Pending • P= Grade Pending issued on re-opening following an initial inspection that resulted in a closure\n",
    "GRADE DATE | The date when the current grade was issued to the restaurant\n",
    "RECORD DATE | The date when the extract was run to produce this data set\n",
    "INSPECTION TYPE | The type of inspection. A combination of the program and inspection type.\n",
    "\n",
    "\n"
   ]
  },
  {
   "cell_type": "markdown",
   "metadata": {},
   "source": [
    "Yelp API: https://data.cityofnewyork.us/NYC-BigApps/Yelp-API/65z6-rsii\n",
    "Data Dictionary: https://www.yelp.com/developers/documentation/v2/search_api\n"
   ]
  },
  {
   "cell_type": "markdown",
   "metadata": {},
   "source": [
    "# Models & Methods"
   ]
  },
  {
   "cell_type": "markdown",
   "metadata": {},
   "source": [
    "Basic Statistics: I plan to compile summary statistics for various cohorts of my dataset\n",
    "- By borough\n",
    "- By cuisine\n",
    "- By chain: I'd like to analyze ratings across chain restaurants to see if infractions are consistent given that each restaurant likely operates under the same cleanliness procedures. I'll look at both national and local chains in both casual and fine dining environments.\n",
    "\n",
    "Logistic Regression: This will be my primary modeling technique. I plan to use it to determine the likelihood that a restaurant will receive various letter rankings based on similar restaurants. I will likely compare a restaurant to average ratings by cuisine and location to determine these ratings. \n",
    "\n",
    "Linear Regression: I also can use linear regression to determine a restaurant's potential Yelp star rating given its DOH rating, location, cuisine, etc. "
   ]
  },
  {
   "cell_type": "markdown",
   "metadata": {},
   "source": [
    "# Data Assumptions"
   ]
  },
  {
   "cell_type": "markdown",
   "metadata": {},
   "source": [
    "I think in general cheaper restaurants will have higher rate of incidence with the DOH. These restaurants don't have deep pockets to hire the best / most experienced staff so it is more likely that these workers will have less pride in the cleanliness of their place of employment. \n",
    "\n",
    "I also think that restaurants in Manhattan and the more crowded areas of Brooklyn and Queens will have more potential infractions as restaurants often share basement spaces and could be infested with a rodent, etc. from a nearby restaurant. Restaurants that are more secluded (in the suburbs, if you will) have less to blame on their environment and can be held more accountable for the general cleanliness of their restaurants. \n",
    "\n",
    "I think it is also likely that fine dining restaurants will likely have many infractions in the areas I've mentioned above, while I am not sure that I will find as much consistency among cheaper restaurants. \n",
    "\n",
    "I suppose I could make certain assumptions about certain neighborhoods having more infractions than others, but on the risk of making some sort of racist or social darwinistic statement, I'll wait for the data to prove various assumptions around various neighborhoods and cuisines."
   ]
  },
  {
   "cell_type": "markdown",
   "metadata": {},
   "source": [
    "# Goals"
   ]
  },
  {
   "cell_type": "markdown",
   "metadata": {},
   "source": [
    "This project will be considered a success if I can predict potential DOH infractions and letter grades with a high degree of accuracy (80+%). It might be hard to quantify these results since I'd have to wait for new results to be published, but I will download a new version of the DOH data in a few weeks and track changes and additions to see if my predictions were correct."
   ]
  },
  {
   "cell_type": "code",
   "execution_count": null,
   "metadata": {
    "collapsed": true
   },
   "outputs": [],
   "source": []
  }
 ],
 "metadata": {
  "kernelspec": {
   "display_name": "Python 2",
   "language": "python",
   "name": "python2"
  },
  "language_info": {
   "codemirror_mode": {
    "name": "ipython",
    "version": 2
   },
   "file_extension": ".py",
   "mimetype": "text/x-python",
   "name": "python",
   "nbconvert_exporter": "python",
   "pygments_lexer": "ipython2",
   "version": "2.7.11"
  }
 },
 "nbformat": 4,
 "nbformat_minor": 0
}
