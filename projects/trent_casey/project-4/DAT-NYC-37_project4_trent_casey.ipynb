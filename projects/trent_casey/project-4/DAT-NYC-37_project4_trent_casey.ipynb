{
 "cells": [
  {
   "cell_type": "markdown",
   "metadata": {},
   "source": [
    "# Project 4\n",
    "\n",
    "In this project, you will summarize and present your analysis from Projects 1-3."
   ]
  },
  {
   "cell_type": "markdown",
   "metadata": {},
   "source": [
    "### Intro: Write a problem Statement/ Specific Aim for this project"
   ]
  },
  {
   "cell_type": "markdown",
   "metadata": {},
   "source": [
    "Answer: Using the admissions dataset from UCLA, we will use applicant GRE scores, GPA, and the prestige of the applicant's undergraduate school to predict if they were admitted to graduate school at UCLA."
   ]
  },
  {
   "cell_type": "markdown",
   "metadata": {},
   "source": [
    "### Dataset:  Write up a description of your data and any cleaning that was completed"
   ]
  },
  {
   "cell_type": "markdown",
   "metadata": {},
   "source": [
    "Answer: The dataset contains 400 observations and only three of those observations were missing data. Since the total number of rows with missing data was so small (less than 1%), it was decided to remove them from the dataset. \n",
    "\n",
    "The four columns in the dataset are: _GPA_, the student's grade point average; _GRE_, the student's Graduate Record Examination score; _prestige_, an integer from 1 (highest) to 4 (lowest) that measures the prestige level of the student's undergraduate school; and _admit_, which tells us if the student was admitted into UCLA's graduate school.\n",
    "\n",
    "Finally, even though data in the _prestige_ column is numerical, it is actually presenting categorical information. In order to make our machine learning algorithms handle the data properly, the _prestige_ column was converted into four separate columns of dummy variables (_prestige 1_, _prestige 2_, _prestige 3_, and _prestige 4_)."
   ]
  },
  {
   "cell_type": "markdown",
   "metadata": {
    "collapsed": true
   },
   "source": [
    "### Demo: Provide a table that explains the data by admission status"
   ]
  },
  {
   "cell_type": "markdown",
   "metadata": {},
   "source": [
    "Mean (STD) or counts by admission status for each variable \n",
    "\n",
    "| Not Admitted | Admitted\n",
    "---| ---|---\n",
    "GPA | 3.347  | 3.489\n",
    "GRE | 573.579 | 618.571\n",
    "Prestige 1 | 28 (45.9%) | 33 (54.1%)\n",
    "Prestige 2 | 95 (64.2%) | 53 (35.8%)\n",
    "Prestige 3 | 93 (76.9%) | 28 (23.1%)\n",
    "Prestige 4 | 55 (82.1%) | 12 (17.9%)"
   ]
  },
  {
   "cell_type": "markdown",
   "metadata": {},
   "source": [
    "### Methods: Write up the methods used in your analysis"
   ]
  },
  {
   "cell_type": "markdown",
   "metadata": {},
   "source": [
    "Answer: \n",
    "\n",
    "The outcome variable in this dataset (_admit_) is binary (1 or 0 for admitted or not admitted), so a logistic regression model was chosen for this analysis. The _prestige 1_ variable was removed from the data used in the model to avoid multicollinearity issues between the prestige variables and then the set was split into training and testing sets.\n",
    "\n"
   ]
  },
  {
   "cell_type": "markdown",
   "metadata": {},
   "source": [
    "### Results: Write up your results"
   ]
  },
  {
   "cell_type": "markdown",
   "metadata": {},
   "source": [
    "Answer: The odds of being accepted into graduate school at UCLA do increase significantly for applicants from an undergrad with a prestige rank of 1. Further to that, for students with the same GRE and GPA scores but different prestige rankings, each increase in prestige rank correlates with an increasingly higher probablility of acceptance."
   ]
  },
  {
   "cell_type": "markdown",
   "metadata": {},
   "source": [
    "### Visuals: Provide a table or visualization of these results"
   ]
  },
  {
   "cell_type": "markdown",
   "metadata": {},
   "source": [
    "<div>\n",
    "<table border=\"1\" class=\"dataframe\">\n",
    "  <thead>\n",
    "    <tr style=\"text-align: right;\">\n",
    "      <th></th>\n",
    "      <th>gre</th>\n",
    "      <th>gpa</th>\n",
    "      <th>prestige</th>\n",
    "      <th>intercept</th>\n",
    "      <th>prestige_2.0</th>\n",
    "      <th>prestige_3.0</th>\n",
    "      <th>prestige_4.0</th>\n",
    "      <th>prediction</th>\n",
    "    </tr>\n",
    "  </thead>\n",
    "  <tbody>\n",
    "    <tr>\n",
    "      <th>396</th>\n",
    "      <td>800.0</td>\n",
    "      <td>4.0</td>\n",
    "      <td>1.0</td>\n",
    "      <td>1.0</td>\n",
    "      <td>0.0</td>\n",
    "      <td>0.0</td>\n",
    "      <td>0.0</td>\n",
    "      <td>0.734040</td>\n",
    "    </tr>\n",
    "    <tr>\n",
    "      <th>397</th>\n",
    "      <td>800.0</td>\n",
    "      <td>4.0</td>\n",
    "      <td>2.0</td>\n",
    "      <td>1.0</td>\n",
    "      <td>1.0</td>\n",
    "      <td>0.0</td>\n",
    "      <td>0.0</td>\n",
    "      <td>0.582995</td>\n",
    "    </tr>\n",
    "    <tr>\n",
    "      <th>398</th>\n",
    "      <td>800.0</td>\n",
    "      <td>4.0</td>\n",
    "      <td>3.0</td>\n",
    "      <td>1.0</td>\n",
    "      <td>0.0</td>\n",
    "      <td>1.0</td>\n",
    "      <td>0.0</td>\n",
    "      <td>0.419833</td>\n",
    "    </tr>\n",
    "    <tr>\n",
    "      <th>399</th>\n",
    "      <td>800.0</td>\n",
    "      <td>4.0</td>\n",
    "      <td>4.0</td>\n",
    "      <td>1.0</td>\n",
    "      <td>0.0</td>\n",
    "      <td>0.0</td>\n",
    "      <td>1.0</td>\n",
    "      <td>0.368608</td>\n",
    "    </tr>\n",
    "  </tbody>\n",
    "</table>\n",
    "</div>"
   ]
  },
  {
   "cell_type": "markdown",
   "metadata": {},
   "source": [
    "### Discussion: Write up your discussion and future steps"
   ]
  },
  {
   "cell_type": "markdown",
   "metadata": {},
   "source": [
    "Answer: I would like to explore more into how GRE and GPA affect the chances of being accepted, specifically within the context of each prestige level. Do they become more important factors as the prestige of the school goes down?"
   ]
  },
  {
   "cell_type": "code",
   "execution_count": null,
   "metadata": {
    "collapsed": true
   },
   "outputs": [],
   "source": []
  }
 ],
 "metadata": {
  "kernelspec": {
   "display_name": "Python 2",
   "language": "python",
   "name": "python2"
  },
  "language_info": {
   "codemirror_mode": {
    "name": "ipython",
    "version": 2
   },
   "file_extension": ".py",
   "mimetype": "text/x-python",
   "name": "python",
   "nbconvert_exporter": "python",
   "pygments_lexer": "ipython2",
   "version": "2.7.12"
  }
 },
 "nbformat": 4,
 "nbformat_minor": 0
}
