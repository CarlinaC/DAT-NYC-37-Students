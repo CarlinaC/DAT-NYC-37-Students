{
 "cells": [
  {
   "cell_type": "code",
   "execution_count": 58,
   "metadata": {
    "collapsed": true
   },
   "outputs": [],
   "source": [
    "import numpy as np \n",
    "import pandas as pd \n",
    "import matplotlib.pyplot as plt\n",
    "import seaborn as sns\n",
    "from pylab import *\n",
    "import statsmodels.api as sm\n",
    "%matplotlib inline"
   ]
  },
  {
   "cell_type": "markdown",
   "metadata": {},
   "source": [
    "### Dataset"
   ]
  },
  {
   "cell_type": "code",
   "execution_count": 59,
   "metadata": {
    "collapsed": false,
    "scrolled": true
   },
   "outputs": [
    {
     "data": {
      "text/html": [
       "<div>\n",
       "<table border=\"1\" class=\"dataframe\">\n",
       "  <thead>\n",
       "    <tr style=\"text-align: right;\">\n",
       "      <th></th>\n",
       "      <th>iid</th>\n",
       "      <th>id</th>\n",
       "      <th>gender</th>\n",
       "      <th>idg</th>\n",
       "      <th>condtn</th>\n",
       "      <th>wave</th>\n",
       "      <th>round</th>\n",
       "      <th>position</th>\n",
       "      <th>positin1</th>\n",
       "      <th>order</th>\n",
       "      <th>...</th>\n",
       "      <th>attr3_3</th>\n",
       "      <th>sinc3_3</th>\n",
       "      <th>intel3_3</th>\n",
       "      <th>fun3_3</th>\n",
       "      <th>amb3_3</th>\n",
       "      <th>attr5_3</th>\n",
       "      <th>sinc5_3</th>\n",
       "      <th>intel5_3</th>\n",
       "      <th>fun5_3</th>\n",
       "      <th>amb5_3</th>\n",
       "    </tr>\n",
       "  </thead>\n",
       "  <tbody>\n",
       "    <tr>\n",
       "      <th>0</th>\n",
       "      <td>1</td>\n",
       "      <td>1.0</td>\n",
       "      <td>0</td>\n",
       "      <td>1</td>\n",
       "      <td>1</td>\n",
       "      <td>1</td>\n",
       "      <td>10</td>\n",
       "      <td>7</td>\n",
       "      <td>NaN</td>\n",
       "      <td>4</td>\n",
       "      <td>...</td>\n",
       "      <td>5.0</td>\n",
       "      <td>7.0</td>\n",
       "      <td>7.0</td>\n",
       "      <td>7.0</td>\n",
       "      <td>7.0</td>\n",
       "      <td>NaN</td>\n",
       "      <td>NaN</td>\n",
       "      <td>NaN</td>\n",
       "      <td>NaN</td>\n",
       "      <td>NaN</td>\n",
       "    </tr>\n",
       "    <tr>\n",
       "      <th>1</th>\n",
       "      <td>1</td>\n",
       "      <td>1.0</td>\n",
       "      <td>0</td>\n",
       "      <td>1</td>\n",
       "      <td>1</td>\n",
       "      <td>1</td>\n",
       "      <td>10</td>\n",
       "      <td>7</td>\n",
       "      <td>NaN</td>\n",
       "      <td>3</td>\n",
       "      <td>...</td>\n",
       "      <td>5.0</td>\n",
       "      <td>7.0</td>\n",
       "      <td>7.0</td>\n",
       "      <td>7.0</td>\n",
       "      <td>7.0</td>\n",
       "      <td>NaN</td>\n",
       "      <td>NaN</td>\n",
       "      <td>NaN</td>\n",
       "      <td>NaN</td>\n",
       "      <td>NaN</td>\n",
       "    </tr>\n",
       "    <tr>\n",
       "      <th>2</th>\n",
       "      <td>1</td>\n",
       "      <td>1.0</td>\n",
       "      <td>0</td>\n",
       "      <td>1</td>\n",
       "      <td>1</td>\n",
       "      <td>1</td>\n",
       "      <td>10</td>\n",
       "      <td>7</td>\n",
       "      <td>NaN</td>\n",
       "      <td>10</td>\n",
       "      <td>...</td>\n",
       "      <td>5.0</td>\n",
       "      <td>7.0</td>\n",
       "      <td>7.0</td>\n",
       "      <td>7.0</td>\n",
       "      <td>7.0</td>\n",
       "      <td>NaN</td>\n",
       "      <td>NaN</td>\n",
       "      <td>NaN</td>\n",
       "      <td>NaN</td>\n",
       "      <td>NaN</td>\n",
       "    </tr>\n",
       "    <tr>\n",
       "      <th>3</th>\n",
       "      <td>1</td>\n",
       "      <td>1.0</td>\n",
       "      <td>0</td>\n",
       "      <td>1</td>\n",
       "      <td>1</td>\n",
       "      <td>1</td>\n",
       "      <td>10</td>\n",
       "      <td>7</td>\n",
       "      <td>NaN</td>\n",
       "      <td>5</td>\n",
       "      <td>...</td>\n",
       "      <td>5.0</td>\n",
       "      <td>7.0</td>\n",
       "      <td>7.0</td>\n",
       "      <td>7.0</td>\n",
       "      <td>7.0</td>\n",
       "      <td>NaN</td>\n",
       "      <td>NaN</td>\n",
       "      <td>NaN</td>\n",
       "      <td>NaN</td>\n",
       "      <td>NaN</td>\n",
       "    </tr>\n",
       "    <tr>\n",
       "      <th>4</th>\n",
       "      <td>1</td>\n",
       "      <td>1.0</td>\n",
       "      <td>0</td>\n",
       "      <td>1</td>\n",
       "      <td>1</td>\n",
       "      <td>1</td>\n",
       "      <td>10</td>\n",
       "      <td>7</td>\n",
       "      <td>NaN</td>\n",
       "      <td>7</td>\n",
       "      <td>...</td>\n",
       "      <td>5.0</td>\n",
       "      <td>7.0</td>\n",
       "      <td>7.0</td>\n",
       "      <td>7.0</td>\n",
       "      <td>7.0</td>\n",
       "      <td>NaN</td>\n",
       "      <td>NaN</td>\n",
       "      <td>NaN</td>\n",
       "      <td>NaN</td>\n",
       "      <td>NaN</td>\n",
       "    </tr>\n",
       "  </tbody>\n",
       "</table>\n",
       "<p>5 rows × 195 columns</p>\n",
       "</div>"
      ],
      "text/plain": [
       "   iid   id  gender  idg  condtn  wave  round  position  positin1  order  \\\n",
       "0    1  1.0       0    1       1     1     10         7       NaN      4   \n",
       "1    1  1.0       0    1       1     1     10         7       NaN      3   \n",
       "2    1  1.0       0    1       1     1     10         7       NaN     10   \n",
       "3    1  1.0       0    1       1     1     10         7       NaN      5   \n",
       "4    1  1.0       0    1       1     1     10         7       NaN      7   \n",
       "\n",
       "    ...    attr3_3  sinc3_3  intel3_3  fun3_3  amb3_3  attr5_3  sinc5_3  \\\n",
       "0   ...        5.0      7.0       7.0     7.0     7.0      NaN      NaN   \n",
       "1   ...        5.0      7.0       7.0     7.0     7.0      NaN      NaN   \n",
       "2   ...        5.0      7.0       7.0     7.0     7.0      NaN      NaN   \n",
       "3   ...        5.0      7.0       7.0     7.0     7.0      NaN      NaN   \n",
       "4   ...        5.0      7.0       7.0     7.0     7.0      NaN      NaN   \n",
       "\n",
       "   intel5_3  fun5_3  amb5_3  \n",
       "0       NaN     NaN     NaN  \n",
       "1       NaN     NaN     NaN  \n",
       "2       NaN     NaN     NaN  \n",
       "3       NaN     NaN     NaN  \n",
       "4       NaN     NaN     NaN  \n",
       "\n",
       "[5 rows x 195 columns]"
      ]
     },
     "execution_count": 59,
     "metadata": {},
     "output_type": "execute_result"
    }
   ],
   "source": [
    "data_df = pd.read_csv(\"SDD.csv\")\n",
    "data_df.head()"
   ]
  },
  {
   "cell_type": "markdown",
   "metadata": {},
   "source": [
    "#### Number of unique participants"
   ]
  },
  {
   "cell_type": "code",
   "execution_count": 60,
   "metadata": {
    "collapsed": false,
    "scrolled": true
   },
   "outputs": [
    {
     "name": "stdout",
     "output_type": "stream",
     "text": [
      "The total number of dates is: 8378\n",
      "The total number of unique participants is: 551\n",
      "The number of female participants is: 274\n",
      "The number of male participants is: 277\n"
     ]
    }
   ],
   "source": [
    "f = data_df.loc[data_df.gender == 0]\n",
    "m = data_df.loc[data_df.gender == 1]\n",
    "print('The total number of dates is: {}'.format(len(data_df)))\n",
    "print('The total number of unique participants is: {}'.format(len(data_df['iid'].unique())))\n",
    "print('The number of female participants is: {}'.format(len(f['iid'].unique())))\n",
    "print('The number of male participants is: {}'.format(len(m['iid'].unique())))"
   ]
  },
  {
   "cell_type": "markdown",
   "metadata": {},
   "source": [
    "#### Participant's age distribution"
   ]
  },
  {
   "cell_type": "code",
   "execution_count": 61,
   "metadata": {
    "collapsed": false,
    "scrolled": false
   },
   "outputs": [
    {
     "name": "stdout",
     "output_type": "stream",
     "text": [
      "participant's age distribution\n"
     ]
    },
    {
     "data": {
      "image/png": "[encoded data removed]",
      "text/plain": [
       "<matplotlib.figure.Figure at 0xdb74860>"
      ]
     },
     "metadata": {},
     "output_type": "display_data"
    }
   ],
   "source": [
    "data_unique = data_df.groupby('iid').mean()\n",
    "data_unique.age.plot(kind='hist', bins=6)\n",
    "print(\"participant's age distribution\")"
   ]
  },
  {
   "cell_type": "code",
   "execution_count": 62,
   "metadata": {
    "collapsed": false,
    "scrolled": true
   },
   "outputs": [
    {
     "name": "stdout",
     "output_type": "stream",
     "text": [
      "Females age distribution\n"
     ]
    },
    {
     "data": {
      "image/png": "[encoded data removed]",
      "text/plain": [
       "<matplotlib.figure.Figure at 0xb413128>"
      ]
     },
     "metadata": {},
     "output_type": "display_data"
    }
   ],
   "source": [
    "data_unique_f = data_df[data_df['gender']==0].groupby('iid').mean()\n",
    "data_unique_f.age.plot(kind='hist', bins=6)\n",
    "print(\"Females age distribution\")"
   ]
  },
  {
   "cell_type": "code",
   "execution_count": 63,
   "metadata": {
    "collapsed": false
   },
   "outputs": [
    {
     "name": "stdout",
     "output_type": "stream",
     "text": [
      "Males age distribution\n"
     ]
    },
    {
     "data": {
      "image/png": "[encoded data removed]",
      "text/plain": [
       "<matplotlib.figure.Figure at 0xd144908>"
      ]
     },
     "metadata": {},
     "output_type": "display_data"
    }
   ],
   "source": [
    "data_unique_m = data_df[data_df['gender']==1].groupby('iid').mean()\n",
    "data_unique_m.age.plot(kind='hist', bins=6)\n",
    "print(\"Males age distribution\")"
   ]
  },
  {
   "cell_type": "markdown",
   "metadata": {},
   "source": [
    "#### Participant's activities (Interest)"
   ]
  },
  {
   "cell_type": "code",
   "execution_count": 152,
   "metadata": {
    "collapsed": false,
    "scrolled": true
   },
   "outputs": [
    {
     "data": {
      "image/png": "[encoded data removed]",
      "text/plain": [
       "<matplotlib.figure.Figure at 0xaf79b00>"
      ]
     },
     "metadata": {},
     "output_type": "display_data"
    }
   ],
   "source": [
    "activities_interested=['sports','tvsports', 'dining', 'museums', 'art', 'hiking', 'reading', 'tv', 'shopping', \n",
    "                       'theater','movies', 'concerts', 'clubbing', 'gaming', 'yoga']\n",
    "temp = data_df.groupby(['gender']).mean()[activities_interested].values\n",
    "\n",
    "g = plt.figure(figsize=(8,8))\n",
    "g = plt.barh(np.arange(0,2*temp.shape[1],2)+0.2,temp[1,:], height=0.5,color=[0,0,1],alpha=0.5,label='Male')\n",
    "g = plt.barh(np.arange(0,2*temp.shape[1],2)-0.2,temp[0,:], height=0.5,color=[1,0,1],alpha=0.5,label='Female')\n",
    "g = plt.yticks(np.arange(0,2*temp.shape[1],2)+0.2,activities_interested,fontsize=14)\n",
    "g = plt.ylim(-1,2*temp.shape[1]+1)\n",
    "g = plt.legend(loc=0,fontsize=14)"
   ]
  },
  {
   "cell_type": "markdown",
   "metadata": {},
   "source": [
    "### Number of match per gender"
   ]
  },
  {
   "cell_type": "code",
   "execution_count": 65,
   "metadata": {
    "collapsed": false
   },
   "outputs": [
    {
     "name": "stdout",
     "output_type": "stream",
     "text": [
      "The avg. dates per male is: 15.1407942238\n",
      "The match percentage for males is : 20.2888324872\n",
      "Female partner said yes 39.7366771615 percent of the times\n"
     ]
    },
    {
     "data": {
      "image/png": "[encoded data removed]",
      "text/plain": [
       "<matplotlib.figure.Figure at 0xa9ca2b0>"
      ]
     },
     "metadata": {},
     "output_type": "display_data"
    }
   ],
   "source": [
    "data_m = data_df[data_df['gender']==1].groupby('iid').sum()\n",
    "match_m = data_m['match']\n",
    "g = plt.figure(figsize=(5,5))\n",
    "g = plt.hist(match_m, range(15))\n",
    "g = plt.xlabel('Male Matches', fontsize=14) \n",
    "\n",
    "# Number of dates males\n",
    "dates_male = data_df[data_df.gender == 1].groupby('iid').apply(len)\n",
    "\n",
    "# The of matches males\n",
    "matches_m = data_df[data_df.match == 1]\n",
    "matches_male = matches_m[matches_m.gender == 1].groupby('iid').apply(len)\n",
    "\n",
    "#Male match percentage\n",
    "mmp = (matches_male / dates_male).mean() * 100.0\n",
    "mmp\n",
    "print('The avg. dates per male is: %s' %(dates_male.mean()))\n",
    "print('The match percentage for males is : %s' % (mmp))\n",
    "\n",
    "# Date? decision of partner == 1\n",
    "partner_yes_M = data_df[data_df.dec_o == 1]\n",
    "partner_syes_M = partner_yes_M[partner_yes_M.gender == 1].groupby('iid').apply(len)\n",
    "pyp_M = ((partner_syes_M/dates_male).mean())*100\n",
    "print('Female partner said yes %s percent of the times' % (pyp_M))\n"
   ]
  },
  {
   "cell_type": "code",
   "execution_count": 66,
   "metadata": {
    "collapsed": false
   },
   "outputs": [
    {
     "name": "stdout",
     "output_type": "stream",
     "text": [
      "The avg. dates per female is: 15.2700729927\n",
      "The match percentage for females is : 20.9103753144\n",
      "Male partner said yes 48.6359814379 percent of the times\n"
     ]
    },
    {
     "data": {
      "image/png": "[encoded data removed]",
      "text/plain": [
       "<matplotlib.figure.Figure at 0xa9ca8d0>"
      ]
     },
     "metadata": {},
     "output_type": "display_data"
    }
   ],
   "source": [
    "data_f = data_df[data_df['gender']==0].groupby('iid').sum()\n",
    "match_f = data_f['match']\n",
    "g = plt.figure(figsize=(5,5))\n",
    "g = plt.hist(match_f, range(15))\n",
    "g = plt.xlabel('Female Matches', fontsize=14) \n",
    "\n",
    "# Number of dates Females\n",
    "dates_female = data_df[data_df.gender == 0].groupby('iid').apply(len)\n",
    "# The of matches Females\n",
    "matches = data_df[data_df.match == 1]\n",
    "matches_female = matches[matches.gender == 0].groupby('iid').apply(len)\n",
    "#Female match percentage\n",
    "fmp = (matches_female / dates_female).mean() * 100.0\n",
    "fmp\n",
    "print('The avg. dates per female is: %s' %(dates_female.mean()))\n",
    "print('The match percentage for females is : %s' % (fmp))\n",
    "\n",
    "# Date? decision of partner == 1\n",
    "partner_yes_F = data_df[data_df.dec_o == 1]\n",
    "partner_syes_F = partner_yes_F[partner_yes_F.gender == 0].groupby('iid').apply(len)\n",
    "pyp_F = ((partner_syes_F/dates_female).mean())*100\n",
    "print('Male partner said yes %s percent of the times' % (pyp_F))"
   ]
  },
  {
   "cell_type": "markdown",
   "metadata": {},
   "source": [
    "### Getting Dummies"
   ]
  },
  {
   "cell_type": "code",
   "execution_count": 67,
   "metadata": {
    "collapsed": false,
    "scrolled": true
   },
   "outputs": [
    {
     "name": "stdout",
     "output_type": "stream",
     "text": [
      "   gender_0  gender_1\n",
      "0       1.0       0.0\n",
      "1       1.0       0.0\n",
      "2       1.0       0.0\n",
      "3       1.0       0.0\n",
      "4       1.0       0.0\n"
     ]
    }
   ],
   "source": [
    "dummy_gender = pd.get_dummies(data_df['gender'], prefix='gender')\n",
    "print dummy_gender.head()"
   ]
  },
  {
   "cell_type": "markdown",
   "metadata": {},
   "source": [
    "### Columns to keep"
   ]
  },
  {
   "cell_type": "code",
   "execution_count": 153,
   "metadata": {
    "collapsed": false,
    "scrolled": true
   },
   "outputs": [
    {
     "data": {
      "text/html": [
       "<div>\n",
       "<table border=\"1\" class=\"dataframe\">\n",
       "  <thead>\n",
       "    <tr style=\"text-align: right;\">\n",
       "      <th></th>\n",
       "      <th>dec_o</th>\n",
       "      <th>age</th>\n",
       "      <th>attr_o</th>\n",
       "      <th>sinc_o</th>\n",
       "      <th>intel_o</th>\n",
       "      <th>fun_o</th>\n",
       "      <th>amb_o</th>\n",
       "      <th>shar_o</th>\n",
       "      <th>gender_0</th>\n",
       "      <th>gender_1</th>\n",
       "    </tr>\n",
       "  </thead>\n",
       "  <tbody>\n",
       "    <tr>\n",
       "      <th>count</th>\n",
       "      <td>8378.000000</td>\n",
       "      <td>8283.000000</td>\n",
       "      <td>8166.000000</td>\n",
       "      <td>8091.000000</td>\n",
       "      <td>8072.000000</td>\n",
       "      <td>8018.000000</td>\n",
       "      <td>7656.000000</td>\n",
       "      <td>7302.000000</td>\n",
       "      <td>8378.000000</td>\n",
       "      <td>8378.000000</td>\n",
       "    </tr>\n",
       "    <tr>\n",
       "      <th>mean</th>\n",
       "      <td>0.419551</td>\n",
       "      <td>26.358928</td>\n",
       "      <td>6.190411</td>\n",
       "      <td>7.175256</td>\n",
       "      <td>7.369301</td>\n",
       "      <td>6.400599</td>\n",
       "      <td>6.778409</td>\n",
       "      <td>5.474870</td>\n",
       "      <td>0.499403</td>\n",
       "      <td>0.500597</td>\n",
       "    </tr>\n",
       "    <tr>\n",
       "      <th>std</th>\n",
       "      <td>0.493515</td>\n",
       "      <td>3.566763</td>\n",
       "      <td>1.950305</td>\n",
       "      <td>1.740575</td>\n",
       "      <td>1.550501</td>\n",
       "      <td>1.954078</td>\n",
       "      <td>1.794080</td>\n",
       "      <td>2.156163</td>\n",
       "      <td>0.500029</td>\n",
       "      <td>0.500029</td>\n",
       "    </tr>\n",
       "    <tr>\n",
       "      <th>min</th>\n",
       "      <td>0.000000</td>\n",
       "      <td>18.000000</td>\n",
       "      <td>0.000000</td>\n",
       "      <td>0.000000</td>\n",
       "      <td>0.000000</td>\n",
       "      <td>0.000000</td>\n",
       "      <td>0.000000</td>\n",
       "      <td>0.000000</td>\n",
       "      <td>0.000000</td>\n",
       "      <td>0.000000</td>\n",
       "    </tr>\n",
       "    <tr>\n",
       "      <th>25%</th>\n",
       "      <td>0.000000</td>\n",
       "      <td>24.000000</td>\n",
       "      <td>5.000000</td>\n",
       "      <td>6.000000</td>\n",
       "      <td>6.000000</td>\n",
       "      <td>5.000000</td>\n",
       "      <td>6.000000</td>\n",
       "      <td>4.000000</td>\n",
       "      <td>0.000000</td>\n",
       "      <td>0.000000</td>\n",
       "    </tr>\n",
       "    <tr>\n",
       "      <th>50%</th>\n",
       "      <td>0.000000</td>\n",
       "      <td>26.000000</td>\n",
       "      <td>6.000000</td>\n",
       "      <td>7.000000</td>\n",
       "      <td>7.000000</td>\n",
       "      <td>7.000000</td>\n",
       "      <td>7.000000</td>\n",
       "      <td>6.000000</td>\n",
       "      <td>0.000000</td>\n",
       "      <td>1.000000</td>\n",
       "    </tr>\n",
       "    <tr>\n",
       "      <th>75%</th>\n",
       "      <td>1.000000</td>\n",
       "      <td>28.000000</td>\n",
       "      <td>8.000000</td>\n",
       "      <td>8.000000</td>\n",
       "      <td>8.000000</td>\n",
       "      <td>8.000000</td>\n",
       "      <td>8.000000</td>\n",
       "      <td>7.000000</td>\n",
       "      <td>1.000000</td>\n",
       "      <td>1.000000</td>\n",
       "    </tr>\n",
       "    <tr>\n",
       "      <th>max</th>\n",
       "      <td>1.000000</td>\n",
       "      <td>55.000000</td>\n",
       "      <td>10.500000</td>\n",
       "      <td>10.000000</td>\n",
       "      <td>10.000000</td>\n",
       "      <td>11.000000</td>\n",
       "      <td>10.000000</td>\n",
       "      <td>10.000000</td>\n",
       "      <td>1.000000</td>\n",
       "      <td>1.000000</td>\n",
       "    </tr>\n",
       "  </tbody>\n",
       "</table>\n",
       "</div>"
      ],
      "text/plain": [
       "             dec_o          age       attr_o       sinc_o      intel_o  \\\n",
       "count  8378.000000  8283.000000  8166.000000  8091.000000  8072.000000   \n",
       "mean      0.419551    26.358928     6.190411     7.175256     7.369301   \n",
       "std       0.493515     3.566763     1.950305     1.740575     1.550501   \n",
       "min       0.000000    18.000000     0.000000     0.000000     0.000000   \n",
       "25%       0.000000    24.000000     5.000000     6.000000     6.000000   \n",
       "50%       0.000000    26.000000     6.000000     7.000000     7.000000   \n",
       "75%       1.000000    28.000000     8.000000     8.000000     8.000000   \n",
       "max       1.000000    55.000000    10.500000    10.000000    10.000000   \n",
       "\n",
       "             fun_o        amb_o       shar_o     gender_0     gender_1  \n",
       "count  8018.000000  7656.000000  7302.000000  8378.000000  8378.000000  \n",
       "mean      6.400599     6.778409     5.474870     0.499403     0.500597  \n",
       "std       1.954078     1.794080     2.156163     0.500029     0.500029  \n",
       "min       0.000000     0.000000     0.000000     0.000000     0.000000  \n",
       "25%       5.000000     6.000000     4.000000     0.000000     0.000000  \n",
       "50%       7.000000     7.000000     6.000000     0.000000     1.000000  \n",
       "75%       8.000000     8.000000     7.000000     1.000000     1.000000  \n",
       "max      11.000000    10.000000    10.000000     1.000000     1.000000  "
      ]
     },
     "execution_count": 153,
     "metadata": {},
     "output_type": "execute_result"
    }
   ],
   "source": [
    "cols_to_keep = ['dec_o', 'age' ,'attr_o', 'sinc_o', 'intel_o', 'fun_o', 'amb_o', 'shar_o']\n",
    "data_b = data_df[cols_to_keep].join(dummy_gender.ix[:, 'gender':])\n",
    "data_b.describe()"
   ]
  },
  {
   "cell_type": "code",
   "execution_count": 69,
   "metadata": {
    "collapsed": false
   },
   "outputs": [
    {
     "data": {
      "text/html": [
       "<div>\n",
       "<table border=\"1\" class=\"dataframe\">\n",
       "  <thead>\n",
       "    <tr style=\"text-align: right;\">\n",
       "      <th></th>\n",
       "      <th>dec_o</th>\n",
       "      <th>age</th>\n",
       "      <th>attr_o</th>\n",
       "      <th>sinc_o</th>\n",
       "      <th>intel_o</th>\n",
       "      <th>fun_o</th>\n",
       "      <th>amb_o</th>\n",
       "      <th>shar_o</th>\n",
       "      <th>gender_0</th>\n",
       "      <th>gender_1</th>\n",
       "      <th>intercept</th>\n",
       "    </tr>\n",
       "  </thead>\n",
       "  <tbody>\n",
       "    <tr>\n",
       "      <th>0</th>\n",
       "      <td>0</td>\n",
       "      <td>21.0</td>\n",
       "      <td>6.0</td>\n",
       "      <td>8.0</td>\n",
       "      <td>8.0</td>\n",
       "      <td>8.0</td>\n",
       "      <td>8.0</td>\n",
       "      <td>6.0</td>\n",
       "      <td>1.0</td>\n",
       "      <td>0.0</td>\n",
       "      <td>1.0</td>\n",
       "    </tr>\n",
       "    <tr>\n",
       "      <th>1</th>\n",
       "      <td>0</td>\n",
       "      <td>21.0</td>\n",
       "      <td>7.0</td>\n",
       "      <td>8.0</td>\n",
       "      <td>10.0</td>\n",
       "      <td>7.0</td>\n",
       "      <td>7.0</td>\n",
       "      <td>5.0</td>\n",
       "      <td>1.0</td>\n",
       "      <td>0.0</td>\n",
       "      <td>1.0</td>\n",
       "    </tr>\n",
       "    <tr>\n",
       "      <th>2</th>\n",
       "      <td>1</td>\n",
       "      <td>21.0</td>\n",
       "      <td>10.0</td>\n",
       "      <td>10.0</td>\n",
       "      <td>10.0</td>\n",
       "      <td>10.0</td>\n",
       "      <td>10.0</td>\n",
       "      <td>10.0</td>\n",
       "      <td>1.0</td>\n",
       "      <td>0.0</td>\n",
       "      <td>1.0</td>\n",
       "    </tr>\n",
       "    <tr>\n",
       "      <th>3</th>\n",
       "      <td>1</td>\n",
       "      <td>21.0</td>\n",
       "      <td>7.0</td>\n",
       "      <td>8.0</td>\n",
       "      <td>9.0</td>\n",
       "      <td>8.0</td>\n",
       "      <td>9.0</td>\n",
       "      <td>8.0</td>\n",
       "      <td>1.0</td>\n",
       "      <td>0.0</td>\n",
       "      <td>1.0</td>\n",
       "    </tr>\n",
       "    <tr>\n",
       "      <th>4</th>\n",
       "      <td>1</td>\n",
       "      <td>21.0</td>\n",
       "      <td>8.0</td>\n",
       "      <td>7.0</td>\n",
       "      <td>9.0</td>\n",
       "      <td>6.0</td>\n",
       "      <td>9.0</td>\n",
       "      <td>7.0</td>\n",
       "      <td>1.0</td>\n",
       "      <td>0.0</td>\n",
       "      <td>1.0</td>\n",
       "    </tr>\n",
       "  </tbody>\n",
       "</table>\n",
       "</div>"
      ],
      "text/plain": [
       "   dec_o   age  attr_o  sinc_o  intel_o  fun_o  amb_o  shar_o  gender_0  \\\n",
       "0      0  21.0     6.0     8.0      8.0    8.0    8.0     6.0       1.0   \n",
       "1      0  21.0     7.0     8.0     10.0    7.0    7.0     5.0       1.0   \n",
       "2      1  21.0    10.0    10.0     10.0   10.0   10.0    10.0       1.0   \n",
       "3      1  21.0     7.0     8.0      9.0    8.0    9.0     8.0       1.0   \n",
       "4      1  21.0     8.0     7.0      9.0    6.0    9.0     7.0       1.0   \n",
       "\n",
       "   gender_1  intercept  \n",
       "0       0.0        1.0  \n",
       "1       0.0        1.0  \n",
       "2       0.0        1.0  \n",
       "3       0.0        1.0  \n",
       "4       0.0        1.0  "
      ]
     },
     "execution_count": 69,
     "metadata": {},
     "output_type": "execute_result"
    }
   ],
   "source": [
    "# intercept\n",
    "data_b['intercept'] = 1.0\n",
    "data_b.head()"
   ]
  },
  {
   "cell_type": "markdown",
   "metadata": {},
   "source": [
    "### Droping data points with missing data"
   ]
  },
  {
   "cell_type": "code",
   "execution_count": 70,
   "metadata": {
    "collapsed": true
   },
   "outputs": [],
   "source": [
    "data_b.rename(columns={'dec_o': 'decision', 'attr_o': 'attractive', 'sinc_o' : 'sincere', 'intel_o' : 'intelligent' , 'fun_o' : 'fun', \n",
    "                       'amb_o' : 'ambitious', 'shar_o': 'shared interests'}, inplace=True)"
   ]
  },
  {
   "cell_type": "code",
   "execution_count": 71,
   "metadata": {
    "collapsed": false,
    "scrolled": false
   },
   "outputs": [
    {
     "data": {
      "text/plain": [
       "decision            0\n",
       "age                 0\n",
       "attractive          0\n",
       "sincere             0\n",
       "intelligent         0\n",
       "fun                 0\n",
       "ambitious           0\n",
       "shared interests    0\n",
       "gender_0            0\n",
       "gender_1            0\n",
       "intercept           0\n",
       "dtype: int64"
      ]
     },
     "execution_count": 71,
     "metadata": {},
     "output_type": "execute_result"
    }
   ],
   "source": [
    "data_c = data_b.dropna()\n",
    "data_c.isnull().sum()"
   ]
  },
  {
   "cell_type": "code",
   "execution_count": 72,
   "metadata": {
    "collapsed": false
   },
   "outputs": [
    {
     "data": {
      "text/plain": [
       "6959"
      ]
     },
     "execution_count": 72,
     "metadata": {},
     "output_type": "execute_result"
    }
   ],
   "source": [
    "len(data_c)"
   ]
  },
  {
   "cell_type": "code",
   "execution_count": 73,
   "metadata": {
    "collapsed": false
   },
   "outputs": [
    {
     "data": {
      "text/plain": [
       "decision            6959\n",
       "age                 6959\n",
       "attractive          6959\n",
       "sincere             6959\n",
       "intelligent         6959\n",
       "fun                 6959\n",
       "ambitious           6959\n",
       "shared interests    6959\n",
       "gender_0            6959\n",
       "gender_1            6959\n",
       "intercept           6959\n",
       "dtype: int64"
      ]
     },
     "execution_count": 73,
     "metadata": {},
     "output_type": "execute_result"
    }
   ],
   "source": [
    "data_c.isnull().count()"
   ]
  },
  {
   "cell_type": "markdown",
   "metadata": {},
   "source": [
    "### General Dataset descriptive measure"
   ]
  },
  {
   "cell_type": "code",
   "execution_count": 74,
   "metadata": {
    "collapsed": false
   },
   "outputs": [
    {
     "data": {
      "text/html": [
       "<div>\n",
       "<table border=\"1\" class=\"dataframe\">\n",
       "  <thead>\n",
       "    <tr style=\"text-align: right;\">\n",
       "      <th></th>\n",
       "      <th>decision</th>\n",
       "      <th>age</th>\n",
       "      <th>attractive</th>\n",
       "      <th>sincere</th>\n",
       "      <th>intelligent</th>\n",
       "      <th>fun</th>\n",
       "      <th>ambitious</th>\n",
       "      <th>shared interests</th>\n",
       "      <th>gender_0</th>\n",
       "      <th>gender_1</th>\n",
       "      <th>intercept</th>\n",
       "    </tr>\n",
       "  </thead>\n",
       "  <tbody>\n",
       "    <tr>\n",
       "      <th>count</th>\n",
       "      <td>6959.000000</td>\n",
       "      <td>6959.000000</td>\n",
       "      <td>6959.000000</td>\n",
       "      <td>6959.000000</td>\n",
       "      <td>6959.000000</td>\n",
       "      <td>6959.000000</td>\n",
       "      <td>6959.000000</td>\n",
       "      <td>6959.000000</td>\n",
       "      <td>6959.000000</td>\n",
       "      <td>6959.000000</td>\n",
       "      <td>6959.0</td>\n",
       "    </tr>\n",
       "    <tr>\n",
       "      <th>mean</th>\n",
       "      <td>0.429947</td>\n",
       "      <td>26.318437</td>\n",
       "      <td>6.183561</td>\n",
       "      <td>7.162954</td>\n",
       "      <td>7.361690</td>\n",
       "      <td>6.395315</td>\n",
       "      <td>6.759089</td>\n",
       "      <td>5.460052</td>\n",
       "      <td>0.506538</td>\n",
       "      <td>0.493462</td>\n",
       "      <td>1.0</td>\n",
       "    </tr>\n",
       "    <tr>\n",
       "      <th>std</th>\n",
       "      <td>0.495104</td>\n",
       "      <td>3.564386</td>\n",
       "      <td>1.949638</td>\n",
       "      <td>1.745162</td>\n",
       "      <td>1.559914</td>\n",
       "      <td>1.959143</td>\n",
       "      <td>1.797901</td>\n",
       "      <td>2.149901</td>\n",
       "      <td>0.499993</td>\n",
       "      <td>0.499993</td>\n",
       "      <td>0.0</td>\n",
       "    </tr>\n",
       "    <tr>\n",
       "      <th>min</th>\n",
       "      <td>0.000000</td>\n",
       "      <td>18.000000</td>\n",
       "      <td>0.000000</td>\n",
       "      <td>0.000000</td>\n",
       "      <td>0.000000</td>\n",
       "      <td>0.000000</td>\n",
       "      <td>0.000000</td>\n",
       "      <td>0.000000</td>\n",
       "      <td>0.000000</td>\n",
       "      <td>0.000000</td>\n",
       "      <td>1.0</td>\n",
       "    </tr>\n",
       "    <tr>\n",
       "      <th>25%</th>\n",
       "      <td>0.000000</td>\n",
       "      <td>24.000000</td>\n",
       "      <td>5.000000</td>\n",
       "      <td>6.000000</td>\n",
       "      <td>6.000000</td>\n",
       "      <td>5.000000</td>\n",
       "      <td>6.000000</td>\n",
       "      <td>4.000000</td>\n",
       "      <td>0.000000</td>\n",
       "      <td>0.000000</td>\n",
       "      <td>1.0</td>\n",
       "    </tr>\n",
       "    <tr>\n",
       "      <th>50%</th>\n",
       "      <td>0.000000</td>\n",
       "      <td>26.000000</td>\n",
       "      <td>6.000000</td>\n",
       "      <td>7.000000</td>\n",
       "      <td>7.000000</td>\n",
       "      <td>7.000000</td>\n",
       "      <td>7.000000</td>\n",
       "      <td>6.000000</td>\n",
       "      <td>1.000000</td>\n",
       "      <td>0.000000</td>\n",
       "      <td>1.0</td>\n",
       "    </tr>\n",
       "    <tr>\n",
       "      <th>75%</th>\n",
       "      <td>1.000000</td>\n",
       "      <td>28.000000</td>\n",
       "      <td>8.000000</td>\n",
       "      <td>8.000000</td>\n",
       "      <td>8.000000</td>\n",
       "      <td>8.000000</td>\n",
       "      <td>8.000000</td>\n",
       "      <td>7.000000</td>\n",
       "      <td>1.000000</td>\n",
       "      <td>1.000000</td>\n",
       "      <td>1.0</td>\n",
       "    </tr>\n",
       "    <tr>\n",
       "      <th>max</th>\n",
       "      <td>1.000000</td>\n",
       "      <td>55.000000</td>\n",
       "      <td>10.000000</td>\n",
       "      <td>10.000000</td>\n",
       "      <td>10.000000</td>\n",
       "      <td>11.000000</td>\n",
       "      <td>10.000000</td>\n",
       "      <td>10.000000</td>\n",
       "      <td>1.000000</td>\n",
       "      <td>1.000000</td>\n",
       "      <td>1.0</td>\n",
       "    </tr>\n",
       "  </tbody>\n",
       "</table>\n",
       "</div>"
      ],
      "text/plain": [
       "          decision          age   attractive      sincere  intelligent  \\\n",
       "count  6959.000000  6959.000000  6959.000000  6959.000000  6959.000000   \n",
       "mean      0.429947    26.318437     6.183561     7.162954     7.361690   \n",
       "std       0.495104     3.564386     1.949638     1.745162     1.559914   \n",
       "min       0.000000    18.000000     0.000000     0.000000     0.000000   \n",
       "25%       0.000000    24.000000     5.000000     6.000000     6.000000   \n",
       "50%       0.000000    26.000000     6.000000     7.000000     7.000000   \n",
       "75%       1.000000    28.000000     8.000000     8.000000     8.000000   \n",
       "max       1.000000    55.000000    10.000000    10.000000    10.000000   \n",
       "\n",
       "               fun    ambitious  shared interests     gender_0     gender_1  \\\n",
       "count  6959.000000  6959.000000       6959.000000  6959.000000  6959.000000   \n",
       "mean      6.395315     6.759089          5.460052     0.506538     0.493462   \n",
       "std       1.959143     1.797901          2.149901     0.499993     0.499993   \n",
       "min       0.000000     0.000000          0.000000     0.000000     0.000000   \n",
       "25%       5.000000     6.000000          4.000000     0.000000     0.000000   \n",
       "50%       7.000000     7.000000          6.000000     1.000000     0.000000   \n",
       "75%       8.000000     8.000000          7.000000     1.000000     1.000000   \n",
       "max      11.000000    10.000000         10.000000     1.000000     1.000000   \n",
       "\n",
       "       intercept  \n",
       "count     6959.0  \n",
       "mean         1.0  \n",
       "std          0.0  \n",
       "min          1.0  \n",
       "25%          1.0  \n",
       "50%          1.0  \n",
       "75%          1.0  \n",
       "max          1.0  "
      ]
     },
     "execution_count": 74,
     "metadata": {},
     "output_type": "execute_result"
    }
   ],
   "source": [
    "data_c.describe()"
   ]
  },
  {
   "cell_type": "code",
   "execution_count": 75,
   "metadata": {
    "collapsed": false
   },
   "outputs": [
    {
     "data": {
      "text/html": [
       "<div>\n",
       "<table border=\"1\" class=\"dataframe\">\n",
       "  <thead>\n",
       "    <tr style=\"text-align: right;\">\n",
       "      <th></th>\n",
       "      <th>decision</th>\n",
       "      <th>age</th>\n",
       "      <th>attractive</th>\n",
       "      <th>sincere</th>\n",
       "      <th>intelligent</th>\n",
       "      <th>fun</th>\n",
       "      <th>ambitious</th>\n",
       "      <th>shared interests</th>\n",
       "      <th>gender_0</th>\n",
       "      <th>gender_1</th>\n",
       "      <th>intercept</th>\n",
       "    </tr>\n",
       "  </thead>\n",
       "  <tbody>\n",
       "    <tr>\n",
       "      <th>count</th>\n",
       "      <td>6959.000000</td>\n",
       "      <td>6959.000000</td>\n",
       "      <td>6959.000000</td>\n",
       "      <td>6959.000000</td>\n",
       "      <td>6959.000000</td>\n",
       "      <td>6959.000000</td>\n",
       "      <td>6959.000000</td>\n",
       "      <td>6959.000000</td>\n",
       "      <td>6959.000000</td>\n",
       "      <td>6959.000000</td>\n",
       "      <td>6959.0</td>\n",
       "    </tr>\n",
       "    <tr>\n",
       "      <th>mean</th>\n",
       "      <td>0.429947</td>\n",
       "      <td>26.318437</td>\n",
       "      <td>6.183561</td>\n",
       "      <td>7.162954</td>\n",
       "      <td>7.361690</td>\n",
       "      <td>6.395172</td>\n",
       "      <td>6.759089</td>\n",
       "      <td>5.460052</td>\n",
       "      <td>0.506538</td>\n",
       "      <td>0.493462</td>\n",
       "      <td>1.0</td>\n",
       "    </tr>\n",
       "    <tr>\n",
       "      <th>std</th>\n",
       "      <td>0.495104</td>\n",
       "      <td>3.564386</td>\n",
       "      <td>1.949638</td>\n",
       "      <td>1.745162</td>\n",
       "      <td>1.559914</td>\n",
       "      <td>1.958842</td>\n",
       "      <td>1.797901</td>\n",
       "      <td>2.149901</td>\n",
       "      <td>0.499993</td>\n",
       "      <td>0.499993</td>\n",
       "      <td>0.0</td>\n",
       "    </tr>\n",
       "    <tr>\n",
       "      <th>min</th>\n",
       "      <td>0.000000</td>\n",
       "      <td>18.000000</td>\n",
       "      <td>0.000000</td>\n",
       "      <td>0.000000</td>\n",
       "      <td>0.000000</td>\n",
       "      <td>0.000000</td>\n",
       "      <td>0.000000</td>\n",
       "      <td>0.000000</td>\n",
       "      <td>0.000000</td>\n",
       "      <td>0.000000</td>\n",
       "      <td>1.0</td>\n",
       "    </tr>\n",
       "    <tr>\n",
       "      <th>25%</th>\n",
       "      <td>0.000000</td>\n",
       "      <td>24.000000</td>\n",
       "      <td>5.000000</td>\n",
       "      <td>6.000000</td>\n",
       "      <td>6.000000</td>\n",
       "      <td>5.000000</td>\n",
       "      <td>6.000000</td>\n",
       "      <td>4.000000</td>\n",
       "      <td>0.000000</td>\n",
       "      <td>0.000000</td>\n",
       "      <td>1.0</td>\n",
       "    </tr>\n",
       "    <tr>\n",
       "      <th>50%</th>\n",
       "      <td>0.000000</td>\n",
       "      <td>26.000000</td>\n",
       "      <td>6.000000</td>\n",
       "      <td>7.000000</td>\n",
       "      <td>7.000000</td>\n",
       "      <td>7.000000</td>\n",
       "      <td>7.000000</td>\n",
       "      <td>6.000000</td>\n",
       "      <td>1.000000</td>\n",
       "      <td>0.000000</td>\n",
       "      <td>1.0</td>\n",
       "    </tr>\n",
       "    <tr>\n",
       "      <th>75%</th>\n",
       "      <td>1.000000</td>\n",
       "      <td>28.000000</td>\n",
       "      <td>8.000000</td>\n",
       "      <td>8.000000</td>\n",
       "      <td>8.000000</td>\n",
       "      <td>8.000000</td>\n",
       "      <td>8.000000</td>\n",
       "      <td>7.000000</td>\n",
       "      <td>1.000000</td>\n",
       "      <td>1.000000</td>\n",
       "      <td>1.0</td>\n",
       "    </tr>\n",
       "    <tr>\n",
       "      <th>max</th>\n",
       "      <td>1.000000</td>\n",
       "      <td>55.000000</td>\n",
       "      <td>10.000000</td>\n",
       "      <td>10.000000</td>\n",
       "      <td>10.000000</td>\n",
       "      <td>10.000000</td>\n",
       "      <td>10.000000</td>\n",
       "      <td>10.000000</td>\n",
       "      <td>1.000000</td>\n",
       "      <td>1.000000</td>\n",
       "      <td>1.0</td>\n",
       "    </tr>\n",
       "  </tbody>\n",
       "</table>\n",
       "</div>"
      ],
      "text/plain": [
       "          decision          age   attractive      sincere  intelligent  \\\n",
       "count  6959.000000  6959.000000  6959.000000  6959.000000  6959.000000   \n",
       "mean      0.429947    26.318437     6.183561     7.162954     7.361690   \n",
       "std       0.495104     3.564386     1.949638     1.745162     1.559914   \n",
       "min       0.000000    18.000000     0.000000     0.000000     0.000000   \n",
       "25%       0.000000    24.000000     5.000000     6.000000     6.000000   \n",
       "50%       0.000000    26.000000     6.000000     7.000000     7.000000   \n",
       "75%       1.000000    28.000000     8.000000     8.000000     8.000000   \n",
       "max       1.000000    55.000000    10.000000    10.000000    10.000000   \n",
       "\n",
       "               fun    ambitious  shared interests     gender_0     gender_1  \\\n",
       "count  6959.000000  6959.000000       6959.000000  6959.000000  6959.000000   \n",
       "mean      6.395172     6.759089          5.460052     0.506538     0.493462   \n",
       "std       1.958842     1.797901          2.149901     0.499993     0.499993   \n",
       "min       0.000000     0.000000          0.000000     0.000000     0.000000   \n",
       "25%       5.000000     6.000000          4.000000     0.000000     0.000000   \n",
       "50%       7.000000     7.000000          6.000000     1.000000     0.000000   \n",
       "75%       8.000000     8.000000          7.000000     1.000000     1.000000   \n",
       "max      10.000000    10.000000         10.000000     1.000000     1.000000   \n",
       "\n",
       "       intercept  \n",
       "count     6959.0  \n",
       "mean         1.0  \n",
       "std          0.0  \n",
       "min          1.0  \n",
       "25%          1.0  \n",
       "50%          1.0  \n",
       "75%          1.0  \n",
       "max          1.0  "
      ]
     },
     "execution_count": 75,
     "metadata": {},
     "output_type": "execute_result"
    }
   ],
   "source": [
    "data_c = data_c.replace(11, 10)\n",
    "data_c.describe()"
   ]
  },
  {
   "cell_type": "code",
   "execution_count": 76,
   "metadata": {
    "collapsed": false,
    "scrolled": true
   },
   "outputs": [
    {
     "data": {
      "text/html": [
       "<div>\n",
       "<table border=\"1\" class=\"dataframe\">\n",
       "  <thead>\n",
       "    <tr style=\"text-align: right;\">\n",
       "      <th></th>\n",
       "      <th>decision</th>\n",
       "      <th>age</th>\n",
       "      <th>attractive</th>\n",
       "      <th>sincere</th>\n",
       "      <th>intelligent</th>\n",
       "      <th>fun</th>\n",
       "      <th>ambitious</th>\n",
       "      <th>shared interests</th>\n",
       "      <th>gender_0</th>\n",
       "      <th>gender_1</th>\n",
       "      <th>intercept</th>\n",
       "    </tr>\n",
       "  </thead>\n",
       "  <tbody>\n",
       "    <tr>\n",
       "      <th>decision</th>\n",
       "      <td>1.000000</td>\n",
       "      <td>-0.046645</td>\n",
       "      <td>0.487717</td>\n",
       "      <td>0.207160</td>\n",
       "      <td>0.214155</td>\n",
       "      <td>0.411843</td>\n",
       "      <td>0.184109</td>\n",
       "      <td>0.400070</td>\n",
       "      <td>0.117529</td>\n",
       "      <td>-0.117529</td>\n",
       "      <td>NaN</td>\n",
       "    </tr>\n",
       "    <tr>\n",
       "      <th>age</th>\n",
       "      <td>-0.046645</td>\n",
       "      <td>1.000000</td>\n",
       "      <td>-0.047709</td>\n",
       "      <td>0.004041</td>\n",
       "      <td>0.033008</td>\n",
       "      <td>-0.035223</td>\n",
       "      <td>0.019968</td>\n",
       "      <td>0.005233</td>\n",
       "      <td>-0.071570</td>\n",
       "      <td>0.071570</td>\n",
       "      <td>NaN</td>\n",
       "    </tr>\n",
       "    <tr>\n",
       "      <th>attractive</th>\n",
       "      <td>0.487717</td>\n",
       "      <td>-0.047709</td>\n",
       "      <td>1.000000</td>\n",
       "      <td>0.406055</td>\n",
       "      <td>0.388974</td>\n",
       "      <td>0.590472</td>\n",
       "      <td>0.359268</td>\n",
       "      <td>0.490608</td>\n",
       "      <td>0.129130</td>\n",
       "      <td>-0.129130</td>\n",
       "      <td>NaN</td>\n",
       "    </tr>\n",
       "    <tr>\n",
       "      <th>sincere</th>\n",
       "      <td>0.207160</td>\n",
       "      <td>0.004041</td>\n",
       "      <td>0.406055</td>\n",
       "      <td>1.000000</td>\n",
       "      <td>0.667933</td>\n",
       "      <td>0.507764</td>\n",
       "      <td>0.464358</td>\n",
       "      <td>0.398944</td>\n",
       "      <td>0.041191</td>\n",
       "      <td>-0.041191</td>\n",
       "      <td>NaN</td>\n",
       "    </tr>\n",
       "    <tr>\n",
       "      <th>intelligent</th>\n",
       "      <td>0.214155</td>\n",
       "      <td>0.033008</td>\n",
       "      <td>0.388974</td>\n",
       "      <td>0.667933</td>\n",
       "      <td>1.000000</td>\n",
       "      <td>0.500992</td>\n",
       "      <td>0.629279</td>\n",
       "      <td>0.401784</td>\n",
       "      <td>-0.057852</td>\n",
       "      <td>0.057852</td>\n",
       "      <td>NaN</td>\n",
       "    </tr>\n",
       "    <tr>\n",
       "      <th>fun</th>\n",
       "      <td>0.411843</td>\n",
       "      <td>-0.035223</td>\n",
       "      <td>0.590472</td>\n",
       "      <td>0.507764</td>\n",
       "      <td>0.500992</td>\n",
       "      <td>1.000000</td>\n",
       "      <td>0.493640</td>\n",
       "      <td>0.617335</td>\n",
       "      <td>0.058479</td>\n",
       "      <td>-0.058479</td>\n",
       "      <td>NaN</td>\n",
       "    </tr>\n",
       "    <tr>\n",
       "      <th>ambitious</th>\n",
       "      <td>0.184109</td>\n",
       "      <td>0.019968</td>\n",
       "      <td>0.359268</td>\n",
       "      <td>0.464358</td>\n",
       "      <td>0.629279</td>\n",
       "      <td>0.493640</td>\n",
       "      <td>1.000000</td>\n",
       "      <td>0.434890</td>\n",
       "      <td>-0.098770</td>\n",
       "      <td>0.098770</td>\n",
       "      <td>NaN</td>\n",
       "    </tr>\n",
       "    <tr>\n",
       "      <th>shared interests</th>\n",
       "      <td>0.400070</td>\n",
       "      <td>0.005233</td>\n",
       "      <td>0.490608</td>\n",
       "      <td>0.398944</td>\n",
       "      <td>0.401784</td>\n",
       "      <td>0.617335</td>\n",
       "      <td>0.434890</td>\n",
       "      <td>1.000000</td>\n",
       "      <td>0.029991</td>\n",
       "      <td>-0.029991</td>\n",
       "      <td>NaN</td>\n",
       "    </tr>\n",
       "    <tr>\n",
       "      <th>gender_0</th>\n",
       "      <td>0.117529</td>\n",
       "      <td>-0.071570</td>\n",
       "      <td>0.129130</td>\n",
       "      <td>0.041191</td>\n",
       "      <td>-0.057852</td>\n",
       "      <td>0.058479</td>\n",
       "      <td>-0.098770</td>\n",
       "      <td>0.029991</td>\n",
       "      <td>1.000000</td>\n",
       "      <td>-1.000000</td>\n",
       "      <td>NaN</td>\n",
       "    </tr>\n",
       "    <tr>\n",
       "      <th>gender_1</th>\n",
       "      <td>-0.117529</td>\n",
       "      <td>0.071570</td>\n",
       "      <td>-0.129130</td>\n",
       "      <td>-0.041191</td>\n",
       "      <td>0.057852</td>\n",
       "      <td>-0.058479</td>\n",
       "      <td>0.098770</td>\n",
       "      <td>-0.029991</td>\n",
       "      <td>-1.000000</td>\n",
       "      <td>1.000000</td>\n",
       "      <td>NaN</td>\n",
       "    </tr>\n",
       "    <tr>\n",
       "      <th>intercept</th>\n",
       "      <td>NaN</td>\n",
       "      <td>NaN</td>\n",
       "      <td>NaN</td>\n",
       "      <td>NaN</td>\n",
       "      <td>NaN</td>\n",
       "      <td>NaN</td>\n",
       "      <td>NaN</td>\n",
       "      <td>NaN</td>\n",
       "      <td>NaN</td>\n",
       "      <td>NaN</td>\n",
       "      <td>NaN</td>\n",
       "    </tr>\n",
       "  </tbody>\n",
       "</table>\n",
       "</div>"
      ],
      "text/plain": [
       "                  decision       age  attractive   sincere  intelligent  \\\n",
       "decision          1.000000 -0.046645    0.487717  0.207160     0.214155   \n",
       "age              -0.046645  1.000000   -0.047709  0.004041     0.033008   \n",
       "attractive        0.487717 -0.047709    1.000000  0.406055     0.388974   \n",
       "sincere           0.207160  0.004041    0.406055  1.000000     0.667933   \n",
       "intelligent       0.214155  0.033008    0.388974  0.667933     1.000000   \n",
       "fun               0.411843 -0.035223    0.590472  0.507764     0.500992   \n",
       "ambitious         0.184109  0.019968    0.359268  0.464358     0.629279   \n",
       "shared interests  0.400070  0.005233    0.490608  0.398944     0.401784   \n",
       "gender_0          0.117529 -0.071570    0.129130  0.041191    -0.057852   \n",
       "gender_1         -0.117529  0.071570   -0.129130 -0.041191     0.057852   \n",
       "intercept              NaN       NaN         NaN       NaN          NaN   \n",
       "\n",
       "                       fun  ambitious  shared interests  gender_0  gender_1  \\\n",
       "decision          0.411843   0.184109          0.400070  0.117529 -0.117529   \n",
       "age              -0.035223   0.019968          0.005233 -0.071570  0.071570   \n",
       "attractive        0.590472   0.359268          0.490608  0.129130 -0.129130   \n",
       "sincere           0.507764   0.464358          0.398944  0.041191 -0.041191   \n",
       "intelligent       0.500992   0.629279          0.401784 -0.057852  0.057852   \n",
       "fun               1.000000   0.493640          0.617335  0.058479 -0.058479   \n",
       "ambitious         0.493640   1.000000          0.434890 -0.098770  0.098770   \n",
       "shared interests  0.617335   0.434890          1.000000  0.029991 -0.029991   \n",
       "gender_0          0.058479  -0.098770          0.029991  1.000000 -1.000000   \n",
       "gender_1         -0.058479   0.098770         -0.029991 -1.000000  1.000000   \n",
       "intercept              NaN        NaN               NaN       NaN       NaN   \n",
       "\n",
       "                  intercept  \n",
       "decision                NaN  \n",
       "age                     NaN  \n",
       "attractive              NaN  \n",
       "sincere                 NaN  \n",
       "intelligent             NaN  \n",
       "fun                     NaN  \n",
       "ambitious               NaN  \n",
       "shared interests        NaN  \n",
       "gender_0                NaN  \n",
       "gender_1                NaN  \n",
       "intercept               NaN  "
      ]
     },
     "execution_count": 76,
     "metadata": {},
     "output_type": "execute_result"
    }
   ],
   "source": [
    "data_c.corr()"
   ]
  },
  {
   "cell_type": "code",
   "execution_count": 77,
   "metadata": {
    "collapsed": false
   },
   "outputs": [
    {
     "name": "stdout",
     "output_type": "stream",
     "text": [
      "decision            0.495104\n",
      "age                 3.564386\n",
      "attractive          1.949638\n",
      "sincere             1.745162\n",
      "intelligent         1.559914\n",
      "fun                 1.958842\n",
      "ambitious           1.797901\n",
      "shared interests    2.149901\n",
      "gender_0            0.499993\n",
      "gender_1            0.499993\n",
      "intercept           0.000000\n",
      "dtype: float64\n"
     ]
    }
   ],
   "source": [
    "print data_c.std()"
   ]
  },
  {
   "cell_type": "markdown",
   "metadata": {},
   "source": [
    "### Dataset (Female only)"
   ]
  },
  {
   "cell_type": "code",
   "execution_count": 78,
   "metadata": {
    "collapsed": false,
    "scrolled": true
   },
   "outputs": [
    {
     "data": {
      "text/html": [
       "<div>\n",
       "<table border=\"1\" class=\"dataframe\">\n",
       "  <thead>\n",
       "    <tr style=\"text-align: right;\">\n",
       "      <th></th>\n",
       "      <th>decision</th>\n",
       "      <th>age</th>\n",
       "      <th>attractive</th>\n",
       "      <th>sincere</th>\n",
       "      <th>intelligent</th>\n",
       "      <th>fun</th>\n",
       "      <th>ambitious</th>\n",
       "      <th>shared interests</th>\n",
       "      <th>gender_0</th>\n",
       "      <th>intercept</th>\n",
       "    </tr>\n",
       "  </thead>\n",
       "  <tbody>\n",
       "    <tr>\n",
       "      <th>0</th>\n",
       "      <td>0</td>\n",
       "      <td>21.0</td>\n",
       "      <td>6.0</td>\n",
       "      <td>8.0</td>\n",
       "      <td>8.0</td>\n",
       "      <td>8.0</td>\n",
       "      <td>8.0</td>\n",
       "      <td>6.0</td>\n",
       "      <td>1.0</td>\n",
       "      <td>1.0</td>\n",
       "    </tr>\n",
       "    <tr>\n",
       "      <th>1</th>\n",
       "      <td>0</td>\n",
       "      <td>21.0</td>\n",
       "      <td>7.0</td>\n",
       "      <td>8.0</td>\n",
       "      <td>10.0</td>\n",
       "      <td>7.0</td>\n",
       "      <td>7.0</td>\n",
       "      <td>5.0</td>\n",
       "      <td>1.0</td>\n",
       "      <td>1.0</td>\n",
       "    </tr>\n",
       "    <tr>\n",
       "      <th>2</th>\n",
       "      <td>1</td>\n",
       "      <td>21.0</td>\n",
       "      <td>10.0</td>\n",
       "      <td>10.0</td>\n",
       "      <td>10.0</td>\n",
       "      <td>10.0</td>\n",
       "      <td>10.0</td>\n",
       "      <td>10.0</td>\n",
       "      <td>1.0</td>\n",
       "      <td>1.0</td>\n",
       "    </tr>\n",
       "    <tr>\n",
       "      <th>3</th>\n",
       "      <td>1</td>\n",
       "      <td>21.0</td>\n",
       "      <td>7.0</td>\n",
       "      <td>8.0</td>\n",
       "      <td>9.0</td>\n",
       "      <td>8.0</td>\n",
       "      <td>9.0</td>\n",
       "      <td>8.0</td>\n",
       "      <td>1.0</td>\n",
       "      <td>1.0</td>\n",
       "    </tr>\n",
       "    <tr>\n",
       "      <th>4</th>\n",
       "      <td>1</td>\n",
       "      <td>21.0</td>\n",
       "      <td>8.0</td>\n",
       "      <td>7.0</td>\n",
       "      <td>9.0</td>\n",
       "      <td>6.0</td>\n",
       "      <td>9.0</td>\n",
       "      <td>7.0</td>\n",
       "      <td>1.0</td>\n",
       "      <td>1.0</td>\n",
       "    </tr>\n",
       "  </tbody>\n",
       "</table>\n",
       "</div>"
      ],
      "text/plain": [
       "   decision   age  attractive  sincere  intelligent   fun  ambitious  \\\n",
       "0         0  21.0         6.0      8.0          8.0   8.0        8.0   \n",
       "1         0  21.0         7.0      8.0         10.0   7.0        7.0   \n",
       "2         1  21.0        10.0     10.0         10.0  10.0       10.0   \n",
       "3         1  21.0         7.0      8.0          9.0   8.0        9.0   \n",
       "4         1  21.0         8.0      7.0          9.0   6.0        9.0   \n",
       "\n",
       "   shared interests  gender_0  intercept  \n",
       "0               6.0       1.0        1.0  \n",
       "1               5.0       1.0        1.0  \n",
       "2              10.0       1.0        1.0  \n",
       "3               8.0       1.0        1.0  \n",
       "4               7.0       1.0        1.0  "
      ]
     },
     "execution_count": 78,
     "metadata": {},
     "output_type": "execute_result"
    }
   ],
   "source": [
    "subF = data_c[(data_c['gender_0']== 1)]\n",
    "del subF['gender_1']\n",
    "subF.head()"
   ]
  },
  {
   "cell_type": "code",
   "execution_count": 116,
   "metadata": {
    "collapsed": false
   },
   "outputs": [
    {
     "name": "stdout",
     "output_type": "stream",
     "text": [
      "   decision   age  attractive  sincere  intelligent   fun  ambitious  \\\n",
      "0         0  21.0         6.0      8.0          8.0   8.0        8.0   \n",
      "1         0  21.0         7.0      8.0         10.0   7.0        7.0   \n",
      "2         1  21.0        10.0     10.0         10.0  10.0       10.0   \n",
      "3         1  21.0         7.0      8.0          9.0   8.0        9.0   \n",
      "4         1  21.0         8.0      7.0          9.0   6.0        9.0   \n",
      "\n",
      "   shared interests  intercept  \n",
      "0               6.0        1.0  \n",
      "1               5.0        1.0  \n",
      "2              10.0        1.0  \n",
      "3               8.0        1.0  \n",
      "4               7.0        1.0  \n"
     ]
    }
   ],
   "source": [
    "cols_to_keep = ['decision', 'age','attractive', 'sincere', 'intelligent', 'fun', 'ambitious', 'shared interests', 'intercept']\n",
    "data_fem = subF[cols_to_keep]\n",
    "print data_fem.head()"
   ]
  },
  {
   "cell_type": "markdown",
   "metadata": {},
   "source": [
    "### Analysis"
   ]
  },
  {
   "cell_type": "code",
   "execution_count": 117,
   "metadata": {
    "collapsed": false
   },
   "outputs": [
    {
     "data": {
      "text/html": [
       "<div>\n",
       "<table border=\"1\" class=\"dataframe\">\n",
       "  <thead>\n",
       "    <tr style=\"text-align: right;\">\n",
       "      <th></th>\n",
       "      <th>decision</th>\n",
       "      <th>age</th>\n",
       "      <th>attractive</th>\n",
       "      <th>sincere</th>\n",
       "      <th>intelligent</th>\n",
       "      <th>fun</th>\n",
       "      <th>ambitious</th>\n",
       "      <th>shared interests</th>\n",
       "      <th>intercept</th>\n",
       "    </tr>\n",
       "  </thead>\n",
       "  <tbody>\n",
       "    <tr>\n",
       "      <th>decision</th>\n",
       "      <td>1.000000</td>\n",
       "      <td>-0.041354</td>\n",
       "      <td>0.519460</td>\n",
       "      <td>0.185635</td>\n",
       "      <td>0.209391</td>\n",
       "      <td>0.402063</td>\n",
       "      <td>0.211431</td>\n",
       "      <td>0.386069</td>\n",
       "      <td>NaN</td>\n",
       "    </tr>\n",
       "    <tr>\n",
       "      <th>age</th>\n",
       "      <td>-0.041354</td>\n",
       "      <td>1.000000</td>\n",
       "      <td>-0.057430</td>\n",
       "      <td>0.025408</td>\n",
       "      <td>0.041816</td>\n",
       "      <td>-0.046985</td>\n",
       "      <td>0.004968</td>\n",
       "      <td>0.011518</td>\n",
       "      <td>NaN</td>\n",
       "    </tr>\n",
       "    <tr>\n",
       "      <th>attractive</th>\n",
       "      <td>0.519460</td>\n",
       "      <td>-0.057430</td>\n",
       "      <td>1.000000</td>\n",
       "      <td>0.395661</td>\n",
       "      <td>0.413555</td>\n",
       "      <td>0.567985</td>\n",
       "      <td>0.416321</td>\n",
       "      <td>0.462070</td>\n",
       "      <td>NaN</td>\n",
       "    </tr>\n",
       "    <tr>\n",
       "      <th>sincere</th>\n",
       "      <td>0.185635</td>\n",
       "      <td>0.025408</td>\n",
       "      <td>0.395661</td>\n",
       "      <td>1.000000</td>\n",
       "      <td>0.666376</td>\n",
       "      <td>0.506795</td>\n",
       "      <td>0.447917</td>\n",
       "      <td>0.384916</td>\n",
       "      <td>NaN</td>\n",
       "    </tr>\n",
       "    <tr>\n",
       "      <th>intelligent</th>\n",
       "      <td>0.209391</td>\n",
       "      <td>0.041816</td>\n",
       "      <td>0.413555</td>\n",
       "      <td>0.666376</td>\n",
       "      <td>1.000000</td>\n",
       "      <td>0.531545</td>\n",
       "      <td>0.603450</td>\n",
       "      <td>0.408500</td>\n",
       "      <td>NaN</td>\n",
       "    </tr>\n",
       "    <tr>\n",
       "      <th>fun</th>\n",
       "      <td>0.402063</td>\n",
       "      <td>-0.046985</td>\n",
       "      <td>0.567985</td>\n",
       "      <td>0.506795</td>\n",
       "      <td>0.531545</td>\n",
       "      <td>1.000000</td>\n",
       "      <td>0.533609</td>\n",
       "      <td>0.589523</td>\n",
       "      <td>NaN</td>\n",
       "    </tr>\n",
       "    <tr>\n",
       "      <th>ambitious</th>\n",
       "      <td>0.211431</td>\n",
       "      <td>0.004968</td>\n",
       "      <td>0.416321</td>\n",
       "      <td>0.447917</td>\n",
       "      <td>0.603450</td>\n",
       "      <td>0.533609</td>\n",
       "      <td>1.000000</td>\n",
       "      <td>0.474901</td>\n",
       "      <td>NaN</td>\n",
       "    </tr>\n",
       "    <tr>\n",
       "      <th>shared interests</th>\n",
       "      <td>0.386069</td>\n",
       "      <td>0.011518</td>\n",
       "      <td>0.462070</td>\n",
       "      <td>0.384916</td>\n",
       "      <td>0.408500</td>\n",
       "      <td>0.589523</td>\n",
       "      <td>0.474901</td>\n",
       "      <td>1.000000</td>\n",
       "      <td>NaN</td>\n",
       "    </tr>\n",
       "    <tr>\n",
       "      <th>intercept</th>\n",
       "      <td>NaN</td>\n",
       "      <td>NaN</td>\n",
       "      <td>NaN</td>\n",
       "      <td>NaN</td>\n",
       "      <td>NaN</td>\n",
       "      <td>NaN</td>\n",
       "      <td>NaN</td>\n",
       "      <td>NaN</td>\n",
       "      <td>NaN</td>\n",
       "    </tr>\n",
       "  </tbody>\n",
       "</table>\n",
       "</div>"
      ],
      "text/plain": [
       "                  decision       age  attractive   sincere  intelligent  \\\n",
       "decision          1.000000 -0.041354    0.519460  0.185635     0.209391   \n",
       "age              -0.041354  1.000000   -0.057430  0.025408     0.041816   \n",
       "attractive        0.519460 -0.057430    1.000000  0.395661     0.413555   \n",
       "sincere           0.185635  0.025408    0.395661  1.000000     0.666376   \n",
       "intelligent       0.209391  0.041816    0.413555  0.666376     1.000000   \n",
       "fun               0.402063 -0.046985    0.567985  0.506795     0.531545   \n",
       "ambitious         0.211431  0.004968    0.416321  0.447917     0.603450   \n",
       "shared interests  0.386069  0.011518    0.462070  0.384916     0.408500   \n",
       "intercept              NaN       NaN         NaN       NaN          NaN   \n",
       "\n",
       "                       fun  ambitious  shared interests  intercept  \n",
       "decision          0.402063   0.211431          0.386069        NaN  \n",
       "age              -0.046985   0.004968          0.011518        NaN  \n",
       "attractive        0.567985   0.416321          0.462070        NaN  \n",
       "sincere           0.506795   0.447917          0.384916        NaN  \n",
       "intelligent       0.531545   0.603450          0.408500        NaN  \n",
       "fun               1.000000   0.533609          0.589523        NaN  \n",
       "ambitious         0.533609   1.000000          0.474901        NaN  \n",
       "shared interests  0.589523   0.474901          1.000000        NaN  \n",
       "intercept              NaN        NaN               NaN        NaN  "
      ]
     },
     "execution_count": 117,
     "metadata": {},
     "output_type": "execute_result"
    }
   ],
   "source": [
    "data_fem.corr()"
   ]
  },
  {
   "cell_type": "code",
   "execution_count": 118,
   "metadata": {
    "collapsed": false
   },
   "outputs": [
    {
     "name": "stdout",
     "output_type": "stream",
     "text": [
      "Index([u'age', u'attractive', u'sincere', u'intelligent', u'fun', u'ambitious',\n",
      "       u'shared interests', u'intercept'],\n",
      "      dtype='object')\n"
     ]
    }
   ],
   "source": [
    "# covariates\n",
    "train_cols = data_fem.columns[1:]\n",
    "print train_cols"
   ]
  },
  {
   "cell_type": "code",
   "execution_count": 119,
   "metadata": {
    "collapsed": true
   },
   "outputs": [],
   "source": [
    "# Fit the model"
   ]
  },
  {
   "cell_type": "code",
   "execution_count": 120,
   "metadata": {
    "collapsed": false
   },
   "outputs": [
    {
     "name": "stdout",
     "output_type": "stream",
     "text": [
      "Optimization terminated successfully.\n",
      "         Current function value: 0.501235\n",
      "         Iterations 6\n"
     ]
    }
   ],
   "source": [
    "logit_fem = sm.Logit(data_fem['decision'], data_fem[train_cols])\n",
    "result_F = logit_fem.fit()"
   ]
  },
  {
   "cell_type": "code",
   "execution_count": 121,
   "metadata": {
    "collapsed": false,
    "scrolled": true
   },
   "outputs": [
    {
     "name": "stdout",
     "output_type": "stream",
     "text": [
      "                           Logit Regression Results                           \n",
      "==============================================================================\n",
      "Dep. Variable:               decision   No. Observations:                 3525\n",
      "Model:                          Logit   Df Residuals:                     3517\n",
      "Method:                           MLE   Df Model:                            7\n",
      "Date:                Mon, 08 Aug 2016   Pseudo R-squ.:                  0.2765\n",
      "Time:                        11:18:26   Log-Likelihood:                -1766.9\n",
      "converged:                       True   LL-Null:                       -2442.2\n",
      "                                        LLR p-value:                1.764e-287\n",
      "====================================================================================\n",
      "                       coef    std err          z      P>|z|      [95.0% Conf. Int.]\n",
      "------------------------------------------------------------------------------------\n",
      "age                 -0.0047      0.011     -0.412      0.681        -0.027     0.018\n",
      "attractive           0.6912      0.033     20.675      0.000         0.626     0.757\n",
      "sincere             -0.1585      0.037     -4.274      0.000        -0.231    -0.086\n",
      "intelligent         -0.0356      0.043     -0.826      0.409        -0.120     0.049\n",
      "fun                  0.2593      0.035      7.502      0.000         0.192     0.327\n",
      "ambitious           -0.1574      0.034     -4.604      0.000        -0.224    -0.090\n",
      "shared interests     0.2671      0.026     10.141      0.000         0.215     0.319\n",
      "intercept           -5.1709      0.398    -12.981      0.000        -5.952    -4.390\n",
      "====================================================================================\n"
     ]
    }
   ],
   "source": [
    "print result_F.summary()"
   ]
  },
  {
   "cell_type": "markdown",
   "metadata": {},
   "source": [
    "### Subset data for logistic regression analyses (age <= 25)"
   ]
  },
  {
   "cell_type": "code",
   "execution_count": 122,
   "metadata": {
    "collapsed": false
   },
   "outputs": [],
   "source": [
    "sub2F=data_fem[(data_fem['age']<=25)]"
   ]
  },
  {
   "cell_type": "code",
   "execution_count": 123,
   "metadata": {
    "collapsed": true
   },
   "outputs": [],
   "source": [
    "# Fit the model"
   ]
  },
  {
   "cell_type": "code",
   "execution_count": 124,
   "metadata": {
    "collapsed": false,
    "scrolled": true
   },
   "outputs": [
    {
     "name": "stdout",
     "output_type": "stream",
     "text": [
      "Optimization terminated successfully.\n",
      "         Current function value: 0.486264\n",
      "         Iterations 6\n"
     ]
    }
   ],
   "source": [
    "logit2_fem = sm.Logit(sub2F['decision'], sub2F[train_cols])\n",
    "result_2F = logit2_fem.fit()"
   ]
  },
  {
   "cell_type": "code",
   "execution_count": 125,
   "metadata": {
    "collapsed": false,
    "scrolled": true
   },
   "outputs": [
    {
     "name": "stdout",
     "output_type": "stream",
     "text": [
      "                           Logit Regression Results                           \n",
      "==============================================================================\n",
      "Dep. Variable:               decision   No. Observations:                 1722\n",
      "Model:                          Logit   Df Residuals:                     1714\n",
      "Method:                           MLE   Df Model:                            7\n",
      "Date:                Mon, 08 Aug 2016   Pseudo R-squ.:                  0.2985\n",
      "Time:                        11:18:28   Log-Likelihood:                -837.35\n",
      "converged:                       True   LL-Null:                       -1193.6\n",
      "                                        LLR p-value:                1.390e-149\n",
      "====================================================================================\n",
      "                       coef    std err          z      P>|z|      [95.0% Conf. Int.]\n",
      "------------------------------------------------------------------------------------\n",
      "age                  0.0245      0.044      0.552      0.581        -0.063     0.112\n",
      "attractive           0.7459      0.051     14.741      0.000         0.647     0.845\n",
      "sincere             -0.1492      0.053     -2.798      0.005        -0.254    -0.045\n",
      "intelligent         -0.0098      0.061     -0.161      0.872        -0.129     0.109\n",
      "fun                  0.2555      0.051      5.059      0.000         0.157     0.355\n",
      "ambitious           -0.1523      0.049     -3.083      0.002        -0.249    -0.056\n",
      "shared interests     0.2585      0.038      6.782      0.000         0.184     0.333\n",
      "intercept           -6.4915      1.086     -5.978      0.000        -8.620    -4.363\n",
      "====================================================================================\n"
     ]
    }
   ],
   "source": [
    "print result_2F.summary()"
   ]
  },
  {
   "cell_type": "markdown",
   "metadata": {},
   "source": [
    "### Subset data for logistic regression analyses (25 < age <= 30)"
   ]
  },
  {
   "cell_type": "code",
   "execution_count": 126,
   "metadata": {
    "collapsed": false
   },
   "outputs": [],
   "source": [
    "sub3F=data_fem[(data_fem['age']>25) & ((data_fem['age']<=30))]"
   ]
  },
  {
   "cell_type": "code",
   "execution_count": 127,
   "metadata": {
    "collapsed": true
   },
   "outputs": [],
   "source": [
    "# Fit the model"
   ]
  },
  {
   "cell_type": "code",
   "execution_count": 128,
   "metadata": {
    "collapsed": false
   },
   "outputs": [
    {
     "name": "stdout",
     "output_type": "stream",
     "text": [
      "Optimization terminated successfully.\n",
      "         Current function value: 0.521776\n",
      "         Iterations 6\n"
     ]
    }
   ],
   "source": [
    "logit3_fem = sm.Logit(sub3F['decision'], sub3F[train_cols])\n",
    "result_3F = logit3_fem.fit()"
   ]
  },
  {
   "cell_type": "code",
   "execution_count": 129,
   "metadata": {
    "collapsed": false,
    "scrolled": true
   },
   "outputs": [
    {
     "name": "stdout",
     "output_type": "stream",
     "text": [
      "                           Logit Regression Results                           \n",
      "==============================================================================\n",
      "Dep. Variable:               decision   No. Observations:                 1442\n",
      "Model:                          Logit   Df Residuals:                     1434\n",
      "Method:                           MLE   Df Model:                            7\n",
      "Date:                Mon, 08 Aug 2016   Pseudo R-squ.:                  0.2472\n",
      "Time:                        11:18:29   Log-Likelihood:                -752.40\n",
      "converged:                       True   LL-Null:                       -999.51\n",
      "                                        LLR p-value:                1.398e-102\n",
      "====================================================================================\n",
      "                       coef    std err          z      P>|z|      [95.0% Conf. Int.]\n",
      "------------------------------------------------------------------------------------\n",
      "age                 -0.0168      0.046     -0.365      0.715        -0.107     0.074\n",
      "attractive           0.6290      0.050     12.652      0.000         0.532     0.726\n",
      "sincere             -0.1841      0.057     -3.230      0.001        -0.296    -0.072\n",
      "intelligent         -0.0351      0.067     -0.524      0.601        -0.166     0.096\n",
      "fun                  0.2561      0.053      4.876      0.000         0.153     0.359\n",
      "ambitious           -0.1817      0.052     -3.508      0.000        -0.283    -0.080\n",
      "shared interests     0.2849      0.041      7.029      0.000         0.205     0.364\n",
      "intercept           -4.0532      1.321     -3.069      0.002        -6.642    -1.465\n",
      "====================================================================================\n"
     ]
    }
   ],
   "source": [
    "print result_3F.summary()"
   ]
  },
  {
   "cell_type": "markdown",
   "metadata": {},
   "source": [
    "### Subset data for logistic regression analyses (30 < age <= 40)"
   ]
  },
  {
   "cell_type": "code",
   "execution_count": 130,
   "metadata": {
    "collapsed": true
   },
   "outputs": [],
   "source": [
    "sub4F=data_fem[(data_fem['age']>30) & ((data_fem['age']<=40))]"
   ]
  },
  {
   "cell_type": "code",
   "execution_count": 131,
   "metadata": {
    "collapsed": true
   },
   "outputs": [],
   "source": [
    "# Fit the model"
   ]
  },
  {
   "cell_type": "code",
   "execution_count": 132,
   "metadata": {
    "collapsed": false
   },
   "outputs": [
    {
     "name": "stdout",
     "output_type": "stream",
     "text": [
      "Optimization terminated successfully.\n",
      "         Current function value: 0.462956\n",
      "         Iterations 7\n"
     ]
    }
   ],
   "source": [
    "logit4_fem = sm.Logit(sub4F['decision'], sub4F[train_cols])\n",
    "result_4F = logit4_fem.fit()"
   ]
  },
  {
   "cell_type": "code",
   "execution_count": 133,
   "metadata": {
    "collapsed": false
   },
   "outputs": [
    {
     "name": "stdout",
     "output_type": "stream",
     "text": [
      "                           Logit Regression Results                           \n",
      "==============================================================================\n",
      "Dep. Variable:               decision   No. Observations:                  356\n",
      "Model:                          Logit   Df Residuals:                      348\n",
      "Method:                           MLE   Df Model:                            7\n",
      "Date:                Mon, 08 Aug 2016   Pseudo R-squ.:                  0.3066\n",
      "Time:                        11:18:30   Log-Likelihood:                -164.81\n",
      "converged:                       True   LL-Null:                       -237.69\n",
      "                                        LLR p-value:                 3.145e-28\n",
      "====================================================================================\n",
      "                       coef    std err          z      P>|z|      [95.0% Conf. Int.]\n",
      "------------------------------------------------------------------------------------\n",
      "age                 -0.0279      0.079     -0.355      0.723        -0.182     0.126\n",
      "attractive           0.7779      0.116      6.705      0.000         0.550     1.005\n",
      "sincere             -0.2046      0.135     -1.513      0.130        -0.470     0.060\n",
      "intelligent         -0.0969      0.161     -0.602      0.547        -0.412     0.218\n",
      "fun                  0.2989      0.120      2.487      0.013         0.063     0.534\n",
      "ambitious           -0.0891      0.124     -0.716      0.474        -0.333     0.155\n",
      "shared interests     0.2558      0.089      2.859      0.004         0.080     0.431\n",
      "intercept           -4.9648      2.804     -1.770      0.077       -10.461     0.531\n",
      "====================================================================================\n"
     ]
    }
   ],
   "source": [
    "print result_4F.summary()"
   ]
  },
  {
   "cell_type": "markdown",
   "metadata": {},
   "source": [
    "#### Subset data for logistic regression analyses (40 < age <= 50)"
   ]
  },
  {
   "cell_type": "code",
   "execution_count": 134,
   "metadata": {
    "collapsed": true
   },
   "outputs": [],
   "source": [
    "# Logistic Regression not possible (Less data)"
   ]
  },
  {
   "cell_type": "markdown",
   "metadata": {},
   "source": [
    "### Dataset (Male only)"
   ]
  },
  {
   "cell_type": "code",
   "execution_count": 135,
   "metadata": {
    "collapsed": false
   },
   "outputs": [
    {
     "data": {
      "text/html": [
       "<div>\n",
       "<table border=\"1\" class=\"dataframe\">\n",
       "  <thead>\n",
       "    <tr style=\"text-align: right;\">\n",
       "      <th></th>\n",
       "      <th>decision</th>\n",
       "      <th>age</th>\n",
       "      <th>attractive</th>\n",
       "      <th>sincere</th>\n",
       "      <th>intelligent</th>\n",
       "      <th>fun</th>\n",
       "      <th>ambitious</th>\n",
       "      <th>shared interests</th>\n",
       "      <th>gender_1</th>\n",
       "      <th>intercept</th>\n",
       "    </tr>\n",
       "  </thead>\n",
       "  <tbody>\n",
       "    <tr>\n",
       "      <th>8373</th>\n",
       "      <td>1</td>\n",
       "      <td>25.0</td>\n",
       "      <td>10.0</td>\n",
       "      <td>5.0</td>\n",
       "      <td>3.0</td>\n",
       "      <td>2.0</td>\n",
       "      <td>6.0</td>\n",
       "      <td>5.0</td>\n",
       "      <td>1.0</td>\n",
       "      <td>1.0</td>\n",
       "    </tr>\n",
       "    <tr>\n",
       "      <th>8374</th>\n",
       "      <td>0</td>\n",
       "      <td>25.0</td>\n",
       "      <td>6.0</td>\n",
       "      <td>3.0</td>\n",
       "      <td>7.0</td>\n",
       "      <td>3.0</td>\n",
       "      <td>7.0</td>\n",
       "      <td>2.0</td>\n",
       "      <td>1.0</td>\n",
       "      <td>1.0</td>\n",
       "    </tr>\n",
       "    <tr>\n",
       "      <th>8375</th>\n",
       "      <td>0</td>\n",
       "      <td>25.0</td>\n",
       "      <td>2.0</td>\n",
       "      <td>1.0</td>\n",
       "      <td>2.0</td>\n",
       "      <td>2.0</td>\n",
       "      <td>2.0</td>\n",
       "      <td>1.0</td>\n",
       "      <td>1.0</td>\n",
       "      <td>1.0</td>\n",
       "    </tr>\n",
       "    <tr>\n",
       "      <th>8376</th>\n",
       "      <td>1</td>\n",
       "      <td>25.0</td>\n",
       "      <td>5.0</td>\n",
       "      <td>7.0</td>\n",
       "      <td>5.0</td>\n",
       "      <td>5.0</td>\n",
       "      <td>3.0</td>\n",
       "      <td>6.0</td>\n",
       "      <td>1.0</td>\n",
       "      <td>1.0</td>\n",
       "    </tr>\n",
       "    <tr>\n",
       "      <th>8377</th>\n",
       "      <td>1</td>\n",
       "      <td>25.0</td>\n",
       "      <td>8.0</td>\n",
       "      <td>8.0</td>\n",
       "      <td>7.0</td>\n",
       "      <td>7.0</td>\n",
       "      <td>7.0</td>\n",
       "      <td>7.0</td>\n",
       "      <td>1.0</td>\n",
       "      <td>1.0</td>\n",
       "    </tr>\n",
       "  </tbody>\n",
       "</table>\n",
       "</div>"
      ],
      "text/plain": [
       "      decision   age  attractive  sincere  intelligent  fun  ambitious  \\\n",
       "8373         1  25.0        10.0      5.0          3.0  2.0        6.0   \n",
       "8374         0  25.0         6.0      3.0          7.0  3.0        7.0   \n",
       "8375         0  25.0         2.0      1.0          2.0  2.0        2.0   \n",
       "8376         1  25.0         5.0      7.0          5.0  5.0        3.0   \n",
       "8377         1  25.0         8.0      8.0          7.0  7.0        7.0   \n",
       "\n",
       "      shared interests  gender_1  intercept  \n",
       "8373               5.0       1.0        1.0  \n",
       "8374               2.0       1.0        1.0  \n",
       "8375               1.0       1.0        1.0  \n",
       "8376               6.0       1.0        1.0  \n",
       "8377               7.0       1.0        1.0  "
      ]
     },
     "execution_count": 135,
     "metadata": {},
     "output_type": "execute_result"
    }
   ],
   "source": [
    "subM = data_c[(data_c['gender_1']== 1)]\n",
    "del subM['gender_0']\n",
    "subM.tail()"
   ]
  },
  {
   "cell_type": "code",
   "execution_count": 154,
   "metadata": {
    "collapsed": false
   },
   "outputs": [
    {
     "name": "stdout",
     "output_type": "stream",
     "text": [
      "     decision   age  attractive  sincere  intelligent  fun  ambitious  \\\n",
      "100         1  27.0         6.0      9.0          7.0  7.0        6.0   \n",
      "101         0  27.0         5.0      7.0          8.0  4.0        6.0   \n",
      "102         0  27.0         7.0      9.0         10.0  7.0        8.0   \n",
      "103         0  27.0         4.0     10.0          8.0  5.0        8.0   \n",
      "104         0  27.0         5.0      8.0          8.0  2.0        2.0   \n",
      "\n",
      "     shared interests  intercept  \n",
      "100               5.0        1.0  \n",
      "101               3.0        1.0  \n",
      "102               9.0        1.0  \n",
      "103               7.0        1.0  \n",
      "104               2.0        1.0  \n"
     ]
    }
   ],
   "source": [
    "cols_to_keep = ['decision', 'age','attractive', 'sincere', 'intelligent', 'fun', 'ambitious', 'shared interests', 'intercept']\n",
    "data_male = subM[cols_to_keep]\n",
    "print data_male.head()"
   ]
  },
  {
   "cell_type": "code",
   "execution_count": 161,
   "metadata": {
    "collapsed": false
   },
   "outputs": [
    {
     "data": {
      "text/html": [
       "<div>\n",
       "<table border=\"1\" class=\"dataframe\">\n",
       "  <thead>\n",
       "    <tr style=\"text-align: right;\">\n",
       "      <th></th>\n",
       "      <th>decision</th>\n",
       "      <th>age</th>\n",
       "      <th>attractive</th>\n",
       "      <th>sincere</th>\n",
       "      <th>intelligent</th>\n",
       "      <th>fun</th>\n",
       "      <th>ambitious</th>\n",
       "      <th>shared interests</th>\n",
       "      <th>intercept</th>\n",
       "    </tr>\n",
       "  </thead>\n",
       "  <tbody>\n",
       "    <tr>\n",
       "      <th>decision</th>\n",
       "      <td>1.000000</td>\n",
       "      <td>-0.035481</td>\n",
       "      <td>0.442750</td>\n",
       "      <td>0.222257</td>\n",
       "      <td>0.236811</td>\n",
       "      <td>0.416736</td>\n",
       "      <td>0.185408</td>\n",
       "      <td>0.413774</td>\n",
       "      <td>NaN</td>\n",
       "    </tr>\n",
       "    <tr>\n",
       "      <th>age</th>\n",
       "      <td>-0.035481</td>\n",
       "      <td>1.000000</td>\n",
       "      <td>-0.020365</td>\n",
       "      <td>-0.010423</td>\n",
       "      <td>0.016054</td>\n",
       "      <td>-0.015896</td>\n",
       "      <td>0.021258</td>\n",
       "      <td>0.003138</td>\n",
       "      <td>NaN</td>\n",
       "    </tr>\n",
       "    <tr>\n",
       "      <th>attractive</th>\n",
       "      <td>0.442750</td>\n",
       "      <td>-0.020365</td>\n",
       "      <td>1.000000</td>\n",
       "      <td>0.412003</td>\n",
       "      <td>0.388979</td>\n",
       "      <td>0.606590</td>\n",
       "      <td>0.342481</td>\n",
       "      <td>0.517172</td>\n",
       "      <td>NaN</td>\n",
       "    </tr>\n",
       "    <tr>\n",
       "      <th>sincere</th>\n",
       "      <td>0.222257</td>\n",
       "      <td>-0.010423</td>\n",
       "      <td>0.412003</td>\n",
       "      <td>1.000000</td>\n",
       "      <td>0.677393</td>\n",
       "      <td>0.506644</td>\n",
       "      <td>0.490845</td>\n",
       "      <td>0.410211</td>\n",
       "      <td>NaN</td>\n",
       "    </tr>\n",
       "    <tr>\n",
       "      <th>intelligent</th>\n",
       "      <td>0.236811</td>\n",
       "      <td>0.016054</td>\n",
       "      <td>0.388979</td>\n",
       "      <td>0.677393</td>\n",
       "      <td>1.000000</td>\n",
       "      <td>0.484569</td>\n",
       "      <td>0.649149</td>\n",
       "      <td>0.400695</td>\n",
       "      <td>NaN</td>\n",
       "    </tr>\n",
       "    <tr>\n",
       "      <th>fun</th>\n",
       "      <td>0.416736</td>\n",
       "      <td>-0.015896</td>\n",
       "      <td>0.606590</td>\n",
       "      <td>0.506644</td>\n",
       "      <td>0.484569</td>\n",
       "      <td>1.000000</td>\n",
       "      <td>0.476577</td>\n",
       "      <td>0.641272</td>\n",
       "      <td>NaN</td>\n",
       "    </tr>\n",
       "    <tr>\n",
       "      <th>ambitious</th>\n",
       "      <td>0.185408</td>\n",
       "      <td>0.021258</td>\n",
       "      <td>0.342481</td>\n",
       "      <td>0.490845</td>\n",
       "      <td>0.649149</td>\n",
       "      <td>0.476577</td>\n",
       "      <td>1.000000</td>\n",
       "      <td>0.408830</td>\n",
       "      <td>NaN</td>\n",
       "    </tr>\n",
       "    <tr>\n",
       "      <th>shared interests</th>\n",
       "      <td>0.413774</td>\n",
       "      <td>0.003138</td>\n",
       "      <td>0.517172</td>\n",
       "      <td>0.410211</td>\n",
       "      <td>0.400695</td>\n",
       "      <td>0.641272</td>\n",
       "      <td>0.408830</td>\n",
       "      <td>1.000000</td>\n",
       "      <td>NaN</td>\n",
       "    </tr>\n",
       "    <tr>\n",
       "      <th>intercept</th>\n",
       "      <td>NaN</td>\n",
       "      <td>NaN</td>\n",
       "      <td>NaN</td>\n",
       "      <td>NaN</td>\n",
       "      <td>NaN</td>\n",
       "      <td>NaN</td>\n",
       "      <td>NaN</td>\n",
       "      <td>NaN</td>\n",
       "      <td>NaN</td>\n",
       "    </tr>\n",
       "  </tbody>\n",
       "</table>\n",
       "</div>"
      ],
      "text/plain": [
       "                  decision       age  attractive   sincere  intelligent  \\\n",
       "decision          1.000000 -0.035481    0.442750  0.222257     0.236811   \n",
       "age              -0.035481  1.000000   -0.020365 -0.010423     0.016054   \n",
       "attractive        0.442750 -0.020365    1.000000  0.412003     0.388979   \n",
       "sincere           0.222257 -0.010423    0.412003  1.000000     0.677393   \n",
       "intelligent       0.236811  0.016054    0.388979  0.677393     1.000000   \n",
       "fun               0.416736 -0.015896    0.606590  0.506644     0.484569   \n",
       "ambitious         0.185408  0.021258    0.342481  0.490845     0.649149   \n",
       "shared interests  0.413774  0.003138    0.517172  0.410211     0.400695   \n",
       "intercept              NaN       NaN         NaN       NaN          NaN   \n",
       "\n",
       "                       fun  ambitious  shared interests  intercept  \n",
       "decision          0.416736   0.185408          0.413774        NaN  \n",
       "age              -0.015896   0.021258          0.003138        NaN  \n",
       "attractive        0.606590   0.342481          0.517172        NaN  \n",
       "sincere           0.506644   0.490845          0.410211        NaN  \n",
       "intelligent       0.484569   0.649149          0.400695        NaN  \n",
       "fun               1.000000   0.476577          0.641272        NaN  \n",
       "ambitious         0.476577   1.000000          0.408830        NaN  \n",
       "shared interests  0.641272   0.408830          1.000000        NaN  \n",
       "intercept              NaN        NaN               NaN        NaN  "
      ]
     },
     "execution_count": 161,
     "metadata": {},
     "output_type": "execute_result"
    }
   ],
   "source": [
    "data_male.corr()"
   ]
  },
  {
   "cell_type": "code",
   "execution_count": 155,
   "metadata": {
    "collapsed": false
   },
   "outputs": [
    {
     "name": "stdout",
     "output_type": "stream",
     "text": [
      "Index([u'age', u'attractive', u'sincere', u'intelligent', u'fun', u'ambitious',\n",
      "       u'shared interests', u'intercept'],\n",
      "      dtype='object')\n"
     ]
    }
   ],
   "source": [
    "# covariates\n",
    "train_cols = data_male.columns[1:]\n",
    "print train_cols"
   ]
  },
  {
   "cell_type": "code",
   "execution_count": 156,
   "metadata": {
    "collapsed": true
   },
   "outputs": [],
   "source": [
    "# Fit the model"
   ]
  },
  {
   "cell_type": "code",
   "execution_count": 157,
   "metadata": {
    "collapsed": false
   },
   "outputs": [
    {
     "name": "stdout",
     "output_type": "stream",
     "text": [
      "Optimization terminated successfully.\n",
      "         Current function value: 0.501609\n",
      "         Iterations 6\n"
     ]
    }
   ],
   "source": [
    "logit_male = sm.Logit(data_male['decision'], data_male[train_cols])\n",
    "result_M = logit_male.fit()"
   ]
  },
  {
   "cell_type": "code",
   "execution_count": 158,
   "metadata": {
    "collapsed": false,
    "scrolled": true
   },
   "outputs": [
    {
     "name": "stdout",
     "output_type": "stream",
     "text": [
      "                           Logit Regression Results                           \n",
      "==============================================================================\n",
      "Dep. Variable:               decision   No. Observations:                 3434\n",
      "Model:                          Logit   Df Residuals:                     3426\n",
      "Method:                           MLE   Df Model:                            7\n",
      "Date:                Mon, 08 Aug 2016   Pseudo R-squ.:                  0.2394\n",
      "Time:                        17:15:37   Log-Likelihood:                -1722.5\n",
      "converged:                       True   LL-Null:                       -2264.7\n",
      "                                        LLR p-value:                7.367e-230\n",
      "====================================================================================\n",
      "                       coef    std err          z      P>|z|      [95.0% Conf. Int.]\n",
      "------------------------------------------------------------------------------------\n",
      "age                 -0.0223      0.013     -1.784      0.074        -0.047     0.002\n",
      "attractive           0.4045      0.029     13.748      0.000         0.347     0.462\n",
      "sincere             -0.0943      0.035     -2.686      0.007        -0.163    -0.025\n",
      "intelligent          0.1300      0.045      2.894      0.004         0.042     0.218\n",
      "fun                  0.2697      0.034      8.026      0.000         0.204     0.336\n",
      "ambitious           -0.1654      0.034     -4.795      0.000        -0.233    -0.098\n",
      "shared interests     0.2794      0.027     10.415      0.000         0.227     0.332\n",
      "intercept           -4.9712      0.425    -11.699      0.000        -5.804    -4.138\n",
      "====================================================================================\n"
     ]
    }
   ],
   "source": [
    "print result_M.summary()"
   ]
  },
  {
   "cell_type": "markdown",
   "metadata": {},
   "source": [
    "#### Subset data for logistic regression analyses (age <= 25)"
   ]
  },
  {
   "cell_type": "code",
   "execution_count": 159,
   "metadata": {
    "collapsed": false,
    "scrolled": false
   },
   "outputs": [],
   "source": [
    "\n",
    "sub2M=data_male[(data_male['age']<=25)]"
   ]
  },
  {
   "cell_type": "code",
   "execution_count": 160,
   "metadata": {
    "collapsed": false
   },
   "outputs": [
    {
     "name": "stdout",
     "output_type": "stream",
     "text": [
      "Index([u'attractive', u'sincere', u'intelligent', u'fun', u'ambitious',\n",
      "       u'shared interests', u'intercept'],\n",
      "      dtype='object')\n"
     ]
    }
   ],
   "source": [
    "# covariates\n",
    "train_cols_2 = sub2M.columns[2:]\n",
    "print train_cols_2"
   ]
  },
  {
   "cell_type": "code",
   "execution_count": 143,
   "metadata": {
    "collapsed": true
   },
   "outputs": [],
   "source": [
    "# Fit the model"
   ]
  },
  {
   "cell_type": "code",
   "execution_count": 144,
   "metadata": {
    "collapsed": false
   },
   "outputs": [
    {
     "name": "stdout",
     "output_type": "stream",
     "text": [
      "Optimization terminated successfully.\n",
      "         Current function value: 0.499999\n",
      "         Iterations 6\n"
     ]
    }
   ],
   "source": [
    "logit2_male = sm.Logit(sub2M['decision'], sub2M[train_cols])\n",
    "result_2M = logit2_male.fit()"
   ]
  },
  {
   "cell_type": "code",
   "execution_count": 145,
   "metadata": {
    "collapsed": false,
    "scrolled": true
   },
   "outputs": [
    {
     "name": "stdout",
     "output_type": "stream",
     "text": [
      "                           Logit Regression Results                           \n",
      "==============================================================================\n",
      "Dep. Variable:               decision   No. Observations:                 1357\n",
      "Model:                          Logit   Df Residuals:                     1350\n",
      "Method:                           MLE   Df Model:                            6\n",
      "Date:                Mon, 08 Aug 2016   Pseudo R-squ.:                  0.2464\n",
      "Time:                        11:18:33   Log-Likelihood:                -678.50\n",
      "converged:                       True   LL-Null:                       -900.32\n",
      "                                        LLR p-value:                 1.147e-92\n",
      "====================================================================================\n",
      "                       coef    std err          z      P>|z|      [95.0% Conf. Int.]\n",
      "------------------------------------------------------------------------------------\n",
      "age                 -0.1964      0.017    -11.844      0.000        -0.229    -0.164\n",
      "attractive           0.3653      0.046      8.001      0.000         0.276     0.455\n",
      "sincere             -0.1816      0.054     -3.360      0.001        -0.288    -0.076\n",
      "intelligent          0.0585      0.067      0.866      0.386        -0.074     0.191\n",
      "fun                  0.2644      0.053      5.020      0.000         0.161     0.368\n",
      "ambitious           -0.1567      0.052     -3.010      0.003        -0.259    -0.055\n",
      "shared interests     0.3715      0.043      8.624      0.000         0.287     0.456\n",
      "====================================================================================\n"
     ]
    }
   ],
   "source": [
    "print result_2M.summary()"
   ]
  },
  {
   "cell_type": "markdown",
   "metadata": {},
   "source": [
    "### Subset data for logistic regression analyses (25 < age <= 30)"
   ]
  },
  {
   "cell_type": "code",
   "execution_count": 146,
   "metadata": {
    "collapsed": true
   },
   "outputs": [],
   "source": [
    "sub3M=data_male[(data_male['age']>25) & ((data_male['age']<=30))]"
   ]
  },
  {
   "cell_type": "code",
   "execution_count": 147,
   "metadata": {
    "collapsed": false
   },
   "outputs": [
    {
     "name": "stdout",
     "output_type": "stream",
     "text": [
      "Optimization terminated successfully.\n",
      "         Current function value: 0.533921\n",
      "         Iterations 6\n"
     ]
    }
   ],
   "source": [
    "logit3_male = sm.Logit(sub3M['decision'], sub3M[train_cols])\n",
    "result_3M = logit3_male.fit()"
   ]
  },
  {
   "cell_type": "code",
   "execution_count": 148,
   "metadata": {
    "collapsed": false
   },
   "outputs": [
    {
     "name": "stdout",
     "output_type": "stream",
     "text": [
      "                           Logit Regression Results                           \n",
      "==============================================================================\n",
      "Dep. Variable:               decision   No. Observations:                 1759\n",
      "Model:                          Logit   Df Residuals:                     1752\n",
      "Method:                           MLE   Df Model:                            6\n",
      "Date:                Mon, 08 Aug 2016   Pseudo R-squ.:                  0.1978\n",
      "Time:                        11:18:34   Log-Likelihood:                -939.17\n",
      "converged:                       True   LL-Null:                       -1170.8\n",
      "                                        LLR p-value:                 6.956e-97\n",
      "====================================================================================\n",
      "                       coef    std err          z      P>|z|      [95.0% Conf. Int.]\n",
      "------------------------------------------------------------------------------------\n",
      "age                 -0.1752      0.013    -13.609      0.000        -0.200    -0.150\n",
      "attractive           0.3907      0.039      9.906      0.000         0.313     0.468\n",
      "sincere             -0.0484      0.048     -1.010      0.313        -0.142     0.046\n",
      "intelligent          0.1093      0.062      1.753      0.080        -0.013     0.232\n",
      "fun                  0.2435      0.046      5.258      0.000         0.153     0.334\n",
      "ambitious           -0.1867      0.048     -3.863      0.000        -0.281    -0.092\n",
      "shared interests     0.2019      0.036      5.683      0.000         0.132     0.272\n",
      "====================================================================================\n"
     ]
    }
   ],
   "source": [
    "print result_3M.summary()"
   ]
  },
  {
   "cell_type": "markdown",
   "metadata": {},
   "source": [
    "#### Subset data for logistic regression analyses (30 < age <= 40)"
   ]
  },
  {
   "cell_type": "code",
   "execution_count": 149,
   "metadata": {
    "collapsed": true
   },
   "outputs": [],
   "source": [
    "sub4M=data_male[(data_male['age']>30) & ((data_male['age']<=50))]"
   ]
  },
  {
   "cell_type": "code",
   "execution_count": 150,
   "metadata": {
    "collapsed": false
   },
   "outputs": [
    {
     "name": "stdout",
     "output_type": "stream",
     "text": [
      "Optimization terminated successfully.\n",
      "         Current function value: 0.384657\n",
      "         Iterations 7\n"
     ]
    }
   ],
   "source": [
    "logit4_male = sm.Logit(sub4M['decision'], sub4M[train_cols])\n",
    "result_4M = logit4_male.fit()"
   ]
  },
  {
   "cell_type": "code",
   "execution_count": 151,
   "metadata": {
    "collapsed": false
   },
   "outputs": [
    {
     "name": "stdout",
     "output_type": "stream",
     "text": [
      "                           Logit Regression Results                           \n",
      "==============================================================================\n",
      "Dep. Variable:               decision   No. Observations:                  318\n",
      "Model:                          Logit   Df Residuals:                      311\n",
      "Method:                           MLE   Df Model:                            6\n",
      "Date:                Mon, 08 Aug 2016   Pseudo R-squ.:                  0.3410\n",
      "Time:                        11:18:35   Log-Likelihood:                -122.32\n",
      "converged:                       True   LL-Null:                       -185.62\n",
      "                                        LLR p-value:                 6.715e-25\n",
      "====================================================================================\n",
      "                       coef    std err          z      P>|z|      [95.0% Conf. Int.]\n",
      "------------------------------------------------------------------------------------\n",
      "age                 -0.2312      0.032     -7.284      0.000        -0.293    -0.169\n",
      "attractive           0.4853      0.127      3.817      0.000         0.236     0.735\n",
      "sincere             -0.0617      0.141     -0.438      0.661        -0.338     0.214\n",
      "intelligent          0.2150      0.158      1.364      0.173        -0.094     0.524\n",
      "fun                  0.4462      0.123      3.626      0.000         0.205     0.687\n",
      "ambitious           -0.3182      0.134     -2.367      0.018        -0.582    -0.055\n",
      "shared interests     0.3432      0.120      2.859      0.004         0.108     0.578\n",
      "====================================================================================\n"
     ]
    }
   ],
   "source": [
    "print result_4M.summary()"
   ]
  },
  {
   "cell_type": "code",
   "execution_count": null,
   "metadata": {
    "collapsed": true
   },
   "outputs": [],
   "source": []
  },
  {
   "cell_type": "code",
   "execution_count": null,
   "metadata": {
    "collapsed": true
   },
   "outputs": [],
   "source": []
  },
  {
   "cell_type": "code",
   "execution_count": null,
   "metadata": {
    "collapsed": true
   },
   "outputs": [],
   "source": []
  },
  {
   "cell_type": "code",
   "execution_count": null,
   "metadata": {
    "collapsed": true
   },
   "outputs": [],
   "source": []
  }
 ],
 "metadata": {
  "kernelspec": {
   "display_name": "Python 2",
   "language": "python",
   "name": "python2"
  },
  "language_info": {
   "codemirror_mode": {
    "name": "ipython",
    "version": 2
   },
   "file_extension": ".py",
   "mimetype": "text/x-python",
   "name": "python",
   "nbconvert_exporter": "python",
   "pygments_lexer": "ipython2",
   "version": "2.7.11"
  }
 },
 "nbformat": 4,
 "nbformat_minor": 0
}
