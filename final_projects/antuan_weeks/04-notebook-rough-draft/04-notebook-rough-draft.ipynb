{
 "cells": [
  {
   "cell_type": "markdown",
   "metadata": {},
   "source": [
    "perhaps add more graphs if can get time to."
   ]
  },
  {
   "cell_type": "code",
   "execution_count": 1,
   "metadata": {
    "collapsed": false
   },
   "outputs": [],
   "source": [
    "# importing necessary packages\n",
    "\n",
    "import pandas as pd\n",
    "import seaborn as sns\n",
    "import matplotlib.pyplot as plt\n",
    "import numpy as np\n",
    "from sklearn import cross_validation, tree, metrics, ensemble\n",
    "\n",
    "%matplotlib inline"
   ]
  },
  {
   "cell_type": "code",
   "execution_count": 2,
   "metadata": {
    "collapsed": false
   },
   "outputs": [],
   "source": [
    "# reading in datasets\n",
    "\n",
    "county_facts = pd.read_csv(\"../datasets/2016-us-election/county_facts.csv\")\n",
    "county_facts_dictionary = pd.read_csv(\"../datasets/2016-us-election/county_facts_dictionary.csv\")\n",
    "results = pd.read_csv('../datasets/2016-us-election/primary_results.csv')"
   ]
  },
  {
   "cell_type": "code",
   "execution_count": 3,
   "metadata": {
    "collapsed": false
   },
   "outputs": [
    {
     "data": {
      "text/html": [
       "<div>\n",
       "<table border=\"1\" class=\"dataframe\">\n",
       "  <thead>\n",
       "    <tr style=\"text-align: right;\">\n",
       "      <th></th>\n",
       "      <th>column_name</th>\n",
       "      <th>description</th>\n",
       "    </tr>\n",
       "  </thead>\n",
       "  <tbody>\n",
       "    <tr>\n",
       "      <th>0</th>\n",
       "      <td>PST045214</td>\n",
       "      <td>Population, 2014 estimate</td>\n",
       "    </tr>\n",
       "    <tr>\n",
       "      <th>1</th>\n",
       "      <td>PST040210</td>\n",
       "      <td>Population, 2010 (April 1) estimates base</td>\n",
       "    </tr>\n",
       "    <tr>\n",
       "      <th>2</th>\n",
       "      <td>PST120214</td>\n",
       "      <td>Population, percent change - April 1, 2010 to ...</td>\n",
       "    </tr>\n",
       "    <tr>\n",
       "      <th>3</th>\n",
       "      <td>POP010210</td>\n",
       "      <td>Population, 2010</td>\n",
       "    </tr>\n",
       "    <tr>\n",
       "      <th>4</th>\n",
       "      <td>AGE135214</td>\n",
       "      <td>Persons under 5 years, percent, 2014</td>\n",
       "    </tr>\n",
       "    <tr>\n",
       "      <th>5</th>\n",
       "      <td>AGE295214</td>\n",
       "      <td>Persons under 18 years, percent, 2014</td>\n",
       "    </tr>\n",
       "    <tr>\n",
       "      <th>6</th>\n",
       "      <td>AGE775214</td>\n",
       "      <td>Persons 65 years and over, percent, 2014</td>\n",
       "    </tr>\n",
       "    <tr>\n",
       "      <th>7</th>\n",
       "      <td>SEX255214</td>\n",
       "      <td>Female persons, percent, 2014</td>\n",
       "    </tr>\n",
       "    <tr>\n",
       "      <th>8</th>\n",
       "      <td>RHI125214</td>\n",
       "      <td>White alone, percent, 2014</td>\n",
       "    </tr>\n",
       "    <tr>\n",
       "      <th>9</th>\n",
       "      <td>RHI225214</td>\n",
       "      <td>Black or African American alone, percent, 2014</td>\n",
       "    </tr>\n",
       "  </tbody>\n",
       "</table>\n",
       "</div>"
      ],
      "text/plain": [
       "  column_name                                        description\n",
       "0   PST045214                          Population, 2014 estimate\n",
       "1   PST040210          Population, 2010 (April 1) estimates base\n",
       "2   PST120214  Population, percent change - April 1, 2010 to ...\n",
       "3   POP010210                                   Population, 2010\n",
       "4   AGE135214               Persons under 5 years, percent, 2014\n",
       "5   AGE295214              Persons under 18 years, percent, 2014\n",
       "6   AGE775214           Persons 65 years and over, percent, 2014\n",
       "7   SEX255214                      Female persons, percent, 2014\n",
       "8   RHI125214                         White alone, percent, 2014\n",
       "9   RHI225214     Black or African American alone, percent, 2014"
      ]
     },
     "execution_count": 3,
     "metadata": {},
     "output_type": "execute_result"
    }
   ],
   "source": [
    "county_facts_dictionary[:10] # a dictionary of all column headers"
   ]
  },
  {
   "cell_type": "code",
   "execution_count": 4,
   "metadata": {
    "collapsed": false
   },
   "outputs": [
    {
     "data": {
      "text/html": [
       "<div>\n",
       "<table border=\"1\" class=\"dataframe\">\n",
       "  <thead>\n",
       "    <tr style=\"text-align: right;\">\n",
       "      <th></th>\n",
       "      <th>fips</th>\n",
       "      <th>state_abbreviation</th>\n",
       "      <th>candidate</th>\n",
       "      <th>votes</th>\n",
       "    </tr>\n",
       "  </thead>\n",
       "  <tbody>\n",
       "    <tr>\n",
       "      <th>0</th>\n",
       "      <td>1001.0</td>\n",
       "      <td>AL</td>\n",
       "      <td>Bernie Sanders</td>\n",
       "      <td>544</td>\n",
       "    </tr>\n",
       "    <tr>\n",
       "      <th>1</th>\n",
       "      <td>1001.0</td>\n",
       "      <td>AL</td>\n",
       "      <td>Hillary Clinton</td>\n",
       "      <td>2387</td>\n",
       "    </tr>\n",
       "    <tr>\n",
       "      <th>2</th>\n",
       "      <td>1003.0</td>\n",
       "      <td>AL</td>\n",
       "      <td>Bernie Sanders</td>\n",
       "      <td>2694</td>\n",
       "    </tr>\n",
       "    <tr>\n",
       "      <th>3</th>\n",
       "      <td>1003.0</td>\n",
       "      <td>AL</td>\n",
       "      <td>Hillary Clinton</td>\n",
       "      <td>5290</td>\n",
       "    </tr>\n",
       "    <tr>\n",
       "      <th>4</th>\n",
       "      <td>1005.0</td>\n",
       "      <td>AL</td>\n",
       "      <td>Bernie Sanders</td>\n",
       "      <td>222</td>\n",
       "    </tr>\n",
       "  </tbody>\n",
       "</table>\n",
       "</div>"
      ],
      "text/plain": [
       "     fips state_abbreviation        candidate  votes\n",
       "0  1001.0                 AL   Bernie Sanders    544\n",
       "1  1001.0                 AL  Hillary Clinton   2387\n",
       "2  1003.0                 AL   Bernie Sanders   2694\n",
       "3  1003.0                 AL  Hillary Clinton   5290\n",
       "4  1005.0                 AL   Bernie Sanders    222"
      ]
     },
     "execution_count": 4,
     "metadata": {},
     "output_type": "execute_result"
    }
   ],
   "source": [
    "results[['fips', 'state_abbreviation', 'candidate', 'votes']].head()"
   ]
  },
  {
   "cell_type": "code",
   "execution_count": 5,
   "metadata": {
    "collapsed": false
   },
   "outputs": [
    {
     "data": {
      "text/html": [
       "<div>\n",
       "<table border=\"1\" class=\"dataframe\">\n",
       "  <thead>\n",
       "    <tr style=\"text-align: right;\">\n",
       "      <th></th>\n",
       "      <th>fips</th>\n",
       "      <th>candidate</th>\n",
       "      <th>state_abbreviation</th>\n",
       "      <th>votes</th>\n",
       "    </tr>\n",
       "  </thead>\n",
       "  <tbody>\n",
       "    <tr>\n",
       "      <th>0</th>\n",
       "      <td>1001.0</td>\n",
       "      <td>Bernie Sanders</td>\n",
       "      <td>AL</td>\n",
       "      <td>544</td>\n",
       "    </tr>\n",
       "    <tr>\n",
       "      <th>1</th>\n",
       "      <td>1001.0</td>\n",
       "      <td>Hillary Clinton</td>\n",
       "      <td>AL</td>\n",
       "      <td>2387</td>\n",
       "    </tr>\n",
       "    <tr>\n",
       "      <th>2</th>\n",
       "      <td>1003.0</td>\n",
       "      <td>Bernie Sanders</td>\n",
       "      <td>AL</td>\n",
       "      <td>2694</td>\n",
       "    </tr>\n",
       "    <tr>\n",
       "      <th>3</th>\n",
       "      <td>1003.0</td>\n",
       "      <td>Hillary Clinton</td>\n",
       "      <td>AL</td>\n",
       "      <td>5290</td>\n",
       "    </tr>\n",
       "    <tr>\n",
       "      <th>4</th>\n",
       "      <td>1005.0</td>\n",
       "      <td>Bernie Sanders</td>\n",
       "      <td>AL</td>\n",
       "      <td>222</td>\n",
       "    </tr>\n",
       "  </tbody>\n",
       "</table>\n",
       "</div>"
      ],
      "text/plain": [
       "     fips        candidate state_abbreviation  votes\n",
       "0  1001.0   Bernie Sanders                 AL    544\n",
       "1  1001.0  Hillary Clinton                 AL   2387\n",
       "2  1003.0   Bernie Sanders                 AL   2694\n",
       "3  1003.0  Hillary Clinton                 AL   5290\n",
       "4  1005.0   Bernie Sanders                 AL    222"
      ]
     },
     "execution_count": 5,
     "metadata": {},
     "output_type": "execute_result"
    }
   ],
   "source": [
    "results[['fips', 'candidate', 'state_abbreviation', 'votes']].head()"
   ]
  },
  {
   "cell_type": "code",
   "execution_count": 6,
   "metadata": {
    "collapsed": false
   },
   "outputs": [],
   "source": [
    "county_facts = county_facts.rename(columns={ # renaming columns for ease of reference/use\n",
    "        'PST045214': 'pop_2014_est', 'PST040210': 'pop_2010_est', 'PST120214': 'pop_chg', 'POP010210': 'pop_2010',\n",
    "        'AGE135214': 'under_5_pct', 'AGE295214': 'under_18_pct', 'AGE775214': 'above_64_pct', 'SEX255214': 'female_pct',\n",
    "        'RHI125214': 'white', 'RHI1225214': 'black', 'RHI325214': 'native', 'RHI425214': 'asian', 'RHI525214': 'pacific',\n",
    "        'RHI625214': 'multi', 'RHI725214': 'hispanic', 'RHI825214': 'white_nonhisp', 'POP645213': 'same_house_1+',\n",
    "        'POP645213': 'foreign_born_09-13', 'POP815213': 'nonenglish_home', 'EDU635213': 'highschool',\n",
    "        'EDU685213': 'bachelors', 'VET605213': 'veterans_09-13', 'HSG010214': 'housing_units', 'HSG445213': 'home_rate',\n",
    "        'HSD310213': 'household_size', 'INC910213': 'percap_income_1yr', 'INC110213': 'median_income',\n",
    "        'PVY020213': 'pct_below_poverty', 'BZA010213': 'priv_nonfarm', 'SBO001207': 'num_firms',\n",
    "        'SBO315207': 'black_firm_pct', 'SBO115207': 'native_firm_pct', 'SBO215207': 'asian_firm_pct',\n",
    "        'SBO515207': 'pacific_firm_pct', 'SBO415207': 'hispanic_firm_pct', 'SBO015207': 'female_firm_pct',\n",
    "        'MAN450207': 'mfct_shipments_07', 'RTN130207': 'rsales_07', 'RTN131207': 'rsales_pcap_07',\n",
    "        'AFN120207': 'service_sales_07', 'BPS030214': 'bldng_permits', 'LND110210': 'land_area',\n",
    "        'POP060210': 'pop_per_m2', 'WTN220207': 'merch_sales', 'LFE305213': 'travel_time', 'HSG096213': 'multi_unit_pct',\n",
    "        'HSG495213': 'median_val_ownerhousing', 'RHI225214': 'black_alone'\n",
    "    })"
   ]
  },
  {
   "cell_type": "code",
   "execution_count": 7,
   "metadata": {
    "collapsed": false
   },
   "outputs": [],
   "source": [
    "# dictionary (with some additions) from: \n",
    "# http://code.activestate.com/recipes/577305-python-dictionary-of-us-states-and-territories/\n",
    "states = {\n",
    "    'AK': 'Alaska',\n",
    "    'AL': 'Alabama',\n",
    "    'AR': 'Arkansas',\n",
    "    'AS': 'American Samoa',\n",
    "    'AZ': 'Arizona',\n",
    "    'CA': 'California',\n",
    "    'CO': 'Colorado',\n",
    "    'CT': 'Connecticut',\n",
    "    'DC': 'District of Columbia',\n",
    "    'DE': 'Delaware',\n",
    "    'FL': 'Florida',\n",
    "    'GA': 'Georgia',\n",
    "    'GU': 'Guam',\n",
    "    'HI': 'Hawaii',\n",
    "    'IA': 'Iowa',\n",
    "    'ID': 'Idaho',\n",
    "    'IL': 'Illinois',\n",
    "    'IN': 'Indiana',\n",
    "    'KS': 'Kansas',\n",
    "    'KY': 'Kentucky',\n",
    "    'LA': 'Louisiana',\n",
    "    'MA': 'Massachusetts',\n",
    "    'MD': 'Maryland',\n",
    "    'ME': 'Maine',\n",
    "    'MI': 'Michigan',\n",
    "    'MN': 'Minnesota',\n",
    "    'MO': 'Missouri',\n",
    "    'MP': 'Northern Mariana Islands',\n",
    "    'MS': 'Mississippi',\n",
    "    'MT': 'Montana',\n",
    "    'NA': 'National',\n",
    "    'NC': 'North Carolina',\n",
    "    'ND': 'North Dakota',\n",
    "    'NE': 'Nebraska',\n",
    "    'NH': 'New Hampshire',\n",
    "    'NJ': 'New Jersey',\n",
    "    'NM': 'New Mexico',\n",
    "    'NV': 'Nevada',\n",
    "    'NY': 'New York',\n",
    "    'OH': 'Ohio',\n",
    "    'OK': 'Oklahoma',\n",
    "    'OR': 'Oregon',\n",
    "    'PA': 'Pennsylvania',\n",
    "    'PR': 'Puerto Rico',\n",
    "    'RI': 'Rhode Island',\n",
    "    'SC': 'South Carolina',\n",
    "    'SD': 'South Dakota',\n",
    "    'TN': 'Tennessee',\n",
    "    'TX': 'Texas',\n",
    "    'US': 'United States',\n",
    "    'UT': 'Utah',\n",
    "    'VA': 'Virginia',\n",
    "    'VI': 'Virgin Islands',\n",
    "    'VT': 'Vermont',\n",
    "    'WA': 'Washington',\n",
    "    'WI': 'Wisconsin',\n",
    "    'WV': 'West Virginia',\n",
    "    'WY': 'Wyoming'\n",
    "}"
   ]
  },
  {
   "cell_type": "code",
   "execution_count": 8,
   "metadata": {
    "collapsed": false
   },
   "outputs": [],
   "source": [
    "inv_states = {v: k for k, v in states.items()} # inverting the states dictionary for use later"
   ]
  },
  {
   "cell_type": "code",
   "execution_count": 9,
   "metadata": {
    "collapsed": false
   },
   "outputs": [],
   "source": [
    "results[results.county == 'Fayette']; # previewing the results dataset"
   ]
  },
  {
   "cell_type": "code",
   "execution_count": 10,
   "metadata": {
    "collapsed": false
   },
   "outputs": [],
   "source": [
    "raw = county_facts.merge(results, on=['fips', 'state_abbreviation'], how='inner',) # merging results with county demographics"
   ]
  },
  {
   "cell_type": "code",
   "execution_count": 11,
   "metadata": {
    "collapsed": false
   },
   "outputs": [],
   "source": [
    "#raw.info() # no null vales in dataset"
   ]
  },
  {
   "cell_type": "markdown",
   "metadata": {},
   "source": [
    "### First set of predictors\n",
    "\n",
    "Testing our model on a small subset of predictors. We use our 'intuition' to select a few predictors and see how well we do at predicting our target variable."
   ]
  },
  {
   "cell_type": "code",
   "execution_count": 12,
   "metadata": {
    "collapsed": true
   },
   "outputs": [],
   "source": [
    "# an example set of predictors\n",
    "X = ['pop_chg', 'above_64_pct', 'female_pct', 'white', 'bachelors', 'pct_below_poverty']\n",
    "y = 'fraction_votes'\n",
    "\n",
    "X_d = raw[raw.party == 'Democrat'][X]\n",
    "y_d = raw[raw.party == 'Democrat'][y]\n",
    "\n",
    "X_r = raw[raw.party == 'Republican'][X]\n",
    "y_r = raw[raw.party == 'Republican'][y]"
   ]
  },
  {
   "cell_type": "code",
   "execution_count": 13,
   "metadata": {
    "collapsed": false
   },
   "outputs": [],
   "source": [
    "X_dtrain, X_dtest, y_dtrain, y_dtest = cross_validation.train_test_split(X_d, y_d, test_size=0.3)\n",
    "X_rtrain, X_rtest, y_rtrain, y_rtest = cross_validation.train_test_split(X_r, y_r, test_size=0.3)"
   ]
  },
  {
   "cell_type": "code",
   "execution_count": 14,
   "metadata": {
    "collapsed": false
   },
   "outputs": [],
   "source": [
    "model = tree.DecisionTreeRegressor()"
   ]
  },
  {
   "cell_type": "code",
   "execution_count": 15,
   "metadata": {
    "collapsed": false
   },
   "outputs": [
    {
     "data": {
      "text/plain": [
       "DecisionTreeRegressor(criterion='mse', max_depth=None, max_features=None,\n",
       "           max_leaf_nodes=None, min_samples_leaf=1, min_samples_split=2,\n",
       "           min_weight_fraction_leaf=0.0, presort=False, random_state=None,\n",
       "           splitter='best')"
      ]
     },
     "execution_count": 15,
     "metadata": {},
     "output_type": "execute_result"
    }
   ],
   "source": [
    "model.fit(X_dtrain, y_dtrain)"
   ]
  },
  {
   "cell_type": "code",
   "execution_count": 16,
   "metadata": {
    "collapsed": false
   },
   "outputs": [
    {
     "name": "stdout",
     "output_type": "stream",
     "text": [
      "train MSE:  0.148461665255\n",
      "test MSE:  0.305242587543\n"
     ]
    }
   ],
   "source": [
    "train_yd_hat = model.predict(X_dtrain)\n",
    "print 'train MSE: ', np.sqrt(metrics.mean_squared_error(y_dtrain, train_yd_hat))\n",
    "\n",
    "test_yd_hat = model.predict(X_dtest)\n",
    "print 'test MSE: ', np.sqrt(metrics.mean_squared_error(y_dtest, test_yd_hat))"
   ]
  },
  {
   "cell_type": "code",
   "execution_count": 17,
   "metadata": {
    "collapsed": false
   },
   "outputs": [
    {
     "data": {
      "text/plain": [
       "[(0.21097386153303666, 'white'),\n",
       " (0.17863919652026006, 'pct_below_poverty'),\n",
       " (0.16844533938349524, 'above_64_pct'),\n",
       " (0.15841207803022972, 'female_pct'),\n",
       " (0.152432887962238, 'bachelors'),\n",
       " (0.1310966365707403, 'pop_chg')]"
      ]
     },
     "execution_count": 17,
     "metadata": {},
     "output_type": "execute_result"
    }
   ],
   "source": [
    "sorted(zip(model.feature_importances_, X_d.columns.values), reverse = True) # ranking of predictor relevance"
   ]
  },
  {
   "cell_type": "code",
   "execution_count": 18,
   "metadata": {
    "collapsed": false
   },
   "outputs": [
    {
     "data": {
      "text/plain": [
       "DecisionTreeRegressor(criterion='mse', max_depth=None, max_features=None,\n",
       "           max_leaf_nodes=None, min_samples_leaf=1, min_samples_split=2,\n",
       "           min_weight_fraction_leaf=0.0, presort=False, random_state=None,\n",
       "           splitter='best')"
      ]
     },
     "execution_count": 18,
     "metadata": {},
     "output_type": "execute_result"
    }
   ],
   "source": [
    "model.fit(X_rtrain, y_rtrain)"
   ]
  },
  {
   "cell_type": "code",
   "execution_count": 19,
   "metadata": {
    "collapsed": false
   },
   "outputs": [
    {
     "name": "stdout",
     "output_type": "stream",
     "text": [
      "train MSE:  0.167182835635\n",
      "test MSE:  0.262345256689\n"
     ]
    }
   ],
   "source": [
    "train_yr_hat = model.predict(X_rtrain)\n",
    "print 'train MSE: ', np.sqrt(metrics.mean_squared_error(y_rtrain, train_yr_hat))\n",
    "\n",
    "test_yr_hat = model.predict(X_rtest)\n",
    "print 'test MSE: ', np.sqrt(metrics.mean_squared_error(y_rtest, test_yr_hat))"
   ]
  },
  {
   "cell_type": "code",
   "execution_count": 20,
   "metadata": {
    "collapsed": false
   },
   "outputs": [
    {
     "data": {
      "text/plain": [
       "[(0.181570423372372, 'above_64_pct'),\n",
       " (0.1764639073437855, 'white'),\n",
       " (0.17087516740280947, 'pct_below_poverty'),\n",
       " (0.16132826160905009, 'pop_chg'),\n",
       " (0.16044759121189422, 'bachelors'),\n",
       " (0.14931464906008865, 'female_pct')]"
      ]
     },
     "execution_count": 20,
     "metadata": {},
     "output_type": "execute_result"
    }
   ],
   "source": [
    "sorted(zip(model.feature_importances_, X_r.columns.values), reverse = True) # ranking of predictor relevance"
   ]
  },
  {
   "cell_type": "markdown",
   "metadata": {},
   "source": [
    "### Second Set\n",
    "\n",
    "Below, we test model on all non-object datatypes within dataset. We drop collinear and redundant columns. We will utilize the built in ranking of predictors to determine what will be used in our later predictions"
   ]
  },
  {
   "cell_type": "code",
   "execution_count": 21,
   "metadata": {
    "collapsed": true
   },
   "outputs": [],
   "source": [
    "numeric = raw.select_dtypes(exclude=['object']) # selecting only numeric types from dataset\n",
    "\n",
    "X_2 = numeric.columns.drop(['fraction_votes', 'votes', 'fips']) # dropping redundant values\n",
    "\n",
    "X_2d = raw[raw.party == 'Democrat'][X_2] # predicting democratic choice\n",
    "y_2d = raw[raw.party == 'Democrat'][y]\n",
    "\n",
    "X_2r = raw[raw.party == 'Republican'][X_2] # predicting democratic choice\n",
    "y_2r = raw[raw.party == 'Republican'][y]"
   ]
  },
  {
   "cell_type": "code",
   "execution_count": 22,
   "metadata": {
    "collapsed": true
   },
   "outputs": [],
   "source": [
    "X_2dtrain, X_2dtest, y_2dtrain, y_2dtest = cross_validation.train_test_split(X_2d, y_2d, test_size=0.3)\n",
    "X_2rtrain, X_2rtest, y_2rtrain, y_2rtest = cross_validation.train_test_split(X_2r, y_2r, test_size=0.3)"
   ]
  },
  {
   "cell_type": "code",
   "execution_count": 23,
   "metadata": {
    "collapsed": false
   },
   "outputs": [
    {
     "data": {
      "text/plain": [
       "DecisionTreeRegressor(criterion='mse', max_depth=None, max_features=None,\n",
       "           max_leaf_nodes=None, min_samples_leaf=1, min_samples_split=2,\n",
       "           min_weight_fraction_leaf=0.0, presort=False, random_state=None,\n",
       "           splitter='best')"
      ]
     },
     "execution_count": 23,
     "metadata": {},
     "output_type": "execute_result"
    }
   ],
   "source": [
    "model = tree.DecisionTreeRegressor()\n",
    "model.fit(X_2dtrain, y_2dtrain)"
   ]
  },
  {
   "cell_type": "code",
   "execution_count": 24,
   "metadata": {
    "collapsed": false
   },
   "outputs": [
    {
     "name": "stdout",
     "output_type": "stream",
     "text": [
      "train MSE:  0.146708408102\n",
      "test MSE:  0.252792276804\n"
     ]
    }
   ],
   "source": [
    "train_yd_hat = model.predict(X_2dtrain)\n",
    "print 'train MSE: ', np.sqrt(metrics.mean_squared_error(y_2dtrain, train_yd_hat))\n",
    "\n",
    "test_yd_hat = model.predict(X_2dtest)\n",
    "print 'test MSE: ', np.sqrt(metrics.mean_squared_error(y_dtest, test_yd_hat))"
   ]
  },
  {
   "cell_type": "code",
   "execution_count": 25,
   "metadata": {
    "collapsed": false
   },
   "outputs": [
    {
     "name": "stdout",
     "output_type": "stream",
     "text": [
      "train MSE:  0.323472495486\n",
      "test MSE:  0.327438084599\n"
     ]
    }
   ],
   "source": [
    "train_2yr_hat = model.predict(X_2rtrain)\n",
    "print 'train MSE: ', np.sqrt(metrics.mean_squared_error(y_2rtrain, train_2yr_hat))\n",
    "\n",
    "test_2yr_hat = model.predict(X_2rtest)\n",
    "print 'test MSE: ', np.sqrt(metrics.mean_squared_error(y_2rtest, test_2yr_hat))"
   ]
  },
  {
   "cell_type": "markdown",
   "metadata": {},
   "source": [
    "#### Results:\n",
    "- our MSE for the test democratic dataset decreased by 5 percentatge points\n",
    "- MSE for both training and test data for republicans increased \n",
    "- not sure what is the cause for this change\n",
    "\n",
    "#### Next:\n",
    "- what are most important feaures?\n",
    "- how do they relate to one another?\n",
    "- what are characteristics of voters?"
   ]
  },
  {
   "cell_type": "code",
   "execution_count": 26,
   "metadata": {
    "collapsed": false
   },
   "outputs": [
    {
     "data": {
      "text/plain": [
       "[(0.057123150289334554, 'black_alone'),\n",
       " (0.052688264105187572, 'white'),\n",
       " (0.044763415095256449, 'black_firm_pct'),\n",
       " (0.044393425516689351, 'land_area'),\n",
       " (0.040350919001616165, 'highschool'),\n",
       " (0.035222241419060572, 'BZA115213'),\n",
       " (0.034432231737092582, 'pct_below_poverty'),\n",
       " (0.033538239331023456, 'POP715213'),\n",
       " (0.032989039203689723, 'home_rate'),\n",
       " (0.031397123046580107, 'above_64_pct')]"
      ]
     },
     "execution_count": 26,
     "metadata": {},
     "output_type": "execute_result"
    }
   ],
   "source": [
    "model.fit(X_2dtrain, y_2dtrain);\n",
    "sorted(zip(model.feature_importances_, X_2d.columns.values), reverse = True)[:10] # ranking of top 10 predictors"
   ]
  },
  {
   "cell_type": "markdown",
   "metadata": {},
   "source": [
    "#### Top 10 predictors for democratic choice:\n",
    "1. white\n",
    "2. high school or higher\n",
    "3. travel time\n",
    "4. black owned firm percentage\n",
    "5. median income\n",
    "6. population per square mile\n",
    "7. percent of homes that are multiunit\n",
    "8. home where English is not first language\n",
    "9. percent of population under 18\n",
    "10. percent of white, non hispanic"
   ]
  },
  {
   "cell_type": "code",
   "execution_count": 27,
   "metadata": {
    "collapsed": false
   },
   "outputs": [
    {
     "data": {
      "text/plain": [
       "[(0.077680053459146775, 'land_area'),\n",
       " (0.048832720667129299, 'median_income'),\n",
       " (0.044274393678252671, 'pop_per_m2'),\n",
       " (0.03891069902418199, 'travel_time'),\n",
       " (0.038500240554900519, 'hispanic'),\n",
       " (0.038343927016362807, 'native'),\n",
       " (0.035638921094479546, 'highschool'),\n",
       " (0.033586324000517358, 'median_val_ownerhousing'),\n",
       " (0.030932441041542143, 'pop_chg'),\n",
       " (0.027595630634793884, 'female_pct')]"
      ]
     },
     "execution_count": 27,
     "metadata": {},
     "output_type": "execute_result"
    }
   ],
   "source": [
    "model.fit(X_2rtrain, y_2rtrain);\n",
    "sorted(zip(model.feature_importances_, X_2r.columns.values), reverse = True)[:10] # ranking of top 10 predictors"
   ]
  },
  {
   "cell_type": "markdown",
   "metadata": {},
   "source": [
    "#### Top 10 predictors for republican choice\n",
    "1. travel time to work\n",
    "2. land area\n",
    "3. population per square mile\n",
    "4. high school or higher\n",
    "5. median value of owner occupied homes\n",
    "6. percap income\n",
    "7. hispanic\n",
    "8. housing units in multiunit structures\n",
    "9. bachelors or higher\n",
    "10. percent below poverty"
   ]
  },
  {
   "cell_type": "markdown",
   "metadata": {},
   "source": [
    "### Non - Split dataset\n",
    "not splitting based on dem/rep"
   ]
  },
  {
   "cell_type": "code",
   "execution_count": 28,
   "metadata": {
    "collapsed": false
   },
   "outputs": [
    {
     "name": "stdout",
     "output_type": "stream",
     "text": [
      "train MSE:  0.242509764322\n",
      "test MSE:  0.259228250263\n"
     ]
    }
   ],
   "source": [
    "numeric = raw.select_dtypes(exclude=['object']) # selecting only numeric types from dataset\n",
    "\n",
    "X_col = numeric.columns.drop(['fraction_votes', 'votes', 'fips']) # dropping redundant values\n",
    "y_col = 'fraction_votes'\n",
    "\n",
    "X = raw[X_col] # predicting democratic choice\n",
    "y= raw[y_col]\n",
    "\n",
    "X_train, X_test, y_train, y_test = cross_validation.train_test_split(X, y)\n",
    "train_yhat = model.predict(X_train)\n",
    "\n",
    "model.fit(X_train, y_train)\n",
    "\n",
    "print 'train MSE: ', np.sqrt(metrics.mean_squared_error(y_train, train_yhat))\n",
    "\n",
    "test_yhat = model.predict(X_test)\n",
    "print 'test MSE: ', np.sqrt(metrics.mean_squared_error(y_test, test_yhat))"
   ]
  },
  {
   "cell_type": "markdown",
   "metadata": {},
   "source": [
    "out test MSE has actually dropped down using the entire data set. Will try using the top predictors."
   ]
  },
  {
   "cell_type": "code",
   "execution_count": 29,
   "metadata": {
    "collapsed": false
   },
   "outputs": [
    {
     "data": {
      "text/plain": [
       "[(0.083311372602013975, 'land_area'),\n",
       " (0.052964296767504825, 'housing_units'),\n",
       " (0.049661719356629205, 'median_val_ownerhousing'),\n",
       " (0.048873759347124804, 'merch_sales'),\n",
       " (0.040667385777742524, 'travel_time'),\n",
       " (0.039852524099257429, 'highschool'),\n",
       " (0.035745918295210295, 'multi_unit_pct'),\n",
       " (0.034045332411996268, 'BZA110213'),\n",
       " (0.033097812786453212, 'percap_income_1yr'),\n",
       " (0.031017853741244314, 'white_nonhisp')]"
      ]
     },
     "execution_count": 29,
     "metadata": {},
     "output_type": "execute_result"
    }
   ],
   "source": [
    "sorted(zip(model.feature_importances_, X.columns.values), reverse = True)[:10] # ranking of top 10 predictors"
   ]
  },
  {
   "cell_type": "code",
   "execution_count": 30,
   "metadata": {
    "collapsed": false
   },
   "outputs": [
    {
     "name": "stdout",
     "output_type": "stream",
     "text": [
      "train MSE:  0.202670199214\n",
      "test MSE:  0.259304186607\n"
     ]
    }
   ],
   "source": [
    "X_col = ['highschool', 'land_area', 'white_nonhisp', 'merch_sales', 'housing_units', 'travel_time', 'multi_unit_pct',\n",
    "        'median_val_ownerhousing', 'nonenglish_home', 'veterans_09-13', 'pop_chg', 'travel_time']\n",
    "\n",
    "X = raw[X_col]\n",
    "y = raw['fraction_votes']\n",
    "\n",
    "X_train, X_test, y_train, y_test = cross_validation.train_test_split(X, y)\n",
    "\n",
    "model.fit(X_train, y_train)\n",
    "\n",
    "train_yhat = model.predict(X_train)\n",
    "print 'train MSE: ', np.sqrt(metrics.mean_squared_error(y_train, train_yhat))\n",
    "\n",
    "test_yhat = model.predict(X_test)\n",
    "print 'test MSE: ', np.sqrt(metrics.mean_squared_error(y_test, test_yhat))"
   ]
  },
  {
   "cell_type": "markdown",
   "metadata": {},
   "source": [
    "### What are characteristics between the two parties?"
   ]
  },
  {
   "cell_type": "code",
   "execution_count": 31,
   "metadata": {
    "collapsed": true
   },
   "outputs": [],
   "source": [
    "def winner(row): # creating a target variable for a primary win (greatest percentage of votes)\n",
    "    if row['rank'] == 1:\n",
    "        val = 1\n",
    "    elif row['rank'] == 1.5:\n",
    "        val = 1\n",
    "    else:\n",
    "        val = 0\n",
    "    return val        "
   ]
  },
  {
   "cell_type": "code",
   "execution_count": 32,
   "metadata": {
    "collapsed": true
   },
   "outputs": [],
   "source": [
    "raw['rank'] = raw.groupby(by=['fips', 'party'])['fraction_votes'].rank(ascending=False) \n",
    "# grouping by county, party and finding rank\n",
    "\n",
    "raw['primary_win'] = raw.apply(winner, axis=1) # creating a column for top place in primary"
   ]
  },
  {
   "cell_type": "code",
   "execution_count": 33,
   "metadata": {
    "collapsed": false
   },
   "outputs": [],
   "source": [
    "trump_df = raw[raw.candidate == 'Donald Trump']\n",
    "clinton_df = raw[raw.candidate == 'Hillary Clinton']"
   ]
  },
  {
   "cell_type": "code",
   "execution_count": 34,
   "metadata": {
    "collapsed": false
   },
   "outputs": [],
   "source": [
    "features = ['highschool', 'land_area', 'white_nonhisp', 'merch_sales', 'housing_units', 'travel_time',\n",
    "            'multi_unit_pct', 'median_val_ownerhousing', 'nonenglish_home', 'veterans_09-13', 'pop_chg', 'travel_time']\n",
    "\n",
    "trump_char = trump_df[trump_df['primary_win'] == 1][features].describe()\n",
    "\n",
    "clinton_char = clinton_df[clinton_df['primary_win'] == 1][features].describe()"
   ]
  },
  {
   "cell_type": "code",
   "execution_count": 35,
   "metadata": {
    "collapsed": false
   },
   "outputs": [
    {
     "data": {
      "text/html": [
       "<div>\n",
       "<table border=\"1\" class=\"dataframe\">\n",
       "  <thead>\n",
       "    <tr style=\"text-align: right;\">\n",
       "      <th></th>\n",
       "      <th>highschool</th>\n",
       "      <th>land_area</th>\n",
       "      <th>white_nonhisp</th>\n",
       "      <th>merch_sales</th>\n",
       "      <th>housing_units</th>\n",
       "      <th>travel_time</th>\n",
       "      <th>multi_unit_pct</th>\n",
       "      <th>median_val_ownerhousing</th>\n",
       "      <th>nonenglish_home</th>\n",
       "      <th>veterans_09-13</th>\n",
       "      <th>pop_chg</th>\n",
       "      <th>travel_time</th>\n",
       "    </tr>\n",
       "  </thead>\n",
       "  <tbody>\n",
       "    <tr>\n",
       "      <th>count</th>\n",
       "      <td>1996.000000</td>\n",
       "      <td>1996.000000</td>\n",
       "      <td>1996.000000</td>\n",
       "      <td>1.996000e+03</td>\n",
       "      <td>1.996000e+03</td>\n",
       "      <td>1996.000000</td>\n",
       "      <td>1996.000000</td>\n",
       "      <td>1996.000000</td>\n",
       "      <td>1996.000000</td>\n",
       "      <td>1996.000000</td>\n",
       "      <td>1996.000000</td>\n",
       "      <td>1996.000000</td>\n",
       "    </tr>\n",
       "    <tr>\n",
       "      <th>mean</th>\n",
       "      <td>83.653958</td>\n",
       "      <td>915.380581</td>\n",
       "      <td>77.404960</td>\n",
       "      <td>1.104915e+06</td>\n",
       "      <td>4.306003e+04</td>\n",
       "      <td>24.013627</td>\n",
       "      <td>11.687275</td>\n",
       "      <td>128709.919840</td>\n",
       "      <td>7.612675</td>\n",
       "      <td>7009.404309</td>\n",
       "      <td>-0.052806</td>\n",
       "      <td>24.013627</td>\n",
       "    </tr>\n",
       "    <tr>\n",
       "      <th>std</th>\n",
       "      <td>6.670024</td>\n",
       "      <td>1383.833128</td>\n",
       "      <td>20.030871</td>\n",
       "      <td>6.458476e+06</td>\n",
       "      <td>1.280612e+05</td>\n",
       "      <td>5.339151</td>\n",
       "      <td>8.667916</td>\n",
       "      <td>74597.434775</td>\n",
       "      <td>9.918625</td>\n",
       "      <td>17149.838455</td>\n",
       "      <td>3.523358</td>\n",
       "      <td>5.339151</td>\n",
       "    </tr>\n",
       "    <tr>\n",
       "      <th>min</th>\n",
       "      <td>54.000000</td>\n",
       "      <td>2.530000</td>\n",
       "      <td>3.700000</td>\n",
       "      <td>0.000000e+00</td>\n",
       "      <td>2.520000e+02</td>\n",
       "      <td>9.800000</td>\n",
       "      <td>0.000000</td>\n",
       "      <td>19900.000000</td>\n",
       "      <td>0.000000</td>\n",
       "      <td>31.000000</td>\n",
       "      <td>-9.700000</td>\n",
       "      <td>9.800000</td>\n",
       "    </tr>\n",
       "    <tr>\n",
       "      <th>25%</th>\n",
       "      <td>78.900000</td>\n",
       "      <td>403.962500</td>\n",
       "      <td>65.375000</td>\n",
       "      <td>0.000000e+00</td>\n",
       "      <td>6.324000e+03</td>\n",
       "      <td>20.500000</td>\n",
       "      <td>6.000000</td>\n",
       "      <td>83500.000000</td>\n",
       "      <td>2.500000</td>\n",
       "      <td>1048.500000</td>\n",
       "      <td>-2.200000</td>\n",
       "      <td>20.500000</td>\n",
       "    </tr>\n",
       "    <tr>\n",
       "      <th>50%</th>\n",
       "      <td>84.800000</td>\n",
       "      <td>564.295000</td>\n",
       "      <td>85.050000</td>\n",
       "      <td>3.696750e+04</td>\n",
       "      <td>1.294400e+04</td>\n",
       "      <td>23.600000</td>\n",
       "      <td>9.300000</td>\n",
       "      <td>106300.000000</td>\n",
       "      <td>4.200000</td>\n",
       "      <td>2156.500000</td>\n",
       "      <td>-0.700000</td>\n",
       "      <td>23.600000</td>\n",
       "    </tr>\n",
       "    <tr>\n",
       "      <th>75%</th>\n",
       "      <td>88.900000</td>\n",
       "      <td>814.277500</td>\n",
       "      <td>93.800000</td>\n",
       "      <td>2.346150e+05</td>\n",
       "      <td>3.081750e+04</td>\n",
       "      <td>27.325000</td>\n",
       "      <td>14.925000</td>\n",
       "      <td>150125.000000</td>\n",
       "      <td>8.200000</td>\n",
       "      <td>5618.250000</td>\n",
       "      <td>1.600000</td>\n",
       "      <td>27.325000</td>\n",
       "    </tr>\n",
       "    <tr>\n",
       "      <th>max</th>\n",
       "      <td>99.000000</td>\n",
       "      <td>20056.940000</td>\n",
       "      <td>98.600000</td>\n",
       "      <td>1.984358e+08</td>\n",
       "      <td>3.482516e+06</td>\n",
       "      <td>42.800000</td>\n",
       "      <td>89.700000</td>\n",
       "      <td>781900.000000</td>\n",
       "      <td>91.300000</td>\n",
       "      <td>331642.000000</td>\n",
       "      <td>23.700000</td>\n",
       "      <td>42.800000</td>\n",
       "    </tr>\n",
       "  </tbody>\n",
       "</table>\n",
       "</div>"
      ],
      "text/plain": [
       "        highschool     land_area  white_nonhisp   merch_sales  housing_units  \\\n",
       "count  1996.000000   1996.000000    1996.000000  1.996000e+03   1.996000e+03   \n",
       "mean     83.653958    915.380581      77.404960  1.104915e+06   4.306003e+04   \n",
       "std       6.670024   1383.833128      20.030871  6.458476e+06   1.280612e+05   \n",
       "min      54.000000      2.530000       3.700000  0.000000e+00   2.520000e+02   \n",
       "25%      78.900000    403.962500      65.375000  0.000000e+00   6.324000e+03   \n",
       "50%      84.800000    564.295000      85.050000  3.696750e+04   1.294400e+04   \n",
       "75%      88.900000    814.277500      93.800000  2.346150e+05   3.081750e+04   \n",
       "max      99.000000  20056.940000      98.600000  1.984358e+08   3.482516e+06   \n",
       "\n",
       "       travel_time  multi_unit_pct  median_val_ownerhousing  nonenglish_home  \\\n",
       "count  1996.000000     1996.000000              1996.000000      1996.000000   \n",
       "mean     24.013627       11.687275            128709.919840         7.612675   \n",
       "std       5.339151        8.667916             74597.434775         9.918625   \n",
       "min       9.800000        0.000000             19900.000000         0.000000   \n",
       "25%      20.500000        6.000000             83500.000000         2.500000   \n",
       "50%      23.600000        9.300000            106300.000000         4.200000   \n",
       "75%      27.325000       14.925000            150125.000000         8.200000   \n",
       "max      42.800000       89.700000            781900.000000        91.300000   \n",
       "\n",
       "       veterans_09-13      pop_chg  travel_time  \n",
       "count     1996.000000  1996.000000  1996.000000  \n",
       "mean      7009.404309    -0.052806    24.013627  \n",
       "std      17149.838455     3.523358     5.339151  \n",
       "min         31.000000    -9.700000     9.800000  \n",
       "25%       1048.500000    -2.200000    20.500000  \n",
       "50%       2156.500000    -0.700000    23.600000  \n",
       "75%       5618.250000     1.600000    27.325000  \n",
       "max     331642.000000    23.700000    42.800000  "
      ]
     },
     "execution_count": 35,
     "metadata": {},
     "output_type": "execute_result"
    }
   ],
   "source": [
    "trump_char"
   ]
  },
  {
   "cell_type": "code",
   "execution_count": 36,
   "metadata": {
    "collapsed": false
   },
   "outputs": [
    {
     "data": {
      "text/html": [
       "<div>\n",
       "<table border=\"1\" class=\"dataframe\">\n",
       "  <thead>\n",
       "    <tr style=\"text-align: right;\">\n",
       "      <th></th>\n",
       "      <th>highschool</th>\n",
       "      <th>land_area</th>\n",
       "      <th>white_nonhisp</th>\n",
       "      <th>merch_sales</th>\n",
       "      <th>housing_units</th>\n",
       "      <th>travel_time</th>\n",
       "      <th>multi_unit_pct</th>\n",
       "      <th>median_val_ownerhousing</th>\n",
       "      <th>nonenglish_home</th>\n",
       "      <th>veterans_09-13</th>\n",
       "      <th>pop_chg</th>\n",
       "      <th>travel_time</th>\n",
       "    </tr>\n",
       "  </thead>\n",
       "  <tbody>\n",
       "    <tr>\n",
       "      <th>count</th>\n",
       "      <td>1669.000000</td>\n",
       "      <td>1669.000000</td>\n",
       "      <td>1669.000000</td>\n",
       "      <td>1.669000e+03</td>\n",
       "      <td>1.669000e+03</td>\n",
       "      <td>1669.000000</td>\n",
       "      <td>1669.000000</td>\n",
       "      <td>1669.000000</td>\n",
       "      <td>1669.000000</td>\n",
       "      <td>1669.000000</td>\n",
       "      <td>1669.000000</td>\n",
       "      <td>1669.000000</td>\n",
       "    </tr>\n",
       "    <tr>\n",
       "      <th>mean</th>\n",
       "      <td>82.143919</td>\n",
       "      <td>842.841150</td>\n",
       "      <td>70.158418</td>\n",
       "      <td>1.648762e+06</td>\n",
       "      <td>5.341846e+04</td>\n",
       "      <td>24.075494</td>\n",
       "      <td>11.951947</td>\n",
       "      <td>125650.449371</td>\n",
       "      <td>10.841043</td>\n",
       "      <td>8336.581186</td>\n",
       "      <td>0.564290</td>\n",
       "      <td>24.075494</td>\n",
       "    </tr>\n",
       "    <tr>\n",
       "      <th>std</th>\n",
       "      <td>7.090999</td>\n",
       "      <td>1255.374013</td>\n",
       "      <td>21.361909</td>\n",
       "      <td>9.260060e+06</td>\n",
       "      <td>1.529927e+05</td>\n",
       "      <td>5.343439</td>\n",
       "      <td>9.613614</td>\n",
       "      <td>79227.691381</td>\n",
       "      <td>13.822393</td>\n",
       "      <td>19884.163723</td>\n",
       "      <td>4.211124</td>\n",
       "      <td>5.343439</td>\n",
       "    </tr>\n",
       "    <tr>\n",
       "      <th>min</th>\n",
       "      <td>45.000000</td>\n",
       "      <td>2.000000</td>\n",
       "      <td>3.100000</td>\n",
       "      <td>0.000000e+00</td>\n",
       "      <td>1.860000e+02</td>\n",
       "      <td>9.800000</td>\n",
       "      <td>0.000000</td>\n",
       "      <td>35500.000000</td>\n",
       "      <td>0.000000</td>\n",
       "      <td>6.000000</td>\n",
       "      <td>-13.400000</td>\n",
       "      <td>9.800000</td>\n",
       "    </tr>\n",
       "    <tr>\n",
       "      <th>25%</th>\n",
       "      <td>77.300000</td>\n",
       "      <td>412.750000</td>\n",
       "      <td>56.500000</td>\n",
       "      <td>0.000000e+00</td>\n",
       "      <td>5.930000e+03</td>\n",
       "      <td>20.400000</td>\n",
       "      <td>5.800000</td>\n",
       "      <td>80800.000000</td>\n",
       "      <td>2.800000</td>\n",
       "      <td>961.000000</td>\n",
       "      <td>-2.100000</td>\n",
       "      <td>20.400000</td>\n",
       "    </tr>\n",
       "    <tr>\n",
       "      <th>50%</th>\n",
       "      <td>82.600000</td>\n",
       "      <td>575.370000</td>\n",
       "      <td>73.400000</td>\n",
       "      <td>4.235300e+04</td>\n",
       "      <td>1.268800e+04</td>\n",
       "      <td>23.700000</td>\n",
       "      <td>9.100000</td>\n",
       "      <td>102800.000000</td>\n",
       "      <td>5.400000</td>\n",
       "      <td>2092.000000</td>\n",
       "      <td>-0.100000</td>\n",
       "      <td>23.700000</td>\n",
       "    </tr>\n",
       "    <tr>\n",
       "      <th>75%</th>\n",
       "      <td>87.800000</td>\n",
       "      <td>850.620000</td>\n",
       "      <td>89.100000</td>\n",
       "      <td>2.708650e+05</td>\n",
       "      <td>3.597200e+04</td>\n",
       "      <td>27.500000</td>\n",
       "      <td>15.200000</td>\n",
       "      <td>143600.000000</td>\n",
       "      <td>12.300000</td>\n",
       "      <td>6672.000000</td>\n",
       "      <td>2.600000</td>\n",
       "      <td>27.500000</td>\n",
       "    </tr>\n",
       "    <tr>\n",
       "      <th>max</th>\n",
       "      <td>97.300000</td>\n",
       "      <td>20056.940000</td>\n",
       "      <td>97.900000</td>\n",
       "      <td>2.054788e+08</td>\n",
       "      <td>3.482516e+06</td>\n",
       "      <td>42.800000</td>\n",
       "      <td>98.500000</td>\n",
       "      <td>828100.000000</td>\n",
       "      <td>95.600000</td>\n",
       "      <td>331642.000000</td>\n",
       "      <td>23.700000</td>\n",
       "      <td>42.800000</td>\n",
       "    </tr>\n",
       "  </tbody>\n",
       "</table>\n",
       "</div>"
      ],
      "text/plain": [
       "        highschool     land_area  white_nonhisp   merch_sales  housing_units  \\\n",
       "count  1669.000000   1669.000000    1669.000000  1.669000e+03   1.669000e+03   \n",
       "mean     82.143919    842.841150      70.158418  1.648762e+06   5.341846e+04   \n",
       "std       7.090999   1255.374013      21.361909  9.260060e+06   1.529927e+05   \n",
       "min      45.000000      2.000000       3.100000  0.000000e+00   1.860000e+02   \n",
       "25%      77.300000    412.750000      56.500000  0.000000e+00   5.930000e+03   \n",
       "50%      82.600000    575.370000      73.400000  4.235300e+04   1.268800e+04   \n",
       "75%      87.800000    850.620000      89.100000  2.708650e+05   3.597200e+04   \n",
       "max      97.300000  20056.940000      97.900000  2.054788e+08   3.482516e+06   \n",
       "\n",
       "       travel_time  multi_unit_pct  median_val_ownerhousing  nonenglish_home  \\\n",
       "count  1669.000000     1669.000000              1669.000000      1669.000000   \n",
       "mean     24.075494       11.951947            125650.449371        10.841043   \n",
       "std       5.343439        9.613614             79227.691381        13.822393   \n",
       "min       9.800000        0.000000             35500.000000         0.000000   \n",
       "25%      20.400000        5.800000             80800.000000         2.800000   \n",
       "50%      23.700000        9.100000            102800.000000         5.400000   \n",
       "75%      27.500000       15.200000            143600.000000        12.300000   \n",
       "max      42.800000       98.500000            828100.000000        95.600000   \n",
       "\n",
       "       veterans_09-13      pop_chg  travel_time  \n",
       "count     1669.000000  1669.000000  1669.000000  \n",
       "mean      8336.581186     0.564290    24.075494  \n",
       "std      19884.163723     4.211124     5.343439  \n",
       "min          6.000000   -13.400000     9.800000  \n",
       "25%        961.000000    -2.100000    20.400000  \n",
       "50%       2092.000000    -0.100000    23.700000  \n",
       "75%       6672.000000     2.600000    27.500000  \n",
       "max     331642.000000    23.700000    42.800000  "
      ]
     },
     "execution_count": 36,
     "metadata": {},
     "output_type": "execute_result"
    }
   ],
   "source": [
    "clinton_char"
   ]
  },
  {
   "cell_type": "markdown",
   "metadata": {},
   "source": [
    "### Next Steps:\n",
    "- attempt random forest model\n",
    "- determine how to improve predictive power\n",
    "- try other methods of cross-validation\n",
    "- attempt to predict general election (model not robust enough currently...)"
   ]
  },
  {
   "cell_type": "markdown",
   "metadata": {},
   "source": [
    "### A model to predict general election results"
   ]
  },
  {
   "cell_type": "code",
   "execution_count": 37,
   "metadata": {
    "collapsed": false
   },
   "outputs": [],
   "source": [
    "losses = raw[((raw['candidate'] != 'Hillary Clinton') & (raw['candidate'] != 'Donald Trump')) & (raw['rank'] == 1.0)] "
   ]
  },
  {
   "cell_type": "code",
   "execution_count": 38,
   "metadata": {
    "collapsed": true
   },
   "outputs": [],
   "source": [
    "# battleground states per http://www.politico.com/2016-election/swing-states\n",
    "# will be able to focus our predictions on these states to predict outcome\n",
    "battle_ground = {\n",
    "    'CO': 'Colorado',\n",
    "    'FL': 'Florida',\n",
    "    'IA': 'Iowa',\n",
    "    'MI': 'Michigan',\n",
    "    'NV': 'Nevada',\n",
    "    'NH': 'New Hampshire',\n",
    "    'NC': 'North Carolina',\n",
    "    'OH': 'Ohio',\n",
    "    'PA': 'Pennsylvania',\n",
    "    'VA': 'Virginia',\n",
    "    'WI': 'Wisconsin'\n",
    "}"
   ]
  },
  {
   "cell_type": "code",
   "execution_count": 39,
   "metadata": {
    "collapsed": false
   },
   "outputs": [],
   "source": [
    "losses_battle = losses[(losses['state_abbreviation'] == 'CO') | (losses['state_abbreviation'] == 'FL') |\n",
    "                                                   (losses['state_abbreviation'] == 'IA') |\n",
    "                                                    (losses['state_abbreviation'] == 'MI') |\n",
    "                                                     (losses['state_abbreviation'] == 'NV') |\n",
    "                                                      (losses['state_abbreviation'] == 'NH') |\n",
    "                                                       (losses['state_abbreviation'] == 'NC') |\n",
    "                                                        (losses['state_abbreviation'] == 'OH') |\n",
    "                                                         (losses['state_abbreviation'] == 'PA') |\n",
    "                                                          (losses['state_abbreviation'] == 'VA') |\n",
    "                                                           (losses['state_abbreviation'] == 'WI')]"
   ]
  },
  {
   "cell_type": "markdown",
   "metadata": {},
   "source": [
    "### Below is a dataframe that contains losses for Donald Trump or Hillary Clinton in BattleGround counties"
   ]
  },
  {
   "cell_type": "code",
   "execution_count": 40,
   "metadata": {
    "collapsed": false
   },
   "outputs": [
    {
     "data": {
      "text/plain": [
       "array(['Bernie Sanders', 'Marco Rubio', 'Ted Cruz', 'John Kasich'], dtype=object)"
      ]
     },
     "execution_count": 40,
     "metadata": {},
     "output_type": "execute_result"
    }
   ],
   "source": [
    "losses_battle.candidate.unique()"
   ]
  },
  {
   "cell_type": "markdown",
   "metadata": {},
   "source": [
    "### Theory 1: Transitive Voter Preferences (e.g. voters vote their relative party)"
   ]
  },
  {
   "cell_type": "code",
   "execution_count": 41,
   "metadata": {
    "collapsed": false
   },
   "outputs": [],
   "source": [
    "winner = raw[((raw['candidate'] == 'Hillary Clinton') | (raw['candidate'] == 'Donald Trump')) & (raw['rank'] <= 1.5)]"
   ]
  },
  {
   "cell_type": "code",
   "execution_count": 42,
   "metadata": {
    "collapsed": false
   },
   "outputs": [],
   "source": [
    "winner.head(); # a dataframe with the results with Trump or Clinton winning."
   ]
  },
  {
   "cell_type": "code",
   "execution_count": 43,
   "metadata": {
    "collapsed": false
   },
   "outputs": [],
   "source": [
    "# converting voters for competitors within primary to the party winners\n",
    "losses_battle = losses_battle.replace(to_replace={\n",
    "        'candidate': {'Bernie Sanders': 'Hillary Clinton', 'Ted Cruz': 'Donald Trump', 'Marco Rubio': 'Donald Trump',\n",
    "                      'John Kasich': 'Donald Trump'}})"
   ]
  },
  {
   "cell_type": "code",
   "execution_count": 44,
   "metadata": {
    "collapsed": true
   },
   "outputs": [],
   "source": [
    "losses = losses.replace(to_replace={\n",
    "        'candidate': {'Bernie Sanders': 'Hillary Clinton', 'Ted Cruz': 'Donald Trump', 'Marco Rubio': 'Donald Trump',\n",
    "                      'John Kasich': 'Donald Trump'}})"
   ]
  },
  {
   "cell_type": "code",
   "execution_count": 45,
   "metadata": {
    "collapsed": true
   },
   "outputs": [],
   "source": [
    "general_tot = winner.append(losses)\n",
    "\n",
    "general_battle = winner.append(losses_battle)\n",
    "\n",
    "county_votes = raw.groupby(by=['fips', 'party'])['votes'].sum()\n",
    "\n",
    "general_tot = general_tot.join(county_votes, on=['fips', 'party'], lsuffix='left', rsuffix='right')"
   ]
  },
  {
   "cell_type": "code",
   "execution_count": 46,
   "metadata": {
    "collapsed": false
   },
   "outputs": [],
   "source": [
    "general_tot = pd.get_dummies(general_tot, columns=['party', 'candidate'], drop_first=True)\n",
    "\n",
    "# generating dummies for party and candidate"
   ]
  },
  {
   "cell_type": "code",
   "execution_count": 47,
   "metadata": {
    "collapsed": true
   },
   "outputs": [],
   "source": [
    "general_tot['win'] = general_tot.groupby(by=['fips'])['votesright'].rank(ascending=False) \n",
    "\n",
    "general_tot = general_tot.replace(to_replace={'win': {2: 0}})"
   ]
  },
  {
   "cell_type": "code",
   "execution_count": 48,
   "metadata": {
    "collapsed": false
   },
   "outputs": [
    {
     "data": {
      "text/html": [
       "<div>\n",
       "<table border=\"1\" class=\"dataframe\">\n",
       "  <thead>\n",
       "    <tr style=\"text-align: right;\">\n",
       "      <th></th>\n",
       "      <th>fips</th>\n",
       "      <th>area_name</th>\n",
       "      <th>state_abbreviation</th>\n",
       "      <th>pop_2014_est</th>\n",
       "      <th>pop_2010_est</th>\n",
       "      <th>pop_chg</th>\n",
       "      <th>pop_2010</th>\n",
       "      <th>under_5_pct</th>\n",
       "      <th>under_18_pct</th>\n",
       "      <th>above_64_pct</th>\n",
       "      <th>...</th>\n",
       "      <th>state</th>\n",
       "      <th>county</th>\n",
       "      <th>votesleft</th>\n",
       "      <th>fraction_votes</th>\n",
       "      <th>rank</th>\n",
       "      <th>primary_win</th>\n",
       "      <th>votesright</th>\n",
       "      <th>party_Republican</th>\n",
       "      <th>candidate_Hillary Clinton</th>\n",
       "      <th>win</th>\n",
       "    </tr>\n",
       "  </thead>\n",
       "  <tbody>\n",
       "    <tr>\n",
       "      <th>1</th>\n",
       "      <td>1001</td>\n",
       "      <td>Autauga County</td>\n",
       "      <td>AL</td>\n",
       "      <td>55395</td>\n",
       "      <td>54571</td>\n",
       "      <td>1.5</td>\n",
       "      <td>54571</td>\n",
       "      <td>6.0</td>\n",
       "      <td>25.2</td>\n",
       "      <td>13.8</td>\n",
       "      <td>...</td>\n",
       "      <td>Alabama</td>\n",
       "      <td>Autauga</td>\n",
       "      <td>2387</td>\n",
       "      <td>0.800</td>\n",
       "      <td>1.0</td>\n",
       "      <td>1</td>\n",
       "      <td>2931</td>\n",
       "      <td>0.0</td>\n",
       "      <td>1.0</td>\n",
       "      <td>0.0</td>\n",
       "    </tr>\n",
       "    <tr>\n",
       "      <th>3</th>\n",
       "      <td>1001</td>\n",
       "      <td>Autauga County</td>\n",
       "      <td>AL</td>\n",
       "      <td>55395</td>\n",
       "      <td>54571</td>\n",
       "      <td>1.5</td>\n",
       "      <td>54571</td>\n",
       "      <td>6.0</td>\n",
       "      <td>25.2</td>\n",
       "      <td>13.8</td>\n",
       "      <td>...</td>\n",
       "      <td>Alabama</td>\n",
       "      <td>Autauga</td>\n",
       "      <td>5387</td>\n",
       "      <td>0.445</td>\n",
       "      <td>1.0</td>\n",
       "      <td>1</td>\n",
       "      <td>11839</td>\n",
       "      <td>1.0</td>\n",
       "      <td>0.0</td>\n",
       "      <td>1.0</td>\n",
       "    </tr>\n",
       "    <tr>\n",
       "      <th>8</th>\n",
       "      <td>1003</td>\n",
       "      <td>Baldwin County</td>\n",
       "      <td>AL</td>\n",
       "      <td>200111</td>\n",
       "      <td>182265</td>\n",
       "      <td>9.8</td>\n",
       "      <td>182265</td>\n",
       "      <td>5.6</td>\n",
       "      <td>22.2</td>\n",
       "      <td>18.7</td>\n",
       "      <td>...</td>\n",
       "      <td>Alabama</td>\n",
       "      <td>Baldwin</td>\n",
       "      <td>5290</td>\n",
       "      <td>0.647</td>\n",
       "      <td>1.0</td>\n",
       "      <td>1</td>\n",
       "      <td>7984</td>\n",
       "      <td>0.0</td>\n",
       "      <td>1.0</td>\n",
       "      <td>0.0</td>\n",
       "    </tr>\n",
       "    <tr>\n",
       "      <th>10</th>\n",
       "      <td>1003</td>\n",
       "      <td>Baldwin County</td>\n",
       "      <td>AL</td>\n",
       "      <td>200111</td>\n",
       "      <td>182265</td>\n",
       "      <td>9.8</td>\n",
       "      <td>182265</td>\n",
       "      <td>5.6</td>\n",
       "      <td>22.2</td>\n",
       "      <td>18.7</td>\n",
       "      <td>...</td>\n",
       "      <td>Alabama</td>\n",
       "      <td>Baldwin</td>\n",
       "      <td>23618</td>\n",
       "      <td>0.469</td>\n",
       "      <td>1.0</td>\n",
       "      <td>1</td>\n",
       "      <td>49100</td>\n",
       "      <td>1.0</td>\n",
       "      <td>0.0</td>\n",
       "      <td>1.0</td>\n",
       "    </tr>\n",
       "    <tr>\n",
       "      <th>15</th>\n",
       "      <td>1005</td>\n",
       "      <td>Barbour County</td>\n",
       "      <td>AL</td>\n",
       "      <td>26887</td>\n",
       "      <td>27457</td>\n",
       "      <td>-2.1</td>\n",
       "      <td>27457</td>\n",
       "      <td>5.7</td>\n",
       "      <td>21.2</td>\n",
       "      <td>16.5</td>\n",
       "      <td>...</td>\n",
       "      <td>Alabama</td>\n",
       "      <td>Barbour</td>\n",
       "      <td>2567</td>\n",
       "      <td>0.906</td>\n",
       "      <td>1.0</td>\n",
       "      <td>1</td>\n",
       "      <td>2789</td>\n",
       "      <td>0.0</td>\n",
       "      <td>1.0</td>\n",
       "      <td>0.0</td>\n",
       "    </tr>\n",
       "  </tbody>\n",
       "</table>\n",
       "<p>5 rows × 64 columns</p>\n",
       "</div>"
      ],
      "text/plain": [
       "    fips       area_name state_abbreviation  pop_2014_est  pop_2010_est  \\\n",
       "1   1001  Autauga County                 AL         55395         54571   \n",
       "3   1001  Autauga County                 AL         55395         54571   \n",
       "8   1003  Baldwin County                 AL        200111        182265   \n",
       "10  1003  Baldwin County                 AL        200111        182265   \n",
       "15  1005  Barbour County                 AL         26887         27457   \n",
       "\n",
       "    pop_chg  pop_2010  under_5_pct  under_18_pct  above_64_pct ...     state  \\\n",
       "1       1.5     54571          6.0          25.2          13.8 ...   Alabama   \n",
       "3       1.5     54571          6.0          25.2          13.8 ...   Alabama   \n",
       "8       9.8    182265          5.6          22.2          18.7 ...   Alabama   \n",
       "10      9.8    182265          5.6          22.2          18.7 ...   Alabama   \n",
       "15     -2.1     27457          5.7          21.2          16.5 ...   Alabama   \n",
       "\n",
       "     county  votesleft  fraction_votes  rank  primary_win  votesright  \\\n",
       "1   Autauga       2387           0.800   1.0            1        2931   \n",
       "3   Autauga       5387           0.445   1.0            1       11839   \n",
       "8   Baldwin       5290           0.647   1.0            1        7984   \n",
       "10  Baldwin      23618           0.469   1.0            1       49100   \n",
       "15  Barbour       2567           0.906   1.0            1        2789   \n",
       "\n",
       "    party_Republican  candidate_Hillary Clinton  win  \n",
       "1                0.0                        1.0  0.0  \n",
       "3                1.0                        0.0  1.0  \n",
       "8                0.0                        1.0  0.0  \n",
       "10               1.0                        0.0  1.0  \n",
       "15               0.0                        1.0  0.0  \n",
       "\n",
       "[5 rows x 64 columns]"
      ]
     },
     "execution_count": 48,
     "metadata": {},
     "output_type": "execute_result"
    }
   ],
   "source": [
    "general_tot.head() # previewing dataframe"
   ]
  },
  {
   "cell_type": "code",
   "execution_count": 49,
   "metadata": {
    "collapsed": true
   },
   "outputs": [],
   "source": [
    "raw_dummy = pd.get_dummies(raw, columns=['party', 'candidate'], drop_first=True)\n",
    "#raw_dummy['win'] = general_tot.groupby(by=['fips'])['votesright'].rank(ascending=False)"
   ]
  },
  {
   "cell_type": "code",
   "execution_count": 50,
   "metadata": {
    "collapsed": false
   },
   "outputs": [
    {
     "name": "stdout",
     "output_type": "stream",
     "text": [
      "train MSE:  0.15069149991\n",
      "test MSE:  0.223678787676\n"
     ]
    }
   ],
   "source": [
    "model = tree.DecisionTreeRegressor()\n",
    "\n",
    "numeric = general_tot.select_dtypes(exclude=['object']) # selecting only numeric types from dataset\n",
    "\n",
    "X_col = numeric.columns.drop(['fraction_votes', 'votesleft', 'votesright', 'rank', 'primary_win', 'win']) \n",
    "# dropping redundant values\n",
    "y_col = 'fraction_votes'\n",
    "\n",
    "# training set is based on primary results\n",
    "train_X = raw_dummy[X_col]\n",
    "train_y = raw_dummy[y_col]\n",
    "\n",
    "# test set is consolidated down to two main candidates for each party\n",
    "test_X = general_tot[X_col]\n",
    "test_y = general_tot[y_col]\n",
    "\n",
    "model.fit(train_X, train_y)\n",
    "train_yhat = model.predict(train_X)\n",
    "print 'train MSE: ', np.sqrt(metrics.mean_squared_error(train_y, train_yhat))\n",
    "\n",
    "test_yhat = model.predict(test_X)\n",
    "print 'test MSE: ', np.sqrt(metrics.mean_squared_error(test_y, test_yhat))"
   ]
  },
  {
   "cell_type": "markdown",
   "metadata": {},
   "source": [
    "### model above trained using primary dataset; that built assumptions into our model (mainly I forced party to be a key determinant of choice. below I use a train test split that hopefully gives more accurate results"
   ]
  },
  {
   "cell_type": "code",
   "execution_count": 51,
   "metadata": {
    "collapsed": false
   },
   "outputs": [
    {
     "data": {
      "text/plain": [
       "Index([u'fips', u'area_name', u'state_abbreviation', u'pop_2014_est',\n",
       "       u'pop_2010_est', u'pop_chg', u'pop_2010', u'under_5_pct',\n",
       "       u'under_18_pct', u'above_64_pct', u'female_pct', u'white',\n",
       "       u'black_alone', u'native', u'asian', u'pacific', u'multi', u'hispanic',\n",
       "       u'white_nonhisp', u'POP715213', u'foreign_born_09-13',\n",
       "       u'nonenglish_home', u'highschool', u'bachelors', u'veterans_09-13',\n",
       "       u'travel_time', u'housing_units', u'home_rate', u'multi_unit_pct',\n",
       "       u'median_val_ownerhousing', u'HSD410213', u'household_size',\n",
       "       u'percap_income_1yr', u'median_income', u'pct_below_poverty',\n",
       "       u'priv_nonfarm', u'BZA110213', u'BZA115213', u'NES010213', u'num_firms',\n",
       "       u'black_firm_pct', u'native_firm_pct', u'asian_firm_pct',\n",
       "       u'pacific_firm_pct', u'hispanic_firm_pct', u'female_firm_pct',\n",
       "       u'mfct_shipments_07', u'merch_sales', u'rsales_07', u'rsales_pcap_07',\n",
       "       u'service_sales_07', u'bldng_permits', u'land_area', u'pop_per_m2',\n",
       "       u'state', u'county', u'votesleft', u'fraction_votes', u'rank',\n",
       "       u'primary_win', u'votesright', u'party_Republican',\n",
       "       u'candidate_Hillary Clinton', u'win'],\n",
       "      dtype='object')"
      ]
     },
     "execution_count": 51,
     "metadata": {},
     "output_type": "execute_result"
    }
   ],
   "source": [
    "general_tot.columns"
   ]
  },
  {
   "cell_type": "code",
   "execution_count": 52,
   "metadata": {
    "collapsed": false
   },
   "outputs": [
    {
     "name": "stdout",
     "output_type": "stream",
     "text": [
      "train MSE:  0.0844524750974\n",
      "test MSE:  0.193070765075\n"
     ]
    }
   ],
   "source": [
    "model = tree.DecisionTreeRegressor()\n",
    "\n",
    "numeric = general_tot.select_dtypes(exclude=['object']) # selecting only numeric types from dataset\n",
    "\n",
    "X_col = numeric.columns.drop(['fraction_votes', 'votesleft', 'votesright', 'rank', 'primary_win', 'fips', 'party_Republican', \n",
    "                             'candidate_Hillary Clinton', 'win']) \n",
    "# dropping redundant values\n",
    "y_col = 'fraction_votes'\n",
    "\n",
    "X = general_tot[X_col]\n",
    "y = general_tot[y_col]\n",
    "\n",
    "X_train, X_test, y_train, y_test = cross_validation.train_test_split(X, y, test_size=0.3)\n",
    "\n",
    "model.fit(X_train, y_train)\n",
    "\n",
    "train_yhat = model.predict(X_train)\n",
    "print 'train MSE: ', np.sqrt(metrics.mean_squared_error(y_train, train_yhat))\n",
    "\n",
    "test_yhat = model.predict(X_test)\n",
    "print 'test MSE: ', np.sqrt(metrics.mean_squared_error(y_test, test_yhat))"
   ]
  },
  {
   "cell_type": "code",
   "execution_count": 53,
   "metadata": {
    "collapsed": false
   },
   "outputs": [
    {
     "data": {
      "text/plain": [
       "[(0.11715189319211664, 'black_alone'),\n",
       " (0.098955381939298606, 'land_area'),\n",
       " (0.052502453412465983, 'median_val_ownerhousing'),\n",
       " (0.040903549029899636, 'bldng_permits'),\n",
       " (0.033748911615768609, 'highschool'),\n",
       " (0.029548594990616298, 'white_nonhisp'),\n",
       " (0.029196157166401625, 'travel_time'),\n",
       " (0.028955357175850637, 'under_5_pct'),\n",
       " (0.028108681448996052, 'hispanic'),\n",
       " (0.02810755154159196, 'rsales_pcap_07')]"
      ]
     },
     "execution_count": 53,
     "metadata": {},
     "output_type": "execute_result"
    }
   ],
   "source": [
    "sorted(zip(model.feature_importances_, X_train.columns.values), reverse = True)[:10] # ranking of 10 predictor relevance"
   ]
  },
  {
   "cell_type": "code",
   "execution_count": 54,
   "metadata": {
    "collapsed": false
   },
   "outputs": [],
   "source": [
    "col = numeric.columns.drop(['fraction_votes', 'votesleft', 'votesright', 'rank', 'primary_win', 'fips', \n",
    "                            'party_Republican', 'win']) \n",
    "\n",
    "X = general_tot[col]\n",
    "\n",
    "predictors = general_tot[['land_area', 'black_alone', 'hispanic', 'median_val_ownerhousing', \n",
    "                  'candidate_Hillary Clinton']].join(y_test)"
   ]
  },
  {
   "cell_type": "code",
   "execution_count": 55,
   "metadata": {
    "collapsed": false
   },
   "outputs": [],
   "source": [
    "clinton = predictors[predictors['candidate_Hillary Clinton'] == 1].dropna()\n",
    "trump = predictors[predictors['candidate_Hillary Clinton'] == 0].dropna()"
   ]
  },
  {
   "cell_type": "code",
   "execution_count": 56,
   "metadata": {
    "collapsed": false
   },
   "outputs": [
    {
     "data": {
      "text/plain": [
       "Index([u'land_area', u'black_alone', u'hispanic', u'median_val_ownerhousing',\n",
       "       u'candidate_Hillary Clinton', u'fraction_votes'],\n",
       "      dtype='object')"
      ]
     },
     "execution_count": 56,
     "metadata": {},
     "output_type": "execute_result"
    }
   ],
   "source": [
    "clinton.columns"
   ]
  },
  {
   "cell_type": "markdown",
   "metadata": {},
   "source": [
    "## Charts"
   ]
  },
  {
   "cell_type": "code",
   "execution_count": 57,
   "metadata": {
    "collapsed": false
   },
   "outputs": [
    {
     "data": {
      "text/plain": [
       "<seaborn.axisgrid.PairGrid at 0x116740790>"
      ]
     },
     "execution_count": 57,
     "metadata": {},
     "output_type": "execute_result"
    },
    {
     "data": {
      "image/png": "[encoded data removed]",
      "text/plain": [
       "<matplotlib.figure.Figure at 0x116740bd0>"
      ]
     },
     "metadata": {},
     "output_type": "display_data"
    }
   ],
   "source": [
    "sns.pairplot(clinton[['median_val_ownerhousing', 'black_alone', 'hispanic', 'fraction_votes']])"
   ]
  },
  {
   "cell_type": "code",
   "execution_count": 58,
   "metadata": {
    "collapsed": false
   },
   "outputs": [
    {
     "data": {
      "text/plain": [
       "<seaborn.axisgrid.PairGrid at 0x120b6c7d0>"
      ]
     },
     "execution_count": 58,
     "metadata": {},
     "output_type": "execute_result"
    },
    {
     "data": {
      "image/png": "[encoded data removed]",
      "text/plain": [
       "<matplotlib.figure.Figure at 0x11eb7f250>"
      ]
     },
     "metadata": {},
     "output_type": "display_data"
    }
   ],
   "source": [
    "sns.pairplot(trump[['land_area', 'black_alone', 'hispanic', 'fraction_votes']])"
   ]
  },
  {
   "cell_type": "code",
   "execution_count": 59,
   "metadata": {
    "collapsed": false
   },
   "outputs": [
    {
     "data": {
      "text/plain": [
       "<matplotlib.axes._subplots.AxesSubplot at 0x1224893d0>"
      ]
     },
     "execution_count": 59,
     "metadata": {},
     "output_type": "execute_result"
    },
    {
     "data": {
      "image/png": "[encoded data removed]",
      "text/plain": [
       "<matplotlib.figure.Figure at 0x122489110>"
      ]
     },
     "metadata": {},
     "output_type": "display_data"
    }
   ],
   "source": [
    "sns.regplot(x='black_alone', y='fraction_votes', data=clinton)"
   ]
  },
  {
   "cell_type": "code",
   "execution_count": 60,
   "metadata": {
    "collapsed": false
   },
   "outputs": [
    {
     "data": {
      "text/plain": [
       "<matplotlib.axes._subplots.AxesSubplot at 0x120f6efd0>"
      ]
     },
     "execution_count": 60,
     "metadata": {},
     "output_type": "execute_result"
    },
    {
     "data": {
      "image/png": "[encoded data removed]",
      "text/plain": [
       "<matplotlib.figure.Figure at 0x120bbe290>"
      ]
     },
     "metadata": {},
     "output_type": "display_data"
    }
   ],
   "source": [
    "sns.regplot(x='black_alone', y='fraction_votes', data=trump, color='r')"
   ]
  },
  {
   "cell_type": "code",
   "execution_count": 61,
   "metadata": {
    "collapsed": false
   },
   "outputs": [
    {
     "data": {
      "text/plain": [
       "<matplotlib.axes._subplots.AxesSubplot at 0x12300a6d0>"
      ]
     },
     "execution_count": 61,
     "metadata": {},
     "output_type": "execute_result"
    },
    {
     "data": {
      "image/png": "[encoded data removed]",
      "text/plain": [
       "<matplotlib.figure.Figure at 0x120ee4190>"
      ]
     },
     "metadata": {},
     "output_type": "display_data"
    }
   ],
   "source": [
    "sns.regplot(x='median_val_ownerhousing', y='fraction_votes', data=trump, color='r')"
   ]
  },
  {
   "cell_type": "code",
   "execution_count": 62,
   "metadata": {
    "collapsed": false
   },
   "outputs": [
    {
     "data": {
      "text/plain": [
       "<matplotlib.axes._subplots.AxesSubplot at 0x1227d81d0>"
      ]
     },
     "execution_count": 62,
     "metadata": {},
     "output_type": "execute_result"
    },
    {
     "data": {
      "image/png": "[encoded data removed]",
      "text/plain": [
       "<matplotlib.figure.Figure at 0x120baf350>"
      ]
     },
     "metadata": {},
     "output_type": "display_data"
    }
   ],
   "source": [
    "sns.regplot(x='median_val_ownerhousing', y='fraction_votes', data=clinton)"
   ]
  },
  {
   "cell_type": "markdown",
   "metadata": {},
   "source": [
    "## Attempt at Logit Regression"
   ]
  },
  {
   "cell_type": "code",
   "execution_count": 63,
   "metadata": {
    "collapsed": false
   },
   "outputs": [],
   "source": [
    "import statsmodels.api as sm\n",
    "\n",
    "numeric = general_tot.select_dtypes(exclude=['object']) # selecting only numeric types from dataset\n",
    "\n",
    "X_col = numeric.columns.drop(['fraction_votes', 'votesleft', 'votesright', 'rank', 'win']) # dropping redundant values\n",
    "y_col = 'win'\n",
    "\n",
    "\n",
    "test_X = general_tot[['under_18_pct', 'black_alone', 'highschool']]\n",
    "test_y = general_tot[y_col]\n",
    "\n",
    "\n",
    "logit = sm.Logit(test_y, test_X)\n",
    "\n",
    "# model.fit(train_X, train_y)\n",
    "# train_yhat = model.predict(train_X)\n",
    "# print 'train MSE: ', np.sqrt(metrics.mean_squared_error(train_y, train_yhat))\n",
    "\n",
    "# test_yhat = model.predict(test_X)\n",
    "# print 'test MSE: ', np.sqrt(metrics.mean_squared_error(test_y, test_yhat))"
   ]
  },
  {
   "cell_type": "code",
   "execution_count": 64,
   "metadata": {
    "collapsed": false
   },
   "outputs": [
    {
     "name": "stdout",
     "output_type": "stream",
     "text": [
      "Optimization terminated successfully.\n",
      "         Current function value: 0.692929\n",
      "         Iterations 3\n"
     ]
    }
   ],
   "source": [
    "result = logit.fit()"
   ]
  },
  {
   "cell_type": "code",
   "execution_count": 65,
   "metadata": {
    "collapsed": false
   },
   "outputs": [
    {
     "name": "stdout",
     "output_type": "stream",
     "text": [
      "                           Logit Regression Results                           \n",
      "==============================================================================\n",
      "Dep. Variable:                    win   No. Observations:                 5507\n",
      "Model:                          Logit   Df Residuals:                     5504\n",
      "Method:                           MLE   Df Model:                            2\n",
      "Date:                Wed, 10 Aug 2016   Pseudo R-squ.:               0.0001260\n",
      "Time:                        15:29:15   Log-Likelihood:                -3816.0\n",
      "converged:                       True   LL-Null:                       -3816.4\n",
      "                                        LLR p-value:                    0.6183\n",
      "================================================================================\n",
      "                   coef    std err          z      P>|z|      [95.0% Conf. Int.]\n",
      "--------------------------------------------------------------------------------\n",
      "under_18_pct    -0.0037      0.007     -0.555      0.579        -0.017     0.009\n",
      "black_alone     -0.0010      0.002     -0.568      0.570        -0.005     0.002\n",
      "highschool       0.0015      0.002      0.848      0.396        -0.002     0.005\n",
      "================================================================================\n"
     ]
    }
   ],
   "source": [
    "print result.summary()"
   ]
  },
  {
   "cell_type": "markdown",
   "metadata": {},
   "source": [
    "the logistic regression does not return significant results. likely a fitting error\n",
    "above we need to create new column that converts count of votes to a fraction of votes column"
   ]
  }
 ],
 "metadata": {
  "kernelspec": {
   "display_name": "Python 2",
   "language": "python",
   "name": "python2"
  },
  "language_info": {
   "codemirror_mode": {
    "name": "ipython",
    "version": 2
   },
   "file_extension": ".py",
   "mimetype": "text/x-python",
   "name": "python",
   "nbconvert_exporter": "python",
   "pygments_lexer": "ipython2",
   "version": "2.7.11"
  }
 },
 "nbformat": 4,
 "nbformat_minor": 0
}
