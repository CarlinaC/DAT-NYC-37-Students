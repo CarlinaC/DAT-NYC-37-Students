{
 "cells": [
  {
   "cell_type": "markdown",
   "metadata": {},
   "source": [
    "perhaps add more graphs if can get time to."
   ]
  },
  {
   "cell_type": "code",
   "execution_count": 1,
   "metadata": {
    "collapsed": false
   },
   "outputs": [],
   "source": [
    "# importing necessary packages\n",
    "\n",
    "import pandas as pd\n",
    "import seaborn as sns\n",
    "import matplotlib.pyplot as plt\n",
    "import numpy as np\n",
    "from sklearn import cross_validation, tree, metrics, ensemble\n",
    "\n",
    "%matplotlib inline"
   ]
  },
  {
   "cell_type": "code",
   "execution_count": 2,
   "metadata": {
    "collapsed": false
   },
   "outputs": [],
   "source": [
    "# reading in datasets\n",
    "\n",
    "county_facts = pd.read_csv(\"../datasets/2016-us-election/county_facts.csv\")\n",
    "county_facts_dictionary = pd.read_csv(\"../datasets/2016-us-election/county_facts_dictionary.csv\")\n",
    "results = pd.read_csv('../datasets/2016-us-election/primary_results.csv')"
   ]
  },
  {
   "cell_type": "code",
   "execution_count": 3,
   "metadata": {
    "collapsed": false
   },
   "outputs": [
    {
     "data": {
      "text/html": [
       "<div>\n",
       "<table border=\"1\" class=\"dataframe\">\n",
       "  <thead>\n",
       "    <tr style=\"text-align: right;\">\n",
       "      <th></th>\n",
       "      <th>column_name</th>\n",
       "      <th>description</th>\n",
       "    </tr>\n",
       "  </thead>\n",
       "  <tbody>\n",
       "    <tr>\n",
       "      <th>0</th>\n",
       "      <td>PST045214</td>\n",
       "      <td>Population, 2014 estimate</td>\n",
       "    </tr>\n",
       "    <tr>\n",
       "      <th>1</th>\n",
       "      <td>PST040210</td>\n",
       "      <td>Population, 2010 (April 1) estimates base</td>\n",
       "    </tr>\n",
       "    <tr>\n",
       "      <th>2</th>\n",
       "      <td>PST120214</td>\n",
       "      <td>Population, percent change - April 1, 2010 to ...</td>\n",
       "    </tr>\n",
       "    <tr>\n",
       "      <th>3</th>\n",
       "      <td>POP010210</td>\n",
       "      <td>Population, 2010</td>\n",
       "    </tr>\n",
       "    <tr>\n",
       "      <th>4</th>\n",
       "      <td>AGE135214</td>\n",
       "      <td>Persons under 5 years, percent, 2014</td>\n",
       "    </tr>\n",
       "    <tr>\n",
       "      <th>5</th>\n",
       "      <td>AGE295214</td>\n",
       "      <td>Persons under 18 years, percent, 2014</td>\n",
       "    </tr>\n",
       "    <tr>\n",
       "      <th>6</th>\n",
       "      <td>AGE775214</td>\n",
       "      <td>Persons 65 years and over, percent, 2014</td>\n",
       "    </tr>\n",
       "    <tr>\n",
       "      <th>7</th>\n",
       "      <td>SEX255214</td>\n",
       "      <td>Female persons, percent, 2014</td>\n",
       "    </tr>\n",
       "    <tr>\n",
       "      <th>8</th>\n",
       "      <td>RHI125214</td>\n",
       "      <td>White alone, percent, 2014</td>\n",
       "    </tr>\n",
       "    <tr>\n",
       "      <th>9</th>\n",
       "      <td>RHI225214</td>\n",
       "      <td>Black or African American alone, percent, 2014</td>\n",
       "    </tr>\n",
       "    <tr>\n",
       "      <th>10</th>\n",
       "      <td>RHI325214</td>\n",
       "      <td>American Indian and Alaska Native alone, perce...</td>\n",
       "    </tr>\n",
       "    <tr>\n",
       "      <th>11</th>\n",
       "      <td>RHI425214</td>\n",
       "      <td>Asian alone, percent, 2014</td>\n",
       "    </tr>\n",
       "    <tr>\n",
       "      <th>12</th>\n",
       "      <td>RHI525214</td>\n",
       "      <td>Native Hawaiian and Other Pacific Islander alo...</td>\n",
       "    </tr>\n",
       "    <tr>\n",
       "      <th>13</th>\n",
       "      <td>RHI625214</td>\n",
       "      <td>Two or More Races, percent, 2014</td>\n",
       "    </tr>\n",
       "    <tr>\n",
       "      <th>14</th>\n",
       "      <td>RHI725214</td>\n",
       "      <td>Hispanic or Latino, percent, 2014</td>\n",
       "    </tr>\n",
       "    <tr>\n",
       "      <th>15</th>\n",
       "      <td>RHI825214</td>\n",
       "      <td>White alone, not Hispanic or Latino, percent, ...</td>\n",
       "    </tr>\n",
       "    <tr>\n",
       "      <th>16</th>\n",
       "      <td>POP715213</td>\n",
       "      <td>Living in same house 1 year &amp; over, percent, 2...</td>\n",
       "    </tr>\n",
       "    <tr>\n",
       "      <th>17</th>\n",
       "      <td>POP645213</td>\n",
       "      <td>Foreign born persons, percent, 2009-2013</td>\n",
       "    </tr>\n",
       "    <tr>\n",
       "      <th>18</th>\n",
       "      <td>POP815213</td>\n",
       "      <td>Language other than English spoken at home, pc...</td>\n",
       "    </tr>\n",
       "    <tr>\n",
       "      <th>19</th>\n",
       "      <td>EDU635213</td>\n",
       "      <td>High school graduate or higher, percent of per...</td>\n",
       "    </tr>\n",
       "    <tr>\n",
       "      <th>20</th>\n",
       "      <td>EDU685213</td>\n",
       "      <td>Bachelor's degree or higher, percent of person...</td>\n",
       "    </tr>\n",
       "    <tr>\n",
       "      <th>21</th>\n",
       "      <td>VET605213</td>\n",
       "      <td>Veterans, 2009-2013</td>\n",
       "    </tr>\n",
       "    <tr>\n",
       "      <th>22</th>\n",
       "      <td>LFE305213</td>\n",
       "      <td>Mean travel time to work (minutes), workers ag...</td>\n",
       "    </tr>\n",
       "    <tr>\n",
       "      <th>23</th>\n",
       "      <td>HSG010214</td>\n",
       "      <td>Housing units, 2014</td>\n",
       "    </tr>\n",
       "    <tr>\n",
       "      <th>24</th>\n",
       "      <td>HSG445213</td>\n",
       "      <td>Homeownership rate, 2009-2013</td>\n",
       "    </tr>\n",
       "    <tr>\n",
       "      <th>25</th>\n",
       "      <td>HSG096213</td>\n",
       "      <td>Housing units in multi-unit structures, percen...</td>\n",
       "    </tr>\n",
       "    <tr>\n",
       "      <th>26</th>\n",
       "      <td>HSG495213</td>\n",
       "      <td>Median value of owner-occupied housing units, ...</td>\n",
       "    </tr>\n",
       "    <tr>\n",
       "      <th>27</th>\n",
       "      <td>HSD410213</td>\n",
       "      <td>Households, 2009-2013</td>\n",
       "    </tr>\n",
       "    <tr>\n",
       "      <th>28</th>\n",
       "      <td>HSD310213</td>\n",
       "      <td>Persons per household, 2009-2013</td>\n",
       "    </tr>\n",
       "    <tr>\n",
       "      <th>29</th>\n",
       "      <td>INC910213</td>\n",
       "      <td>Per capita money income in past 12 months (201...</td>\n",
       "    </tr>\n",
       "    <tr>\n",
       "      <th>30</th>\n",
       "      <td>INC110213</td>\n",
       "      <td>Median household income, 2009-2013</td>\n",
       "    </tr>\n",
       "    <tr>\n",
       "      <th>31</th>\n",
       "      <td>PVY020213</td>\n",
       "      <td>Persons below poverty level, percent, 2009-2013</td>\n",
       "    </tr>\n",
       "    <tr>\n",
       "      <th>32</th>\n",
       "      <td>BZA010213</td>\n",
       "      <td>Private nonfarm establishments, 2013</td>\n",
       "    </tr>\n",
       "    <tr>\n",
       "      <th>33</th>\n",
       "      <td>BZA110213</td>\n",
       "      <td>Private nonfarm employment,  2013</td>\n",
       "    </tr>\n",
       "    <tr>\n",
       "      <th>34</th>\n",
       "      <td>BZA115213</td>\n",
       "      <td>Private nonfarm employment, percent change, 20...</td>\n",
       "    </tr>\n",
       "    <tr>\n",
       "      <th>35</th>\n",
       "      <td>NES010213</td>\n",
       "      <td>Nonemployer establishments, 2013</td>\n",
       "    </tr>\n",
       "    <tr>\n",
       "      <th>36</th>\n",
       "      <td>SBO001207</td>\n",
       "      <td>Total number of firms, 2007</td>\n",
       "    </tr>\n",
       "    <tr>\n",
       "      <th>37</th>\n",
       "      <td>SBO315207</td>\n",
       "      <td>Black-owned firms, percent, 2007</td>\n",
       "    </tr>\n",
       "    <tr>\n",
       "      <th>38</th>\n",
       "      <td>SBO115207</td>\n",
       "      <td>American Indian- and Alaska Native-owned firms...</td>\n",
       "    </tr>\n",
       "    <tr>\n",
       "      <th>39</th>\n",
       "      <td>SBO215207</td>\n",
       "      <td>Asian-owned firms, percent, 2007</td>\n",
       "    </tr>\n",
       "    <tr>\n",
       "      <th>40</th>\n",
       "      <td>SBO515207</td>\n",
       "      <td>Native Hawaiian- and Other Pacific Islander-ow...</td>\n",
       "    </tr>\n",
       "    <tr>\n",
       "      <th>41</th>\n",
       "      <td>SBO415207</td>\n",
       "      <td>Hispanic-owned firms, percent, 2007</td>\n",
       "    </tr>\n",
       "    <tr>\n",
       "      <th>42</th>\n",
       "      <td>SBO015207</td>\n",
       "      <td>Women-owned firms, percent, 2007</td>\n",
       "    </tr>\n",
       "    <tr>\n",
       "      <th>43</th>\n",
       "      <td>MAN450207</td>\n",
       "      <td>Manufacturers shipments, 2007 ($1,000)</td>\n",
       "    </tr>\n",
       "    <tr>\n",
       "      <th>44</th>\n",
       "      <td>WTN220207</td>\n",
       "      <td>Merchant wholesaler sales, 2007 ($1,000)</td>\n",
       "    </tr>\n",
       "    <tr>\n",
       "      <th>45</th>\n",
       "      <td>RTN130207</td>\n",
       "      <td>Retail sales, 2007 ($1,000)</td>\n",
       "    </tr>\n",
       "    <tr>\n",
       "      <th>46</th>\n",
       "      <td>RTN131207</td>\n",
       "      <td>Retail sales per capita, 2007</td>\n",
       "    </tr>\n",
       "    <tr>\n",
       "      <th>47</th>\n",
       "      <td>AFN120207</td>\n",
       "      <td>Accommodation and food services sales, 2007 ($...</td>\n",
       "    </tr>\n",
       "    <tr>\n",
       "      <th>48</th>\n",
       "      <td>BPS030214</td>\n",
       "      <td>Building permits, 2014</td>\n",
       "    </tr>\n",
       "    <tr>\n",
       "      <th>49</th>\n",
       "      <td>LND110210</td>\n",
       "      <td>Land area in square miles, 2010</td>\n",
       "    </tr>\n",
       "    <tr>\n",
       "      <th>50</th>\n",
       "      <td>POP060210</td>\n",
       "      <td>Population per square mile, 2010</td>\n",
       "    </tr>\n",
       "  </tbody>\n",
       "</table>\n",
       "</div>"
      ],
      "text/plain": [
       "   column_name                                        description\n",
       "0    PST045214                          Population, 2014 estimate\n",
       "1    PST040210          Population, 2010 (April 1) estimates base\n",
       "2    PST120214  Population, percent change - April 1, 2010 to ...\n",
       "3    POP010210                                   Population, 2010\n",
       "4    AGE135214               Persons under 5 years, percent, 2014\n",
       "5    AGE295214              Persons under 18 years, percent, 2014\n",
       "6    AGE775214           Persons 65 years and over, percent, 2014\n",
       "7    SEX255214                      Female persons, percent, 2014\n",
       "8    RHI125214                         White alone, percent, 2014\n",
       "9    RHI225214     Black or African American alone, percent, 2014\n",
       "10   RHI325214  American Indian and Alaska Native alone, perce...\n",
       "11   RHI425214                         Asian alone, percent, 2014\n",
       "12   RHI525214  Native Hawaiian and Other Pacific Islander alo...\n",
       "13   RHI625214                   Two or More Races, percent, 2014\n",
       "14   RHI725214                  Hispanic or Latino, percent, 2014\n",
       "15   RHI825214  White alone, not Hispanic or Latino, percent, ...\n",
       "16   POP715213  Living in same house 1 year & over, percent, 2...\n",
       "17   POP645213           Foreign born persons, percent, 2009-2013\n",
       "18   POP815213  Language other than English spoken at home, pc...\n",
       "19   EDU635213  High school graduate or higher, percent of per...\n",
       "20   EDU685213  Bachelor's degree or higher, percent of person...\n",
       "21   VET605213                                Veterans, 2009-2013\n",
       "22   LFE305213  Mean travel time to work (minutes), workers ag...\n",
       "23   HSG010214                                Housing units, 2014\n",
       "24   HSG445213                      Homeownership rate, 2009-2013\n",
       "25   HSG096213  Housing units in multi-unit structures, percen...\n",
       "26   HSG495213  Median value of owner-occupied housing units, ...\n",
       "27   HSD410213                              Households, 2009-2013\n",
       "28   HSD310213                   Persons per household, 2009-2013\n",
       "29   INC910213  Per capita money income in past 12 months (201...\n",
       "30   INC110213                 Median household income, 2009-2013\n",
       "31   PVY020213    Persons below poverty level, percent, 2009-2013\n",
       "32   BZA010213               Private nonfarm establishments, 2013\n",
       "33   BZA110213                  Private nonfarm employment,  2013\n",
       "34   BZA115213  Private nonfarm employment, percent change, 20...\n",
       "35   NES010213                   Nonemployer establishments, 2013\n",
       "36   SBO001207                        Total number of firms, 2007\n",
       "37   SBO315207                   Black-owned firms, percent, 2007\n",
       "38   SBO115207  American Indian- and Alaska Native-owned firms...\n",
       "39   SBO215207                   Asian-owned firms, percent, 2007\n",
       "40   SBO515207  Native Hawaiian- and Other Pacific Islander-ow...\n",
       "41   SBO415207                Hispanic-owned firms, percent, 2007\n",
       "42   SBO015207                   Women-owned firms, percent, 2007\n",
       "43   MAN450207             Manufacturers shipments, 2007 ($1,000)\n",
       "44   WTN220207           Merchant wholesaler sales, 2007 ($1,000)\n",
       "45   RTN130207                        Retail sales, 2007 ($1,000)\n",
       "46   RTN131207                      Retail sales per capita, 2007\n",
       "47   AFN120207  Accommodation and food services sales, 2007 ($...\n",
       "48   BPS030214                             Building permits, 2014\n",
       "49   LND110210                    Land area in square miles, 2010\n",
       "50   POP060210                   Population per square mile, 2010"
      ]
     },
     "execution_count": 3,
     "metadata": {},
     "output_type": "execute_result"
    }
   ],
   "source": [
    "county_facts_dictionary # a dictionary of all column headers"
   ]
  },
  {
   "cell_type": "code",
   "execution_count": 4,
   "metadata": {
    "collapsed": false
   },
   "outputs": [],
   "source": [
    "results[['fips', 'state_abbreviation', 'candidate', 'votes']].head().to_clipboard()"
   ]
  },
  {
   "cell_type": "code",
   "execution_count": 5,
   "metadata": {
    "collapsed": false
   },
   "outputs": [
    {
     "data": {
      "text/html": [
       "<div>\n",
       "<table border=\"1\" class=\"dataframe\">\n",
       "  <thead>\n",
       "    <tr style=\"text-align: right;\">\n",
       "      <th></th>\n",
       "      <th>fips</th>\n",
       "      <th>candidate</th>\n",
       "      <th>state_abbreviation</th>\n",
       "      <th>votes</th>\n",
       "    </tr>\n",
       "  </thead>\n",
       "  <tbody>\n",
       "    <tr>\n",
       "      <th>0</th>\n",
       "      <td>1001.0</td>\n",
       "      <td>Bernie Sanders</td>\n",
       "      <td>AL</td>\n",
       "      <td>544</td>\n",
       "    </tr>\n",
       "    <tr>\n",
       "      <th>1</th>\n",
       "      <td>1001.0</td>\n",
       "      <td>Hillary Clinton</td>\n",
       "      <td>AL</td>\n",
       "      <td>2387</td>\n",
       "    </tr>\n",
       "    <tr>\n",
       "      <th>2</th>\n",
       "      <td>1003.0</td>\n",
       "      <td>Bernie Sanders</td>\n",
       "      <td>AL</td>\n",
       "      <td>2694</td>\n",
       "    </tr>\n",
       "    <tr>\n",
       "      <th>3</th>\n",
       "      <td>1003.0</td>\n",
       "      <td>Hillary Clinton</td>\n",
       "      <td>AL</td>\n",
       "      <td>5290</td>\n",
       "    </tr>\n",
       "    <tr>\n",
       "      <th>4</th>\n",
       "      <td>1005.0</td>\n",
       "      <td>Bernie Sanders</td>\n",
       "      <td>AL</td>\n",
       "      <td>222</td>\n",
       "    </tr>\n",
       "  </tbody>\n",
       "</table>\n",
       "</div>"
      ],
      "text/plain": [
       "     fips        candidate state_abbreviation  votes\n",
       "0  1001.0   Bernie Sanders                 AL    544\n",
       "1  1001.0  Hillary Clinton                 AL   2387\n",
       "2  1003.0   Bernie Sanders                 AL   2694\n",
       "3  1003.0  Hillary Clinton                 AL   5290\n",
       "4  1005.0   Bernie Sanders                 AL    222"
      ]
     },
     "execution_count": 5,
     "metadata": {},
     "output_type": "execute_result"
    }
   ],
   "source": [
    "results[['fips', 'candidate', 'state_abbreviation', 'votes']].head()"
   ]
  },
  {
   "cell_type": "code",
   "execution_count": 6,
   "metadata": {
    "collapsed": false
   },
   "outputs": [],
   "source": [
    "county_facts = county_facts.rename(columns={ # renaming columns for ease of reference/use\n",
    "        'PST045214': 'pop_2014_est', 'PST040210': 'pop_2010_est', 'PST120214': 'pop_chg', 'POP010210': 'pop_2010',\n",
    "        'AGE135214': 'under_5_pct', 'AGE295214': 'under_18_pct', 'AGE775214': 'above_64_pct', 'SEX255214': 'female_pct',\n",
    "        'RHI125214': 'white', 'RHI1225214': 'black', 'RHI325214': 'native', 'RHI425214': 'asian', 'RHI525214': 'pacific',\n",
    "        'RHI625214': 'multi', 'RHI725214': 'hispanic', 'RHI825214': 'white_nonhisp', 'POP645213': 'same_house_1+',\n",
    "        'POP645213': 'foreign_born_09-13', 'POP815213': 'nonenglish_home', 'EDU635213': 'highschool',\n",
    "        'EDU685213': 'bachelors', 'VET605213': 'veterans_09-13', 'HSG010214': 'housing_units', 'HSG445213': 'home_rate',\n",
    "        'HSD310213': 'household_size', 'INC910213': 'percap_income_1yr', 'INC110213': 'median_income',\n",
    "        'PVY020213': 'pct_below_poverty', 'BZA010213': 'priv_nonfarm', 'SBO001207': 'num_firms',\n",
    "        'SBO315207': 'black_firm_pct', 'SBO115207': 'native_firm_pct', 'SBO215207': 'asian_firm_pct',\n",
    "        'SBO515207': 'pacific_firm_pct', 'SBO415207': 'hispanic_firm_pct', 'SBO015207': 'female_firm_pct',\n",
    "        'MAN450207': 'mfct_shipments_07', 'RTN130207': 'rsales_07', 'RTN131207': 'rsales_pcap_07',\n",
    "        'AFN120207': 'service_sales_07', 'BPS030214': 'bldng_permits', 'LND110210': 'land_area',\n",
    "        'POP060210': 'pop_per_m2', 'WTN220207': 'merch_sales', 'LFE305213': 'travel_time', 'HSG096213': 'multi_unit_pct',\n",
    "        'HSG495213': 'median_val_ownerhousing', 'RHI225214': 'black_alone'\n",
    "    })"
   ]
  },
  {
   "cell_type": "code",
   "execution_count": 7,
   "metadata": {
    "collapsed": false
   },
   "outputs": [],
   "source": [
    "# dictionary (with some additions) from: \n",
    "# http://code.activestate.com/recipes/577305-python-dictionary-of-us-states-and-territories/\n",
    "states = {\n",
    "    'AK': 'Alaska',\n",
    "    'AL': 'Alabama',\n",
    "    'AR': 'Arkansas',\n",
    "    'AS': 'American Samoa',\n",
    "    'AZ': 'Arizona',\n",
    "    'CA': 'California',\n",
    "    'CO': 'Colorado',\n",
    "    'CT': 'Connecticut',\n",
    "    'DC': 'District of Columbia',\n",
    "    'DE': 'Delaware',\n",
    "    'FL': 'Florida',\n",
    "    'GA': 'Georgia',\n",
    "    'GU': 'Guam',\n",
    "    'HI': 'Hawaii',\n",
    "    'IA': 'Iowa',\n",
    "    'ID': 'Idaho',\n",
    "    'IL': 'Illinois',\n",
    "    'IN': 'Indiana',\n",
    "    'KS': 'Kansas',\n",
    "    'KY': 'Kentucky',\n",
    "    'LA': 'Louisiana',\n",
    "    'MA': 'Massachusetts',\n",
    "    'MD': 'Maryland',\n",
    "    'ME': 'Maine',\n",
    "    'MI': 'Michigan',\n",
    "    'MN': 'Minnesota',\n",
    "    'MO': 'Missouri',\n",
    "    'MP': 'Northern Mariana Islands',\n",
    "    'MS': 'Mississippi',\n",
    "    'MT': 'Montana',\n",
    "    'NA': 'National',\n",
    "    'NC': 'North Carolina',\n",
    "    'ND': 'North Dakota',\n",
    "    'NE': 'Nebraska',\n",
    "    'NH': 'New Hampshire',\n",
    "    'NJ': 'New Jersey',\n",
    "    'NM': 'New Mexico',\n",
    "    'NV': 'Nevada',\n",
    "    'NY': 'New York',\n",
    "    'OH': 'Ohio',\n",
    "    'OK': 'Oklahoma',\n",
    "    'OR': 'Oregon',\n",
    "    'PA': 'Pennsylvania',\n",
    "    'PR': 'Puerto Rico',\n",
    "    'RI': 'Rhode Island',\n",
    "    'SC': 'South Carolina',\n",
    "    'SD': 'South Dakota',\n",
    "    'TN': 'Tennessee',\n",
    "    'TX': 'Texas',\n",
    "    'US': 'United States',\n",
    "    'UT': 'Utah',\n",
    "    'VA': 'Virginia',\n",
    "    'VI': 'Virgin Islands',\n",
    "    'VT': 'Vermont',\n",
    "    'WA': 'Washington',\n",
    "    'WI': 'Wisconsin',\n",
    "    'WV': 'West Virginia',\n",
    "    'WY': 'Wyoming'\n",
    "}"
   ]
  },
  {
   "cell_type": "code",
   "execution_count": 8,
   "metadata": {
    "collapsed": false
   },
   "outputs": [],
   "source": [
    "inv_states = {v: k for k, v in states.items()} # inverting the states dictionary for use later"
   ]
  },
  {
   "cell_type": "code",
   "execution_count": 9,
   "metadata": {
    "collapsed": false
   },
   "outputs": [],
   "source": [
    "results[results.county == 'Fayette']; # previewing the results dataset"
   ]
  },
  {
   "cell_type": "code",
   "execution_count": 10,
   "metadata": {
    "collapsed": false
   },
   "outputs": [],
   "source": [
    "raw = county_facts.merge(results, on=['fips', 'state_abbreviation'], how='inner',) # merging results with county demographics"
   ]
  },
  {
   "cell_type": "code",
   "execution_count": 11,
   "metadata": {
    "collapsed": false
   },
   "outputs": [
    {
     "name": "stdout",
     "output_type": "stream",
     "text": [
      "<class 'pandas.core.frame.DataFrame'>\n",
      "Int64Index: 17479 entries, 0 to 17478\n",
      "Data columns (total 60 columns):\n",
      "fips                       17479 non-null int64\n",
      "area_name                  17479 non-null object\n",
      "state_abbreviation         17479 non-null object\n",
      "pop_2014_est               17479 non-null int64\n",
      "pop_2010_est               17479 non-null int64\n",
      "pop_chg                    17479 non-null float64\n",
      "pop_2010                   17479 non-null int64\n",
      "under_5_pct                17479 non-null float64\n",
      "under_18_pct               17479 non-null float64\n",
      "above_64_pct               17479 non-null float64\n",
      "female_pct                 17479 non-null float64\n",
      "white                      17479 non-null float64\n",
      "black_alone                17479 non-null float64\n",
      "native                     17479 non-null float64\n",
      "asian                      17479 non-null float64\n",
      "pacific                    17479 non-null float64\n",
      "multi                      17479 non-null float64\n",
      "hispanic                   17479 non-null float64\n",
      "white_nonhisp              17479 non-null float64\n",
      "POP715213                  17479 non-null float64\n",
      "foreign_born_09-13         17479 non-null float64\n",
      "nonenglish_home            17479 non-null float64\n",
      "highschool                 17479 non-null float64\n",
      "bachelors                  17479 non-null float64\n",
      "veterans_09-13             17479 non-null int64\n",
      "travel_time                17479 non-null float64\n",
      "housing_units              17479 non-null int64\n",
      "home_rate                  17479 non-null float64\n",
      "multi_unit_pct             17479 non-null float64\n",
      "median_val_ownerhousing    17479 non-null int64\n",
      "HSD410213                  17479 non-null int64\n",
      "household_size             17479 non-null float64\n",
      "percap_income_1yr          17479 non-null int64\n",
      "median_income              17479 non-null int64\n",
      "pct_below_poverty          17479 non-null float64\n",
      "priv_nonfarm               17479 non-null int64\n",
      "BZA110213                  17479 non-null int64\n",
      "BZA115213                  17479 non-null float64\n",
      "NES010213                  17479 non-null int64\n",
      "num_firms                  17479 non-null int64\n",
      "black_firm_pct             17479 non-null float64\n",
      "native_firm_pct            17479 non-null float64\n",
      "asian_firm_pct             17479 non-null float64\n",
      "pacific_firm_pct           17479 non-null float64\n",
      "hispanic_firm_pct          17479 non-null float64\n",
      "female_firm_pct            17479 non-null float64\n",
      "mfct_shipments_07          17479 non-null int64\n",
      "merch_sales                17479 non-null int64\n",
      "rsales_07                  17479 non-null int64\n",
      "rsales_pcap_07             17479 non-null int64\n",
      "service_sales_07           17479 non-null int64\n",
      "bldng_permits              17479 non-null int64\n",
      "land_area                  17479 non-null float64\n",
      "pop_per_m2                 17479 non-null float64\n",
      "state                      17479 non-null object\n",
      "county                     17479 non-null object\n",
      "party                      17479 non-null object\n",
      "candidate                  17479 non-null object\n",
      "votes                      17479 non-null int64\n",
      "fraction_votes             17479 non-null float64\n",
      "dtypes: float64(33), int64(21), object(6)\n",
      "memory usage: 8.1+ MB\n"
     ]
    }
   ],
   "source": [
    "raw.info() # no null vales in dataset"
   ]
  },
  {
   "cell_type": "code",
   "execution_count": 12,
   "metadata": {
    "collapsed": false
   },
   "outputs": [
    {
     "data": {
      "text/html": [
       "<div>\n",
       "<table border=\"1\" class=\"dataframe\">\n",
       "  <thead>\n",
       "    <tr style=\"text-align: right;\">\n",
       "      <th></th>\n",
       "      <th>fips</th>\n",
       "      <th>area_name</th>\n",
       "      <th>state_abbreviation</th>\n",
       "      <th>pop_2014_est</th>\n",
       "      <th>pop_2010_est</th>\n",
       "      <th>pop_chg</th>\n",
       "      <th>pop_2010</th>\n",
       "      <th>under_5_pct</th>\n",
       "      <th>under_18_pct</th>\n",
       "      <th>above_64_pct</th>\n",
       "      <th>...</th>\n",
       "      <th>service_sales_07</th>\n",
       "      <th>bldng_permits</th>\n",
       "      <th>land_area</th>\n",
       "      <th>pop_per_m2</th>\n",
       "      <th>state</th>\n",
       "      <th>county</th>\n",
       "      <th>party</th>\n",
       "      <th>candidate</th>\n",
       "      <th>votes</th>\n",
       "      <th>fraction_votes</th>\n",
       "    </tr>\n",
       "  </thead>\n",
       "  <tbody>\n",
       "    <tr>\n",
       "      <th>17474</th>\n",
       "      <td>56041</td>\n",
       "      <td>Uinta County</td>\n",
       "      <td>WY</td>\n",
       "      <td>20904</td>\n",
       "      <td>21118</td>\n",
       "      <td>-1.0</td>\n",
       "      <td>21118</td>\n",
       "      <td>7.6</td>\n",
       "      <td>29.8</td>\n",
       "      <td>11.0</td>\n",
       "      <td>...</td>\n",
       "      <td>35497</td>\n",
       "      <td>40</td>\n",
       "      <td>2081.26</td>\n",
       "      <td>10.1</td>\n",
       "      <td>Wyoming</td>\n",
       "      <td>Uinta</td>\n",
       "      <td>Democrat</td>\n",
       "      <td>Hillary Clinton</td>\n",
       "      <td>4</td>\n",
       "      <td>0.444</td>\n",
       "    </tr>\n",
       "    <tr>\n",
       "      <th>17475</th>\n",
       "      <td>56043</td>\n",
       "      <td>Washakie County</td>\n",
       "      <td>WY</td>\n",
       "      <td>8322</td>\n",
       "      <td>8533</td>\n",
       "      <td>-2.5</td>\n",
       "      <td>8533</td>\n",
       "      <td>5.5</td>\n",
       "      <td>23.9</td>\n",
       "      <td>20.1</td>\n",
       "      <td>...</td>\n",
       "      <td>10175</td>\n",
       "      <td>4</td>\n",
       "      <td>2238.55</td>\n",
       "      <td>3.8</td>\n",
       "      <td>Wyoming</td>\n",
       "      <td>Washakie</td>\n",
       "      <td>Democrat</td>\n",
       "      <td>Bernie Sanders</td>\n",
       "      <td>1</td>\n",
       "      <td>0.333</td>\n",
       "    </tr>\n",
       "    <tr>\n",
       "      <th>17476</th>\n",
       "      <td>56043</td>\n",
       "      <td>Washakie County</td>\n",
       "      <td>WY</td>\n",
       "      <td>8322</td>\n",
       "      <td>8533</td>\n",
       "      <td>-2.5</td>\n",
       "      <td>8533</td>\n",
       "      <td>5.5</td>\n",
       "      <td>23.9</td>\n",
       "      <td>20.1</td>\n",
       "      <td>...</td>\n",
       "      <td>10175</td>\n",
       "      <td>4</td>\n",
       "      <td>2238.55</td>\n",
       "      <td>3.8</td>\n",
       "      <td>Wyoming</td>\n",
       "      <td>Washakie</td>\n",
       "      <td>Democrat</td>\n",
       "      <td>Hillary Clinton</td>\n",
       "      <td>2</td>\n",
       "      <td>0.667</td>\n",
       "    </tr>\n",
       "    <tr>\n",
       "      <th>17477</th>\n",
       "      <td>56045</td>\n",
       "      <td>Weston County</td>\n",
       "      <td>WY</td>\n",
       "      <td>7201</td>\n",
       "      <td>7208</td>\n",
       "      <td>-0.1</td>\n",
       "      <td>7208</td>\n",
       "      <td>6.5</td>\n",
       "      <td>21.6</td>\n",
       "      <td>18.1</td>\n",
       "      <td>...</td>\n",
       "      <td>7520</td>\n",
       "      <td>1</td>\n",
       "      <td>2398.09</td>\n",
       "      <td>3.0</td>\n",
       "      <td>Wyoming</td>\n",
       "      <td>Weston</td>\n",
       "      <td>Democrat</td>\n",
       "      <td>Bernie Sanders</td>\n",
       "      <td>1</td>\n",
       "      <td>0.500</td>\n",
       "    </tr>\n",
       "    <tr>\n",
       "      <th>17478</th>\n",
       "      <td>56045</td>\n",
       "      <td>Weston County</td>\n",
       "      <td>WY</td>\n",
       "      <td>7201</td>\n",
       "      <td>7208</td>\n",
       "      <td>-0.1</td>\n",
       "      <td>7208</td>\n",
       "      <td>6.5</td>\n",
       "      <td>21.6</td>\n",
       "      <td>18.1</td>\n",
       "      <td>...</td>\n",
       "      <td>7520</td>\n",
       "      <td>1</td>\n",
       "      <td>2398.09</td>\n",
       "      <td>3.0</td>\n",
       "      <td>Wyoming</td>\n",
       "      <td>Weston</td>\n",
       "      <td>Democrat</td>\n",
       "      <td>Hillary Clinton</td>\n",
       "      <td>1</td>\n",
       "      <td>0.500</td>\n",
       "    </tr>\n",
       "  </tbody>\n",
       "</table>\n",
       "<p>5 rows × 60 columns</p>\n",
       "</div>"
      ],
      "text/plain": [
       "        fips        area_name state_abbreviation  pop_2014_est  pop_2010_est  \\\n",
       "17474  56041     Uinta County                 WY         20904         21118   \n",
       "17475  56043  Washakie County                 WY          8322          8533   \n",
       "17476  56043  Washakie County                 WY          8322          8533   \n",
       "17477  56045    Weston County                 WY          7201          7208   \n",
       "17478  56045    Weston County                 WY          7201          7208   \n",
       "\n",
       "       pop_chg  pop_2010  under_5_pct  under_18_pct  above_64_pct  \\\n",
       "17474     -1.0     21118          7.6          29.8          11.0   \n",
       "17475     -2.5      8533          5.5          23.9          20.1   \n",
       "17476     -2.5      8533          5.5          23.9          20.1   \n",
       "17477     -0.1      7208          6.5          21.6          18.1   \n",
       "17478     -0.1      7208          6.5          21.6          18.1   \n",
       "\n",
       "            ...        service_sales_07  bldng_permits  land_area  pop_per_m2  \\\n",
       "17474       ...                   35497             40    2081.26        10.1   \n",
       "17475       ...                   10175              4    2238.55         3.8   \n",
       "17476       ...                   10175              4    2238.55         3.8   \n",
       "17477       ...                    7520              1    2398.09         3.0   \n",
       "17478       ...                    7520              1    2398.09         3.0   \n",
       "\n",
       "         state    county     party        candidate  votes  fraction_votes  \n",
       "17474  Wyoming     Uinta  Democrat  Hillary Clinton      4           0.444  \n",
       "17475  Wyoming  Washakie  Democrat   Bernie Sanders      1           0.333  \n",
       "17476  Wyoming  Washakie  Democrat  Hillary Clinton      2           0.667  \n",
       "17477  Wyoming    Weston  Democrat   Bernie Sanders      1           0.500  \n",
       "17478  Wyoming    Weston  Democrat  Hillary Clinton      1           0.500  \n",
       "\n",
       "[5 rows x 60 columns]"
      ]
     },
     "execution_count": 12,
     "metadata": {},
     "output_type": "execute_result"
    }
   ],
   "source": [
    "raw.tail() # previewing new dataset; note that we have each candidate's voter information by county"
   ]
  },
  {
   "cell_type": "code",
   "execution_count": 13,
   "metadata": {
    "collapsed": true
   },
   "outputs": [],
   "source": [
    "## TODO:\n",
    "## (!) Vary predictors/gather a score for predictive power\n",
    "## (2) determine wisdom behind splitting training set. \n",
    "## (3) how will we determine voter preference in general elecion? Will need model for how voters will vote when first\n",
    "## or second choice is missing\n",
    "## (4) attempt random forest"
   ]
  },
  {
   "cell_type": "markdown",
   "metadata": {},
   "source": [
    "### First set of predictors\n",
    "\n",
    "Testing our model on a small subset of predictors. We use our 'intuition' to select a few predictors and see how well we do at predicting our target variable."
   ]
  },
  {
   "cell_type": "code",
   "execution_count": 14,
   "metadata": {
    "collapsed": true
   },
   "outputs": [],
   "source": [
    "# an example set of predictors\n",
    "X = ['pop_chg', 'above_64_pct', 'female_pct', 'white', 'bachelors', 'pct_below_poverty']\n",
    "y = 'fraction_votes'\n",
    "\n",
    "X_d = raw[raw.party == 'Democrat'][X]\n",
    "y_d = raw[raw.party == 'Democrat'][y]\n",
    "\n",
    "X_r = raw[raw.party == 'Republican'][X]\n",
    "y_r = raw[raw.party == 'Republican'][y]"
   ]
  },
  {
   "cell_type": "code",
   "execution_count": 15,
   "metadata": {
    "collapsed": false
   },
   "outputs": [],
   "source": [
    "X_dtrain, X_dtest, y_dtrain, y_dtest = cross_validation.train_test_split(X_d, y_d, test_size=0.3)\n",
    "X_rtrain, X_rtest, y_rtrain, y_rtest = cross_validation.train_test_split(X_r, y_r, test_size=0.3)"
   ]
  },
  {
   "cell_type": "code",
   "execution_count": 16,
   "metadata": {
    "collapsed": false
   },
   "outputs": [],
   "source": [
    "model = tree.DecisionTreeRegressor()"
   ]
  },
  {
   "cell_type": "code",
   "execution_count": 17,
   "metadata": {
    "collapsed": false
   },
   "outputs": [
    {
     "data": {
      "text/plain": [
       "DecisionTreeRegressor(criterion='mse', max_depth=None, max_features=None,\n",
       "           max_leaf_nodes=None, min_samples_leaf=1, min_samples_split=2,\n",
       "           min_weight_fraction_leaf=0.0, presort=False, random_state=None,\n",
       "           splitter='best')"
      ]
     },
     "execution_count": 17,
     "metadata": {},
     "output_type": "execute_result"
    }
   ],
   "source": [
    "model.fit(X_dtrain, y_dtrain)"
   ]
  },
  {
   "cell_type": "code",
   "execution_count": 18,
   "metadata": {
    "collapsed": false
   },
   "outputs": [
    {
     "name": "stdout",
     "output_type": "stream",
     "text": [
      "train MSE:  0.148073348108\n",
      "test MSE:  0.308095188172\n"
     ]
    }
   ],
   "source": [
    "train_yd_hat = model.predict(X_dtrain)\n",
    "print 'train MSE: ', np.sqrt(metrics.mean_squared_error(y_dtrain, train_yd_hat))\n",
    "\n",
    "test_yd_hat = model.predict(X_dtest)\n",
    "print 'test MSE: ', np.sqrt(metrics.mean_squared_error(y_dtest, test_yd_hat))"
   ]
  },
  {
   "cell_type": "code",
   "execution_count": 19,
   "metadata": {
    "collapsed": false
   },
   "outputs": [
    {
     "data": {
      "text/plain": [
       "[(0.18741132105215569, 'pct_below_poverty'),\n",
       " (0.18057023330546701, 'white'),\n",
       " (0.16993292955567915, 'bachelors'),\n",
       " (0.16521314796914954, 'female_pct'),\n",
       " (0.1639191161844189, 'above_64_pct'),\n",
       " (0.13295325193312976, 'pop_chg')]"
      ]
     },
     "execution_count": 19,
     "metadata": {},
     "output_type": "execute_result"
    }
   ],
   "source": [
    "sorted(zip(model.feature_importances_, X_d.columns.values), reverse = True) # ranking of predictor relevance"
   ]
  },
  {
   "cell_type": "code",
   "execution_count": 20,
   "metadata": {
    "collapsed": false
   },
   "outputs": [
    {
     "data": {
      "text/plain": [
       "DecisionTreeRegressor(criterion='mse', max_depth=None, max_features=None,\n",
       "           max_leaf_nodes=None, min_samples_leaf=1, min_samples_split=2,\n",
       "           min_weight_fraction_leaf=0.0, presort=False, random_state=None,\n",
       "           splitter='best')"
      ]
     },
     "execution_count": 20,
     "metadata": {},
     "output_type": "execute_result"
    }
   ],
   "source": [
    "model.fit(X_rtrain, y_rtrain)"
   ]
  },
  {
   "cell_type": "code",
   "execution_count": 21,
   "metadata": {
    "collapsed": false
   },
   "outputs": [
    {
     "name": "stdout",
     "output_type": "stream",
     "text": [
      "train MSE:  0.166649485348\n",
      "test MSE:  0.263448977755\n"
     ]
    }
   ],
   "source": [
    "train_yr_hat = model.predict(X_rtrain)\n",
    "print 'train MSE: ', np.sqrt(metrics.mean_squared_error(y_rtrain, train_yr_hat))\n",
    "\n",
    "test_yr_hat = model.predict(X_rtest)\n",
    "print 'test MSE: ', np.sqrt(metrics.mean_squared_error(y_rtest, test_yr_hat))"
   ]
  },
  {
   "cell_type": "code",
   "execution_count": 22,
   "metadata": {
    "collapsed": false
   },
   "outputs": [
    {
     "data": {
      "text/plain": [
       "[(0.18866207802328983, 'pop_chg'),\n",
       " (0.18746765655387343, 'white'),\n",
       " (0.18059574639323447, 'bachelors'),\n",
       " (0.15997750418879683, 'above_64_pct'),\n",
       " (0.1462762586186723, 'pct_below_poverty'),\n",
       " (0.13702075622213319, 'female_pct')]"
      ]
     },
     "execution_count": 22,
     "metadata": {},
     "output_type": "execute_result"
    }
   ],
   "source": [
    "sorted(zip(model.feature_importances_, X_r.columns.values), reverse = True) # ranking of predictor relevance"
   ]
  },
  {
   "cell_type": "code",
   "execution_count": 23,
   "metadata": {
    "collapsed": true
   },
   "outputs": [],
   "source": [
    "correlations = ['pop_chg', 'above_64_pct', 'female_pct', 'white', 'bachelors', 'pct_below_poverty']"
   ]
  },
  {
   "cell_type": "code",
   "execution_count": 24,
   "metadata": {
    "collapsed": false
   },
   "outputs": [],
   "source": [
    "# plt.figure()\n",
    "# plt.hist(raw)"
   ]
  },
  {
   "cell_type": "code",
   "execution_count": 25,
   "metadata": {
    "collapsed": false
   },
   "outputs": [
    {
     "data": {
      "text/plain": [
       "<seaborn.axisgrid.PairGrid at 0x116917110>"
      ]
     },
     "execution_count": 25,
     "metadata": {},
     "output_type": "execute_result"
    },
    {
     "data": {
      "image/png": "[encoded data removed]",
      "text/plain": [
       "<matplotlib.figure.Figure at 0x116917090>"
      ]
     },
     "metadata": {},
     "output_type": "display_data"
    }
   ],
   "source": [
    "sns.pairplot(raw[correlations])"
   ]
  },
  {
   "cell_type": "markdown",
   "metadata": {},
   "source": [
    "### Second Set\n",
    "\n",
    "Below, we test model on all non-object datatypes within dataset. We drop collinear and redundant columns. We will utilize the built in ranking of predictors to determine what will be used in our later predictions"
   ]
  },
  {
   "cell_type": "code",
   "execution_count": 26,
   "metadata": {
    "collapsed": true
   },
   "outputs": [],
   "source": [
    "numeric = raw.select_dtypes(exclude=['object']) # selecting only numeric types from dataset\n",
    "\n",
    "X_2 = numeric.columns.drop(['fraction_votes', 'votes', 'fips']) # dropping redundant values\n",
    "\n",
    "X_2d = raw[raw.party == 'Democrat'][X_2] # predicting democratic choice\n",
    "y_2d = raw[raw.party == 'Democrat'][y]\n",
    "\n",
    "X_2r = raw[raw.party == 'Republican'][X_2] # predicting democratic choice\n",
    "y_2r = raw[raw.party == 'Republican'][y]"
   ]
  },
  {
   "cell_type": "code",
   "execution_count": 27,
   "metadata": {
    "collapsed": true
   },
   "outputs": [],
   "source": [
    "X_2dtrain, X_2dtest, y_2dtrain, y_2dtest = cross_validation.train_test_split(X_2d, y_2d, test_size=0.3)\n",
    "X_2rtrain, X_2rtest, y_2rtrain, y_2rtest = cross_validation.train_test_split(X_2r, y_2r, test_size=0.3)"
   ]
  },
  {
   "cell_type": "code",
   "execution_count": 28,
   "metadata": {
    "collapsed": false
   },
   "outputs": [
    {
     "data": {
      "text/plain": [
       "DecisionTreeRegressor(criterion='mse', max_depth=None, max_features=None,\n",
       "           max_leaf_nodes=None, min_samples_leaf=1, min_samples_split=2,\n",
       "           min_weight_fraction_leaf=0.0, presort=False, random_state=None,\n",
       "           splitter='best')"
      ]
     },
     "execution_count": 28,
     "metadata": {},
     "output_type": "execute_result"
    }
   ],
   "source": [
    "model = tree.DecisionTreeRegressor()\n",
    "model.fit(X_2dtrain, y_2dtrain)"
   ]
  },
  {
   "cell_type": "code",
   "execution_count": 29,
   "metadata": {
    "collapsed": false
   },
   "outputs": [
    {
     "name": "stdout",
     "output_type": "stream",
     "text": [
      "train MSE:  0.149516404174\n",
      "test MSE:  0.247724676862\n"
     ]
    }
   ],
   "source": [
    "train_yd_hat = model.predict(X_2dtrain)\n",
    "print 'train MSE: ', np.sqrt(metrics.mean_squared_error(y_2dtrain, train_yd_hat))\n",
    "\n",
    "test_yd_hat = model.predict(X_2dtest)\n",
    "print 'test MSE: ', np.sqrt(metrics.mean_squared_error(y_dtest, test_yd_hat))"
   ]
  },
  {
   "cell_type": "code",
   "execution_count": 30,
   "metadata": {
    "collapsed": false
   },
   "outputs": [
    {
     "name": "stdout",
     "output_type": "stream",
     "text": [
      "train MSE:  0.321947049348\n",
      "test MSE:  0.32437631406\n"
     ]
    }
   ],
   "source": [
    "train_2yr_hat = model.predict(X_2rtrain)\n",
    "print 'train MSE: ', np.sqrt(metrics.mean_squared_error(y_2rtrain, train_2yr_hat))\n",
    "\n",
    "test_2yr_hat = model.predict(X_2rtest)\n",
    "print 'test MSE: ', np.sqrt(metrics.mean_squared_error(y_2rtest, test_2yr_hat))"
   ]
  },
  {
   "cell_type": "markdown",
   "metadata": {},
   "source": [
    "#### Results:\n",
    "- our MSE for the test democratic dataset decreased by 5 percentatge points\n",
    "- MSE for both training and test data for republicans increased \n",
    "- not sure what is the cause for this change\n",
    "\n",
    "#### Next:\n",
    "- what are most important feaures?\n",
    "- how do they relate to one another?\n",
    "- what are characteristics of voters?"
   ]
  },
  {
   "cell_type": "code",
   "execution_count": 31,
   "metadata": {
    "collapsed": false
   },
   "outputs": [
    {
     "data": {
      "text/plain": [
       "[(0.072366263029891117, 'highschool'),\n",
       " (0.054737114705286603, 'white'),\n",
       " (0.046687239570251553, 'percap_income_1yr'),\n",
       " (0.045999793941791732, 'bachelors'),\n",
       " (0.045102612073768096, 'multi_unit_pct'),\n",
       " (0.043509033850384189, 'black_alone'),\n",
       " (0.035139542899286655, 'median_income'),\n",
       " (0.034629034929938095, 'female_firm_pct'),\n",
       " (0.030066606378137815, 'pop_per_m2'),\n",
       " (0.028487008224105635, 'under_18_pct')]"
      ]
     },
     "execution_count": 31,
     "metadata": {},
     "output_type": "execute_result"
    }
   ],
   "source": [
    "model.fit(X_2dtrain, y_2dtrain);\n",
    "sorted(zip(model.feature_importances_, X_2d.columns.values), reverse = True)[:10] # ranking of top 10 predictors"
   ]
  },
  {
   "cell_type": "markdown",
   "metadata": {},
   "source": [
    "#### Top 10 predictors for democratic choice:\n",
    "1. white\n",
    "2. high school or higher\n",
    "3. travel time\n",
    "4. black owned firm percentage\n",
    "5. median income\n",
    "6. population per square mile\n",
    "7. percent of homes that are multiunit\n",
    "8. home where English is not first language\n",
    "9. percent of population under 18\n",
    "10. percent of white, non hispanic"
   ]
  },
  {
   "cell_type": "code",
   "execution_count": 32,
   "metadata": {
    "collapsed": false
   },
   "outputs": [
    {
     "data": {
      "text/plain": [
       "[(0.07169412931245496, 'land_area'),\n",
       " (0.068042228820407294, 'highschool'),\n",
       " (0.045774183353768171, 'pop_per_m2'),\n",
       " (0.044025961671490539, 'travel_time'),\n",
       " (0.031723098272061871, 'pop_chg'),\n",
       " (0.031397787571345877, 'rsales_pcap_07'),\n",
       " (0.031351949058259859, 'under_18_pct'),\n",
       " (0.030446112831112, 'white_nonhisp'),\n",
       " (0.030419184926370434, 'merch_sales'),\n",
       " (0.026674306663253287, 'median_val_ownerhousing')]"
      ]
     },
     "execution_count": 32,
     "metadata": {},
     "output_type": "execute_result"
    }
   ],
   "source": [
    "model.fit(X_2rtrain, y_2rtrain);\n",
    "sorted(zip(model.feature_importances_, X_2r.columns.values), reverse = True)[:10] # ranking of top 10 predictors"
   ]
  },
  {
   "cell_type": "markdown",
   "metadata": {},
   "source": [
    "#### Top 10 predictors for republican choice\n",
    "1. travel time to work\n",
    "2. land area\n",
    "3. population per square mile\n",
    "4. high school or higher\n",
    "5. median value of owner occupied homes\n",
    "6. percap income\n",
    "7. hispanic\n",
    "8. housing units in multiunit structures\n",
    "9. bachelors or higher\n",
    "10. percent below poverty"
   ]
  },
  {
   "cell_type": "markdown",
   "metadata": {},
   "source": [
    "### Non - Split dataset\n",
    "not splitting based on dem/rep"
   ]
  },
  {
   "cell_type": "code",
   "execution_count": 33,
   "metadata": {
    "collapsed": false
   },
   "outputs": [
    {
     "name": "stdout",
     "output_type": "stream",
     "text": [
      "train MSE:  0.239880950343\n",
      "test MSE:  0.256815240476\n"
     ]
    }
   ],
   "source": [
    "numeric = raw.select_dtypes(exclude=['object']) # selecting only numeric types from dataset\n",
    "\n",
    "X_col = numeric.columns.drop(['fraction_votes', 'votes', 'fips']) # dropping redundant values\n",
    "y_col = 'fraction_votes'\n",
    "\n",
    "X = raw[X_col] # predicting democratic choice\n",
    "y= raw[y_col]\n",
    "\n",
    "X_train, X_test, y_train, y_test = cross_validation.train_test_split(X, y)\n",
    "train_yhat = model.predict(X_train)\n",
    "\n",
    "model.fit(X_train, y_train)\n",
    "\n",
    "print 'train MSE: ', np.sqrt(metrics.mean_squared_error(y_train, train_yhat))\n",
    "\n",
    "test_yhat = model.predict(X_test)\n",
    "print 'test MSE: ', np.sqrt(metrics.mean_squared_error(y_test, test_yhat))"
   ]
  },
  {
   "cell_type": "markdown",
   "metadata": {},
   "source": [
    "out test MSE has actually dropped down using the entire data set. Will try using the top predictors."
   ]
  },
  {
   "cell_type": "code",
   "execution_count": 34,
   "metadata": {
    "collapsed": false
   },
   "outputs": [
    {
     "data": {
      "text/plain": [
       "[(0.10918580107718454, 'highschool'),\n",
       " (0.092225074175467561, 'land_area'),\n",
       " (0.050374805421052396, 'pop_per_m2'),\n",
       " (0.038130125953105026, 'merch_sales'),\n",
       " (0.034324877706818371, 'black_alone'),\n",
       " (0.033326929518325436, 'travel_time'),\n",
       " (0.033029839680839029, 'home_rate'),\n",
       " (0.032911009770910576, 'hispanic'),\n",
       " (0.031591901881462423, 'pct_below_poverty'),\n",
       " (0.030388807840679977, 'pop_chg')]"
      ]
     },
     "execution_count": 34,
     "metadata": {},
     "output_type": "execute_result"
    }
   ],
   "source": [
    "sorted(zip(model.feature_importances_, X.columns.values), reverse = True)[:10] # ranking of top 10 predictors"
   ]
  },
  {
   "cell_type": "code",
   "execution_count": 35,
   "metadata": {
    "collapsed": false
   },
   "outputs": [
    {
     "name": "stdout",
     "output_type": "stream",
     "text": [
      "train MSE:  0.203699386705\n",
      "test MSE:  0.258713197408\n"
     ]
    }
   ],
   "source": [
    "X_col = ['highschool', 'land_area', 'white_nonhisp', 'merch_sales', 'housing_units', 'travel_time', 'multi_unit_pct',\n",
    "        'median_val_ownerhousing', 'nonenglish_home', 'veterans_09-13', 'pop_chg', 'travel_time']\n",
    "\n",
    "X = raw[X_col]\n",
    "y = raw['fraction_votes']\n",
    "\n",
    "X_train, X_test, y_train, y_test = cross_validation.train_test_split(X, y)\n",
    "\n",
    "model.fit(X_train, y_train)\n",
    "\n",
    "train_yhat = model.predict(X_train)\n",
    "print 'train MSE: ', np.sqrt(metrics.mean_squared_error(y_train, train_yhat))\n",
    "\n",
    "test_yhat = model.predict(X_test)\n",
    "print 'test MSE: ', np.sqrt(metrics.mean_squared_error(y_test, test_yhat))"
   ]
  },
  {
   "cell_type": "markdown",
   "metadata": {},
   "source": [
    "### What are characteristics between the two parties?"
   ]
  },
  {
   "cell_type": "code",
   "execution_count": 36,
   "metadata": {
    "collapsed": true
   },
   "outputs": [],
   "source": [
    "def winner(row): # creating a target variable for a primary win (greatest percentage of votes)\n",
    "    if row['rank'] == 1:\n",
    "        val = 1\n",
    "    elif row['rank'] == 1.5:\n",
    "        val = 1\n",
    "    else:\n",
    "        val = 0\n",
    "    return val        "
   ]
  },
  {
   "cell_type": "code",
   "execution_count": 37,
   "metadata": {
    "collapsed": true
   },
   "outputs": [],
   "source": [
    "raw['rank'] = raw.groupby(by=['fips', 'party'])['fraction_votes'].rank(ascending=False) \n",
    "# grouping by county, party and finding rank\n",
    "\n",
    "raw['primary_win'] = raw.apply(winner, axis=1) # creating a column for top place in primary"
   ]
  },
  {
   "cell_type": "code",
   "execution_count": 38,
   "metadata": {
    "collapsed": false
   },
   "outputs": [],
   "source": [
    "trump_df = raw[raw.candidate == 'Donald Trump']\n",
    "clinton_df = raw[raw.candidate == 'Hillary Clinton']"
   ]
  },
  {
   "cell_type": "code",
   "execution_count": 39,
   "metadata": {
    "collapsed": false
   },
   "outputs": [],
   "source": [
    "features = ['highschool', 'land_area', 'white_nonhisp', 'merch_sales', 'housing_units', 'travel_time',\n",
    "            'multi_unit_pct', 'median_val_ownerhousing', 'nonenglish_home', 'veterans_09-13', 'pop_chg', 'travel_time']\n",
    "\n",
    "trump_char = trump_df[trump_df['primary_win'] == 1][features].describe()\n",
    "\n",
    "clinton_char = clinton_df[clinton_df['primary_win'] == 1][features].describe()"
   ]
  },
  {
   "cell_type": "code",
   "execution_count": 40,
   "metadata": {
    "collapsed": false
   },
   "outputs": [
    {
     "data": {
      "text/html": [
       "<div>\n",
       "<table border=\"1\" class=\"dataframe\">\n",
       "  <thead>\n",
       "    <tr style=\"text-align: right;\">\n",
       "      <th></th>\n",
       "      <th>highschool</th>\n",
       "      <th>land_area</th>\n",
       "      <th>white_nonhisp</th>\n",
       "      <th>merch_sales</th>\n",
       "      <th>housing_units</th>\n",
       "      <th>travel_time</th>\n",
       "      <th>multi_unit_pct</th>\n",
       "      <th>median_val_ownerhousing</th>\n",
       "      <th>nonenglish_home</th>\n",
       "      <th>veterans_09-13</th>\n",
       "      <th>pop_chg</th>\n",
       "      <th>travel_time</th>\n",
       "    </tr>\n",
       "  </thead>\n",
       "  <tbody>\n",
       "    <tr>\n",
       "      <th>count</th>\n",
       "      <td>1996.000000</td>\n",
       "      <td>1996.000000</td>\n",
       "      <td>1996.000000</td>\n",
       "      <td>1.996000e+03</td>\n",
       "      <td>1.996000e+03</td>\n",
       "      <td>1996.000000</td>\n",
       "      <td>1996.000000</td>\n",
       "      <td>1996.000000</td>\n",
       "      <td>1996.000000</td>\n",
       "      <td>1996.000000</td>\n",
       "      <td>1996.000000</td>\n",
       "      <td>1996.000000</td>\n",
       "    </tr>\n",
       "    <tr>\n",
       "      <th>mean</th>\n",
       "      <td>83.653958</td>\n",
       "      <td>915.380581</td>\n",
       "      <td>77.404960</td>\n",
       "      <td>1.104915e+06</td>\n",
       "      <td>4.306003e+04</td>\n",
       "      <td>24.013627</td>\n",
       "      <td>11.687275</td>\n",
       "      <td>128709.919840</td>\n",
       "      <td>7.612675</td>\n",
       "      <td>7009.404309</td>\n",
       "      <td>-0.052806</td>\n",
       "      <td>24.013627</td>\n",
       "    </tr>\n",
       "    <tr>\n",
       "      <th>std</th>\n",
       "      <td>6.670024</td>\n",
       "      <td>1383.833128</td>\n",
       "      <td>20.030871</td>\n",
       "      <td>6.458476e+06</td>\n",
       "      <td>1.280612e+05</td>\n",
       "      <td>5.339151</td>\n",
       "      <td>8.667916</td>\n",
       "      <td>74597.434775</td>\n",
       "      <td>9.918625</td>\n",
       "      <td>17149.838455</td>\n",
       "      <td>3.523358</td>\n",
       "      <td>5.339151</td>\n",
       "    </tr>\n",
       "    <tr>\n",
       "      <th>min</th>\n",
       "      <td>54.000000</td>\n",
       "      <td>2.530000</td>\n",
       "      <td>3.700000</td>\n",
       "      <td>0.000000e+00</td>\n",
       "      <td>2.520000e+02</td>\n",
       "      <td>9.800000</td>\n",
       "      <td>0.000000</td>\n",
       "      <td>19900.000000</td>\n",
       "      <td>0.000000</td>\n",
       "      <td>31.000000</td>\n",
       "      <td>-9.700000</td>\n",
       "      <td>9.800000</td>\n",
       "    </tr>\n",
       "    <tr>\n",
       "      <th>25%</th>\n",
       "      <td>78.900000</td>\n",
       "      <td>403.962500</td>\n",
       "      <td>65.375000</td>\n",
       "      <td>0.000000e+00</td>\n",
       "      <td>6.324000e+03</td>\n",
       "      <td>20.500000</td>\n",
       "      <td>6.000000</td>\n",
       "      <td>83500.000000</td>\n",
       "      <td>2.500000</td>\n",
       "      <td>1048.500000</td>\n",
       "      <td>-2.200000</td>\n",
       "      <td>20.500000</td>\n",
       "    </tr>\n",
       "    <tr>\n",
       "      <th>50%</th>\n",
       "      <td>84.800000</td>\n",
       "      <td>564.295000</td>\n",
       "      <td>85.050000</td>\n",
       "      <td>3.696750e+04</td>\n",
       "      <td>1.294400e+04</td>\n",
       "      <td>23.600000</td>\n",
       "      <td>9.300000</td>\n",
       "      <td>106300.000000</td>\n",
       "      <td>4.200000</td>\n",
       "      <td>2156.500000</td>\n",
       "      <td>-0.700000</td>\n",
       "      <td>23.600000</td>\n",
       "    </tr>\n",
       "    <tr>\n",
       "      <th>75%</th>\n",
       "      <td>88.900000</td>\n",
       "      <td>814.277500</td>\n",
       "      <td>93.800000</td>\n",
       "      <td>2.346150e+05</td>\n",
       "      <td>3.081750e+04</td>\n",
       "      <td>27.325000</td>\n",
       "      <td>14.925000</td>\n",
       "      <td>150125.000000</td>\n",
       "      <td>8.200000</td>\n",
       "      <td>5618.250000</td>\n",
       "      <td>1.600000</td>\n",
       "      <td>27.325000</td>\n",
       "    </tr>\n",
       "    <tr>\n",
       "      <th>max</th>\n",
       "      <td>99.000000</td>\n",
       "      <td>20056.940000</td>\n",
       "      <td>98.600000</td>\n",
       "      <td>1.984358e+08</td>\n",
       "      <td>3.482516e+06</td>\n",
       "      <td>42.800000</td>\n",
       "      <td>89.700000</td>\n",
       "      <td>781900.000000</td>\n",
       "      <td>91.300000</td>\n",
       "      <td>331642.000000</td>\n",
       "      <td>23.700000</td>\n",
       "      <td>42.800000</td>\n",
       "    </tr>\n",
       "  </tbody>\n",
       "</table>\n",
       "</div>"
      ],
      "text/plain": [
       "        highschool     land_area  white_nonhisp   merch_sales  housing_units  \\\n",
       "count  1996.000000   1996.000000    1996.000000  1.996000e+03   1.996000e+03   \n",
       "mean     83.653958    915.380581      77.404960  1.104915e+06   4.306003e+04   \n",
       "std       6.670024   1383.833128      20.030871  6.458476e+06   1.280612e+05   \n",
       "min      54.000000      2.530000       3.700000  0.000000e+00   2.520000e+02   \n",
       "25%      78.900000    403.962500      65.375000  0.000000e+00   6.324000e+03   \n",
       "50%      84.800000    564.295000      85.050000  3.696750e+04   1.294400e+04   \n",
       "75%      88.900000    814.277500      93.800000  2.346150e+05   3.081750e+04   \n",
       "max      99.000000  20056.940000      98.600000  1.984358e+08   3.482516e+06   \n",
       "\n",
       "       travel_time  multi_unit_pct  median_val_ownerhousing  nonenglish_home  \\\n",
       "count  1996.000000     1996.000000              1996.000000      1996.000000   \n",
       "mean     24.013627       11.687275            128709.919840         7.612675   \n",
       "std       5.339151        8.667916             74597.434775         9.918625   \n",
       "min       9.800000        0.000000             19900.000000         0.000000   \n",
       "25%      20.500000        6.000000             83500.000000         2.500000   \n",
       "50%      23.600000        9.300000            106300.000000         4.200000   \n",
       "75%      27.325000       14.925000            150125.000000         8.200000   \n",
       "max      42.800000       89.700000            781900.000000        91.300000   \n",
       "\n",
       "       veterans_09-13      pop_chg  travel_time  \n",
       "count     1996.000000  1996.000000  1996.000000  \n",
       "mean      7009.404309    -0.052806    24.013627  \n",
       "std      17149.838455     3.523358     5.339151  \n",
       "min         31.000000    -9.700000     9.800000  \n",
       "25%       1048.500000    -2.200000    20.500000  \n",
       "50%       2156.500000    -0.700000    23.600000  \n",
       "75%       5618.250000     1.600000    27.325000  \n",
       "max     331642.000000    23.700000    42.800000  "
      ]
     },
     "execution_count": 40,
     "metadata": {},
     "output_type": "execute_result"
    }
   ],
   "source": [
    "trump_char"
   ]
  },
  {
   "cell_type": "code",
   "execution_count": 41,
   "metadata": {
    "collapsed": false
   },
   "outputs": [
    {
     "data": {
      "text/html": [
       "<div>\n",
       "<table border=\"1\" class=\"dataframe\">\n",
       "  <thead>\n",
       "    <tr style=\"text-align: right;\">\n",
       "      <th></th>\n",
       "      <th>highschool</th>\n",
       "      <th>land_area</th>\n",
       "      <th>white_nonhisp</th>\n",
       "      <th>merch_sales</th>\n",
       "      <th>housing_units</th>\n",
       "      <th>travel_time</th>\n",
       "      <th>multi_unit_pct</th>\n",
       "      <th>median_val_ownerhousing</th>\n",
       "      <th>nonenglish_home</th>\n",
       "      <th>veterans_09-13</th>\n",
       "      <th>pop_chg</th>\n",
       "      <th>travel_time</th>\n",
       "    </tr>\n",
       "  </thead>\n",
       "  <tbody>\n",
       "    <tr>\n",
       "      <th>count</th>\n",
       "      <td>1669.000000</td>\n",
       "      <td>1669.000000</td>\n",
       "      <td>1669.000000</td>\n",
       "      <td>1.669000e+03</td>\n",
       "      <td>1.669000e+03</td>\n",
       "      <td>1669.000000</td>\n",
       "      <td>1669.000000</td>\n",
       "      <td>1669.000000</td>\n",
       "      <td>1669.000000</td>\n",
       "      <td>1669.000000</td>\n",
       "      <td>1669.000000</td>\n",
       "      <td>1669.000000</td>\n",
       "    </tr>\n",
       "    <tr>\n",
       "      <th>mean</th>\n",
       "      <td>82.143919</td>\n",
       "      <td>842.841150</td>\n",
       "      <td>70.158418</td>\n",
       "      <td>1.648762e+06</td>\n",
       "      <td>5.341846e+04</td>\n",
       "      <td>24.075494</td>\n",
       "      <td>11.951947</td>\n",
       "      <td>125650.449371</td>\n",
       "      <td>10.841043</td>\n",
       "      <td>8336.581186</td>\n",
       "      <td>0.564290</td>\n",
       "      <td>24.075494</td>\n",
       "    </tr>\n",
       "    <tr>\n",
       "      <th>std</th>\n",
       "      <td>7.090999</td>\n",
       "      <td>1255.374013</td>\n",
       "      <td>21.361909</td>\n",
       "      <td>9.260060e+06</td>\n",
       "      <td>1.529927e+05</td>\n",
       "      <td>5.343439</td>\n",
       "      <td>9.613614</td>\n",
       "      <td>79227.691381</td>\n",
       "      <td>13.822393</td>\n",
       "      <td>19884.163723</td>\n",
       "      <td>4.211124</td>\n",
       "      <td>5.343439</td>\n",
       "    </tr>\n",
       "    <tr>\n",
       "      <th>min</th>\n",
       "      <td>45.000000</td>\n",
       "      <td>2.000000</td>\n",
       "      <td>3.100000</td>\n",
       "      <td>0.000000e+00</td>\n",
       "      <td>1.860000e+02</td>\n",
       "      <td>9.800000</td>\n",
       "      <td>0.000000</td>\n",
       "      <td>35500.000000</td>\n",
       "      <td>0.000000</td>\n",
       "      <td>6.000000</td>\n",
       "      <td>-13.400000</td>\n",
       "      <td>9.800000</td>\n",
       "    </tr>\n",
       "    <tr>\n",
       "      <th>25%</th>\n",
       "      <td>77.300000</td>\n",
       "      <td>412.750000</td>\n",
       "      <td>56.500000</td>\n",
       "      <td>0.000000e+00</td>\n",
       "      <td>5.930000e+03</td>\n",
       "      <td>20.400000</td>\n",
       "      <td>5.800000</td>\n",
       "      <td>80800.000000</td>\n",
       "      <td>2.800000</td>\n",
       "      <td>961.000000</td>\n",
       "      <td>-2.100000</td>\n",
       "      <td>20.400000</td>\n",
       "    </tr>\n",
       "    <tr>\n",
       "      <th>50%</th>\n",
       "      <td>82.600000</td>\n",
       "      <td>575.370000</td>\n",
       "      <td>73.400000</td>\n",
       "      <td>4.235300e+04</td>\n",
       "      <td>1.268800e+04</td>\n",
       "      <td>23.700000</td>\n",
       "      <td>9.100000</td>\n",
       "      <td>102800.000000</td>\n",
       "      <td>5.400000</td>\n",
       "      <td>2092.000000</td>\n",
       "      <td>-0.100000</td>\n",
       "      <td>23.700000</td>\n",
       "    </tr>\n",
       "    <tr>\n",
       "      <th>75%</th>\n",
       "      <td>87.800000</td>\n",
       "      <td>850.620000</td>\n",
       "      <td>89.100000</td>\n",
       "      <td>2.708650e+05</td>\n",
       "      <td>3.597200e+04</td>\n",
       "      <td>27.500000</td>\n",
       "      <td>15.200000</td>\n",
       "      <td>143600.000000</td>\n",
       "      <td>12.300000</td>\n",
       "      <td>6672.000000</td>\n",
       "      <td>2.600000</td>\n",
       "      <td>27.500000</td>\n",
       "    </tr>\n",
       "    <tr>\n",
       "      <th>max</th>\n",
       "      <td>97.300000</td>\n",
       "      <td>20056.940000</td>\n",
       "      <td>97.900000</td>\n",
       "      <td>2.054788e+08</td>\n",
       "      <td>3.482516e+06</td>\n",
       "      <td>42.800000</td>\n",
       "      <td>98.500000</td>\n",
       "      <td>828100.000000</td>\n",
       "      <td>95.600000</td>\n",
       "      <td>331642.000000</td>\n",
       "      <td>23.700000</td>\n",
       "      <td>42.800000</td>\n",
       "    </tr>\n",
       "  </tbody>\n",
       "</table>\n",
       "</div>"
      ],
      "text/plain": [
       "        highschool     land_area  white_nonhisp   merch_sales  housing_units  \\\n",
       "count  1669.000000   1669.000000    1669.000000  1.669000e+03   1.669000e+03   \n",
       "mean     82.143919    842.841150      70.158418  1.648762e+06   5.341846e+04   \n",
       "std       7.090999   1255.374013      21.361909  9.260060e+06   1.529927e+05   \n",
       "min      45.000000      2.000000       3.100000  0.000000e+00   1.860000e+02   \n",
       "25%      77.300000    412.750000      56.500000  0.000000e+00   5.930000e+03   \n",
       "50%      82.600000    575.370000      73.400000  4.235300e+04   1.268800e+04   \n",
       "75%      87.800000    850.620000      89.100000  2.708650e+05   3.597200e+04   \n",
       "max      97.300000  20056.940000      97.900000  2.054788e+08   3.482516e+06   \n",
       "\n",
       "       travel_time  multi_unit_pct  median_val_ownerhousing  nonenglish_home  \\\n",
       "count  1669.000000     1669.000000              1669.000000      1669.000000   \n",
       "mean     24.075494       11.951947            125650.449371        10.841043   \n",
       "std       5.343439        9.613614             79227.691381        13.822393   \n",
       "min       9.800000        0.000000             35500.000000         0.000000   \n",
       "25%      20.400000        5.800000             80800.000000         2.800000   \n",
       "50%      23.700000        9.100000            102800.000000         5.400000   \n",
       "75%      27.500000       15.200000            143600.000000        12.300000   \n",
       "max      42.800000       98.500000            828100.000000        95.600000   \n",
       "\n",
       "       veterans_09-13      pop_chg  travel_time  \n",
       "count     1669.000000  1669.000000  1669.000000  \n",
       "mean      8336.581186     0.564290    24.075494  \n",
       "std      19884.163723     4.211124     5.343439  \n",
       "min          6.000000   -13.400000     9.800000  \n",
       "25%        961.000000    -2.100000    20.400000  \n",
       "50%       2092.000000    -0.100000    23.700000  \n",
       "75%       6672.000000     2.600000    27.500000  \n",
       "max     331642.000000    23.700000    42.800000  "
      ]
     },
     "execution_count": 41,
     "metadata": {},
     "output_type": "execute_result"
    }
   ],
   "source": [
    "clinton_char"
   ]
  },
  {
   "cell_type": "markdown",
   "metadata": {},
   "source": [
    "### Next Steps:\n",
    "- attempt random forest model\n",
    "- determine how to improve predictive power\n",
    "- try other methods of cross-validation\n",
    "- attempt to predict general election (model not robust enough currently...)"
   ]
  },
  {
   "cell_type": "markdown",
   "metadata": {},
   "source": [
    "### Random Forest"
   ]
  },
  {
   "cell_type": "code",
   "execution_count": 42,
   "metadata": {
    "collapsed": true
   },
   "outputs": [],
   "source": [
    "# numeric = raw.select_dtypes(exclude=['object']) # selecting only numeric types from dataset\n",
    "\n",
    "# X_col = numeric.columns.drop(['fraction_votes', 'votes', 'fips']) # dropping redundant values\n",
    "# y_col = 'fraction_votes'\n",
    "\n",
    "# X = raw[X_col]\n",
    "# y = raw[y_col]\n",
    "\n",
    "# train_X, test_X, train_y, test_y = cross_validation.train_test_split(X, y, test_size = 0.3)"
   ]
  },
  {
   "cell_type": "code",
   "execution_count": 43,
   "metadata": {
    "collapsed": false
   },
   "outputs": [],
   "source": [
    "# model = ensemble.RandomForestClassifier(n_estimators = 1000, max_features = 4, min_samples_leaf = 5, oob_score = True)\n",
    "\n",
    "# model.fit(train_X, train_y)"
   ]
  },
  {
   "cell_type": "markdown",
   "metadata": {},
   "source": [
    "### A model to predict general election results"
   ]
  },
  {
   "cell_type": "code",
   "execution_count": 44,
   "metadata": {
    "collapsed": false
   },
   "outputs": [],
   "source": [
    "losses = raw[((raw['candidate'] != 'Hillary Clinton') & (raw['candidate'] != 'Donald Trump')) & (raw['rank'] == 1.0)] "
   ]
  },
  {
   "cell_type": "code",
   "execution_count": 45,
   "metadata": {
    "collapsed": true
   },
   "outputs": [],
   "source": [
    "# battleground states per http://www.politico.com/2016-election/swing-states\n",
    "# will be able to focus our predictions on these states to predict outcome\n",
    "battle_ground = {\n",
    "    'CO': 'Colorado',\n",
    "    'FL': 'Florida',\n",
    "    'IA': 'Iowa',\n",
    "    'MI': 'Michigan',\n",
    "    'NV': 'Nevada',\n",
    "    'NH': 'New Hampshire',\n",
    "    'NC': 'North Carolina',\n",
    "    'OH': 'Ohio',\n",
    "    'PA': 'Pennsylvania',\n",
    "    'VA': 'Virginia',\n",
    "    'WI': 'Wisconsin'\n",
    "}"
   ]
  },
  {
   "cell_type": "code",
   "execution_count": 46,
   "metadata": {
    "collapsed": false
   },
   "outputs": [],
   "source": [
    "losses_battle = losses[(losses['state_abbreviation'] == 'CO') | (losses['state_abbreviation'] == 'FL') |\n",
    "                                                   (losses['state_abbreviation'] == 'IA') |\n",
    "                                                    (losses['state_abbreviation'] == 'MI') |\n",
    "                                                     (losses['state_abbreviation'] == 'NV') |\n",
    "                                                      (losses['state_abbreviation'] == 'NH') |\n",
    "                                                       (losses['state_abbreviation'] == 'NC') |\n",
    "                                                        (losses['state_abbreviation'] == 'OH') |\n",
    "                                                         (losses['state_abbreviation'] == 'PA') |\n",
    "                                                          (losses['state_abbreviation'] == 'VA') |\n",
    "                                                           (losses['state_abbreviation'] == 'WI')]"
   ]
  },
  {
   "cell_type": "markdown",
   "metadata": {},
   "source": [
    "### Below is a dataframe that contains losses for Donald Trump or Hillary Clinton in BattleGround counties"
   ]
  },
  {
   "cell_type": "code",
   "execution_count": 47,
   "metadata": {
    "collapsed": false
   },
   "outputs": [
    {
     "data": {
      "text/plain": [
       "array(['Bernie Sanders', 'Marco Rubio', 'Ted Cruz', 'John Kasich'], dtype=object)"
      ]
     },
     "execution_count": 47,
     "metadata": {},
     "output_type": "execute_result"
    }
   ],
   "source": [
    "losses_battle.candidate.unique()"
   ]
  },
  {
   "cell_type": "markdown",
   "metadata": {},
   "source": [
    "### Theory 1: Transitive Voter Preferences (e.g. voters vote their relative party)"
   ]
  },
  {
   "cell_type": "code",
   "execution_count": 48,
   "metadata": {
    "collapsed": false
   },
   "outputs": [],
   "source": [
    "winner = raw[((raw['candidate'] == 'Hillary Clinton') | (raw['candidate'] == 'Donald Trump')) & (raw['rank'] <= 1.5)]"
   ]
  },
  {
   "cell_type": "code",
   "execution_count": 49,
   "metadata": {
    "collapsed": false
   },
   "outputs": [],
   "source": [
    "winner.head(); # a dataframe with the results with Trump or Clinton winning."
   ]
  },
  {
   "cell_type": "code",
   "execution_count": 50,
   "metadata": {
    "collapsed": false
   },
   "outputs": [],
   "source": [
    "# converting voters for competitors within primary to the party winners\n",
    "losses_battle = losses_battle.replace(to_replace={\n",
    "        'candidate': {'Bernie Sanders': 'Hillary Clinton', 'Ted Cruz': 'Donald Trump', 'Marco Rubio': 'Donald Trump',\n",
    "                      'John Kasich': 'Donald Trump'}})"
   ]
  },
  {
   "cell_type": "code",
   "execution_count": 51,
   "metadata": {
    "collapsed": true
   },
   "outputs": [],
   "source": [
    "losses = losses.replace(to_replace={\n",
    "        'candidate': {'Bernie Sanders': 'Hillary Clinton', 'Ted Cruz': 'Donald Trump', 'Marco Rubio': 'Donald Trump',\n",
    "                      'John Kasich': 'Donald Trump'}})"
   ]
  },
  {
   "cell_type": "code",
   "execution_count": 52,
   "metadata": {
    "collapsed": true
   },
   "outputs": [],
   "source": [
    "general_tot = winner.append(losses)"
   ]
  },
  {
   "cell_type": "code",
   "execution_count": 53,
   "metadata": {
    "collapsed": true
   },
   "outputs": [],
   "source": [
    "general_battle = winner.append(losses_battle)"
   ]
  },
  {
   "cell_type": "code",
   "execution_count": 54,
   "metadata": {
    "collapsed": false
   },
   "outputs": [],
   "source": [
    "county_votes = raw.groupby(by=['fips', 'party'])['votes'].sum()"
   ]
  },
  {
   "cell_type": "code",
   "execution_count": 55,
   "metadata": {
    "collapsed": false
   },
   "outputs": [],
   "source": [
    "general_tot = general_tot.join(county_votes, on=['fips', 'party'], lsuffix='left', rsuffix='right')"
   ]
  },
  {
   "cell_type": "code",
   "execution_count": 56,
   "metadata": {
    "collapsed": false
   },
   "outputs": [
    {
     "data": {
      "text/html": [
       "<div>\n",
       "<table border=\"1\" class=\"dataframe\">\n",
       "  <thead>\n",
       "    <tr style=\"text-align: right;\">\n",
       "      <th></th>\n",
       "      <th>fips</th>\n",
       "      <th>area_name</th>\n",
       "      <th>state_abbreviation</th>\n",
       "      <th>pop_2014_est</th>\n",
       "      <th>pop_2010_est</th>\n",
       "      <th>pop_chg</th>\n",
       "      <th>pop_2010</th>\n",
       "      <th>under_5_pct</th>\n",
       "      <th>under_18_pct</th>\n",
       "      <th>above_64_pct</th>\n",
       "      <th>...</th>\n",
       "      <th>pop_per_m2</th>\n",
       "      <th>state</th>\n",
       "      <th>county</th>\n",
       "      <th>party</th>\n",
       "      <th>candidate</th>\n",
       "      <th>votesleft</th>\n",
       "      <th>fraction_votes</th>\n",
       "      <th>rank</th>\n",
       "      <th>primary_win</th>\n",
       "      <th>votesright</th>\n",
       "    </tr>\n",
       "  </thead>\n",
       "  <tbody>\n",
       "    <tr>\n",
       "      <th>1</th>\n",
       "      <td>1001</td>\n",
       "      <td>Autauga County</td>\n",
       "      <td>AL</td>\n",
       "      <td>55395</td>\n",
       "      <td>54571</td>\n",
       "      <td>1.5</td>\n",
       "      <td>54571</td>\n",
       "      <td>6.0</td>\n",
       "      <td>25.2</td>\n",
       "      <td>13.8</td>\n",
       "      <td>...</td>\n",
       "      <td>91.8</td>\n",
       "      <td>Alabama</td>\n",
       "      <td>Autauga</td>\n",
       "      <td>Democrat</td>\n",
       "      <td>Hillary Clinton</td>\n",
       "      <td>2387</td>\n",
       "      <td>0.800</td>\n",
       "      <td>1.0</td>\n",
       "      <td>1</td>\n",
       "      <td>2931</td>\n",
       "    </tr>\n",
       "    <tr>\n",
       "      <th>3</th>\n",
       "      <td>1001</td>\n",
       "      <td>Autauga County</td>\n",
       "      <td>AL</td>\n",
       "      <td>55395</td>\n",
       "      <td>54571</td>\n",
       "      <td>1.5</td>\n",
       "      <td>54571</td>\n",
       "      <td>6.0</td>\n",
       "      <td>25.2</td>\n",
       "      <td>13.8</td>\n",
       "      <td>...</td>\n",
       "      <td>91.8</td>\n",
       "      <td>Alabama</td>\n",
       "      <td>Autauga</td>\n",
       "      <td>Republican</td>\n",
       "      <td>Donald Trump</td>\n",
       "      <td>5387</td>\n",
       "      <td>0.445</td>\n",
       "      <td>1.0</td>\n",
       "      <td>1</td>\n",
       "      <td>11839</td>\n",
       "    </tr>\n",
       "    <tr>\n",
       "      <th>8</th>\n",
       "      <td>1003</td>\n",
       "      <td>Baldwin County</td>\n",
       "      <td>AL</td>\n",
       "      <td>200111</td>\n",
       "      <td>182265</td>\n",
       "      <td>9.8</td>\n",
       "      <td>182265</td>\n",
       "      <td>5.6</td>\n",
       "      <td>22.2</td>\n",
       "      <td>18.7</td>\n",
       "      <td>...</td>\n",
       "      <td>114.6</td>\n",
       "      <td>Alabama</td>\n",
       "      <td>Baldwin</td>\n",
       "      <td>Democrat</td>\n",
       "      <td>Hillary Clinton</td>\n",
       "      <td>5290</td>\n",
       "      <td>0.647</td>\n",
       "      <td>1.0</td>\n",
       "      <td>1</td>\n",
       "      <td>7984</td>\n",
       "    </tr>\n",
       "    <tr>\n",
       "      <th>10</th>\n",
       "      <td>1003</td>\n",
       "      <td>Baldwin County</td>\n",
       "      <td>AL</td>\n",
       "      <td>200111</td>\n",
       "      <td>182265</td>\n",
       "      <td>9.8</td>\n",
       "      <td>182265</td>\n",
       "      <td>5.6</td>\n",
       "      <td>22.2</td>\n",
       "      <td>18.7</td>\n",
       "      <td>...</td>\n",
       "      <td>114.6</td>\n",
       "      <td>Alabama</td>\n",
       "      <td>Baldwin</td>\n",
       "      <td>Republican</td>\n",
       "      <td>Donald Trump</td>\n",
       "      <td>23618</td>\n",
       "      <td>0.469</td>\n",
       "      <td>1.0</td>\n",
       "      <td>1</td>\n",
       "      <td>49100</td>\n",
       "    </tr>\n",
       "    <tr>\n",
       "      <th>15</th>\n",
       "      <td>1005</td>\n",
       "      <td>Barbour County</td>\n",
       "      <td>AL</td>\n",
       "      <td>26887</td>\n",
       "      <td>27457</td>\n",
       "      <td>-2.1</td>\n",
       "      <td>27457</td>\n",
       "      <td>5.7</td>\n",
       "      <td>21.2</td>\n",
       "      <td>16.5</td>\n",
       "      <td>...</td>\n",
       "      <td>31.0</td>\n",
       "      <td>Alabama</td>\n",
       "      <td>Barbour</td>\n",
       "      <td>Democrat</td>\n",
       "      <td>Hillary Clinton</td>\n",
       "      <td>2567</td>\n",
       "      <td>0.906</td>\n",
       "      <td>1.0</td>\n",
       "      <td>1</td>\n",
       "      <td>2789</td>\n",
       "    </tr>\n",
       "  </tbody>\n",
       "</table>\n",
       "<p>5 rows × 63 columns</p>\n",
       "</div>"
      ],
      "text/plain": [
       "    fips       area_name state_abbreviation  pop_2014_est  pop_2010_est  \\\n",
       "1   1001  Autauga County                 AL         55395         54571   \n",
       "3   1001  Autauga County                 AL         55395         54571   \n",
       "8   1003  Baldwin County                 AL        200111        182265   \n",
       "10  1003  Baldwin County                 AL        200111        182265   \n",
       "15  1005  Barbour County                 AL         26887         27457   \n",
       "\n",
       "    pop_chg  pop_2010  under_5_pct  under_18_pct  above_64_pct     ...      \\\n",
       "1       1.5     54571          6.0          25.2          13.8     ...       \n",
       "3       1.5     54571          6.0          25.2          13.8     ...       \n",
       "8       9.8    182265          5.6          22.2          18.7     ...       \n",
       "10      9.8    182265          5.6          22.2          18.7     ...       \n",
       "15     -2.1     27457          5.7          21.2          16.5     ...       \n",
       "\n",
       "    pop_per_m2    state   county       party        candidate  votesleft  \\\n",
       "1         91.8  Alabama  Autauga    Democrat  Hillary Clinton       2387   \n",
       "3         91.8  Alabama  Autauga  Republican     Donald Trump       5387   \n",
       "8        114.6  Alabama  Baldwin    Democrat  Hillary Clinton       5290   \n",
       "10       114.6  Alabama  Baldwin  Republican     Donald Trump      23618   \n",
       "15        31.0  Alabama  Barbour    Democrat  Hillary Clinton       2567   \n",
       "\n",
       "    fraction_votes  rank  primary_win  votesright  \n",
       "1            0.800   1.0            1        2931  \n",
       "3            0.445   1.0            1       11839  \n",
       "8            0.647   1.0            1        7984  \n",
       "10           0.469   1.0            1       49100  \n",
       "15           0.906   1.0            1        2789  \n",
       "\n",
       "[5 rows x 63 columns]"
      ]
     },
     "execution_count": 56,
     "metadata": {},
     "output_type": "execute_result"
    }
   ],
   "source": [
    "general_tot.head()"
   ]
  },
  {
   "cell_type": "code",
   "execution_count": 57,
   "metadata": {
    "collapsed": false
   },
   "outputs": [],
   "source": [
    "general_tot = pd.get_dummies(general_tot, columns=['party', 'candidate'], drop_first=True)"
   ]
  },
  {
   "cell_type": "code",
   "execution_count": 58,
   "metadata": {
    "collapsed": false
   },
   "outputs": [
    {
     "data": {
      "text/html": [
       "<div>\n",
       "<table border=\"1\" class=\"dataframe\">\n",
       "  <thead>\n",
       "    <tr style=\"text-align: right;\">\n",
       "      <th></th>\n",
       "      <th>fips</th>\n",
       "      <th>area_name</th>\n",
       "      <th>state_abbreviation</th>\n",
       "      <th>pop_2014_est</th>\n",
       "      <th>pop_2010_est</th>\n",
       "      <th>pop_chg</th>\n",
       "      <th>pop_2010</th>\n",
       "      <th>under_5_pct</th>\n",
       "      <th>under_18_pct</th>\n",
       "      <th>above_64_pct</th>\n",
       "      <th>...</th>\n",
       "      <th>pop_per_m2</th>\n",
       "      <th>state</th>\n",
       "      <th>county</th>\n",
       "      <th>votesleft</th>\n",
       "      <th>fraction_votes</th>\n",
       "      <th>rank</th>\n",
       "      <th>primary_win</th>\n",
       "      <th>votesright</th>\n",
       "      <th>party_Republican</th>\n",
       "      <th>candidate_Hillary Clinton</th>\n",
       "    </tr>\n",
       "  </thead>\n",
       "  <tbody>\n",
       "    <tr>\n",
       "      <th>1</th>\n",
       "      <td>1001</td>\n",
       "      <td>Autauga County</td>\n",
       "      <td>AL</td>\n",
       "      <td>55395</td>\n",
       "      <td>54571</td>\n",
       "      <td>1.5</td>\n",
       "      <td>54571</td>\n",
       "      <td>6.0</td>\n",
       "      <td>25.2</td>\n",
       "      <td>13.8</td>\n",
       "      <td>...</td>\n",
       "      <td>91.8</td>\n",
       "      <td>Alabama</td>\n",
       "      <td>Autauga</td>\n",
       "      <td>2387</td>\n",
       "      <td>0.800</td>\n",
       "      <td>1.0</td>\n",
       "      <td>1</td>\n",
       "      <td>2931</td>\n",
       "      <td>0.0</td>\n",
       "      <td>1.0</td>\n",
       "    </tr>\n",
       "    <tr>\n",
       "      <th>3</th>\n",
       "      <td>1001</td>\n",
       "      <td>Autauga County</td>\n",
       "      <td>AL</td>\n",
       "      <td>55395</td>\n",
       "      <td>54571</td>\n",
       "      <td>1.5</td>\n",
       "      <td>54571</td>\n",
       "      <td>6.0</td>\n",
       "      <td>25.2</td>\n",
       "      <td>13.8</td>\n",
       "      <td>...</td>\n",
       "      <td>91.8</td>\n",
       "      <td>Alabama</td>\n",
       "      <td>Autauga</td>\n",
       "      <td>5387</td>\n",
       "      <td>0.445</td>\n",
       "      <td>1.0</td>\n",
       "      <td>1</td>\n",
       "      <td>11839</td>\n",
       "      <td>1.0</td>\n",
       "      <td>0.0</td>\n",
       "    </tr>\n",
       "    <tr>\n",
       "      <th>8</th>\n",
       "      <td>1003</td>\n",
       "      <td>Baldwin County</td>\n",
       "      <td>AL</td>\n",
       "      <td>200111</td>\n",
       "      <td>182265</td>\n",
       "      <td>9.8</td>\n",
       "      <td>182265</td>\n",
       "      <td>5.6</td>\n",
       "      <td>22.2</td>\n",
       "      <td>18.7</td>\n",
       "      <td>...</td>\n",
       "      <td>114.6</td>\n",
       "      <td>Alabama</td>\n",
       "      <td>Baldwin</td>\n",
       "      <td>5290</td>\n",
       "      <td>0.647</td>\n",
       "      <td>1.0</td>\n",
       "      <td>1</td>\n",
       "      <td>7984</td>\n",
       "      <td>0.0</td>\n",
       "      <td>1.0</td>\n",
       "    </tr>\n",
       "    <tr>\n",
       "      <th>10</th>\n",
       "      <td>1003</td>\n",
       "      <td>Baldwin County</td>\n",
       "      <td>AL</td>\n",
       "      <td>200111</td>\n",
       "      <td>182265</td>\n",
       "      <td>9.8</td>\n",
       "      <td>182265</td>\n",
       "      <td>5.6</td>\n",
       "      <td>22.2</td>\n",
       "      <td>18.7</td>\n",
       "      <td>...</td>\n",
       "      <td>114.6</td>\n",
       "      <td>Alabama</td>\n",
       "      <td>Baldwin</td>\n",
       "      <td>23618</td>\n",
       "      <td>0.469</td>\n",
       "      <td>1.0</td>\n",
       "      <td>1</td>\n",
       "      <td>49100</td>\n",
       "      <td>1.0</td>\n",
       "      <td>0.0</td>\n",
       "    </tr>\n",
       "    <tr>\n",
       "      <th>15</th>\n",
       "      <td>1005</td>\n",
       "      <td>Barbour County</td>\n",
       "      <td>AL</td>\n",
       "      <td>26887</td>\n",
       "      <td>27457</td>\n",
       "      <td>-2.1</td>\n",
       "      <td>27457</td>\n",
       "      <td>5.7</td>\n",
       "      <td>21.2</td>\n",
       "      <td>16.5</td>\n",
       "      <td>...</td>\n",
       "      <td>31.0</td>\n",
       "      <td>Alabama</td>\n",
       "      <td>Barbour</td>\n",
       "      <td>2567</td>\n",
       "      <td>0.906</td>\n",
       "      <td>1.0</td>\n",
       "      <td>1</td>\n",
       "      <td>2789</td>\n",
       "      <td>0.0</td>\n",
       "      <td>1.0</td>\n",
       "    </tr>\n",
       "  </tbody>\n",
       "</table>\n",
       "<p>5 rows × 63 columns</p>\n",
       "</div>"
      ],
      "text/plain": [
       "    fips       area_name state_abbreviation  pop_2014_est  pop_2010_est  \\\n",
       "1   1001  Autauga County                 AL         55395         54571   \n",
       "3   1001  Autauga County                 AL         55395         54571   \n",
       "8   1003  Baldwin County                 AL        200111        182265   \n",
       "10  1003  Baldwin County                 AL        200111        182265   \n",
       "15  1005  Barbour County                 AL         26887         27457   \n",
       "\n",
       "    pop_chg  pop_2010  under_5_pct  under_18_pct  above_64_pct  \\\n",
       "1       1.5     54571          6.0          25.2          13.8   \n",
       "3       1.5     54571          6.0          25.2          13.8   \n",
       "8       9.8    182265          5.6          22.2          18.7   \n",
       "10      9.8    182265          5.6          22.2          18.7   \n",
       "15     -2.1     27457          5.7          21.2          16.5   \n",
       "\n",
       "              ...              pop_per_m2    state   county  votesleft  \\\n",
       "1             ...                    91.8  Alabama  Autauga       2387   \n",
       "3             ...                    91.8  Alabama  Autauga       5387   \n",
       "8             ...                   114.6  Alabama  Baldwin       5290   \n",
       "10            ...                   114.6  Alabama  Baldwin      23618   \n",
       "15            ...                    31.0  Alabama  Barbour       2567   \n",
       "\n",
       "    fraction_votes  rank  primary_win  votesright  party_Republican  \\\n",
       "1            0.800   1.0            1        2931               0.0   \n",
       "3            0.445   1.0            1       11839               1.0   \n",
       "8            0.647   1.0            1        7984               0.0   \n",
       "10           0.469   1.0            1       49100               1.0   \n",
       "15           0.906   1.0            1        2789               0.0   \n",
       "\n",
       "    candidate_Hillary Clinton  \n",
       "1                         1.0  \n",
       "3                         0.0  \n",
       "8                         1.0  \n",
       "10                        0.0  \n",
       "15                        1.0  \n",
       "\n",
       "[5 rows x 63 columns]"
      ]
     },
     "execution_count": 58,
     "metadata": {},
     "output_type": "execute_result"
    }
   ],
   "source": [
    "general_tot.head()"
   ]
  },
  {
   "cell_type": "code",
   "execution_count": 59,
   "metadata": {
    "collapsed": true
   },
   "outputs": [],
   "source": [
    "raw_dummy = pd.get_dummies(raw, columns=['party', 'candidate'], drop_first=True)"
   ]
  },
  {
   "cell_type": "code",
   "execution_count": 60,
   "metadata": {
    "collapsed": false
   },
   "outputs": [
    {
     "name": "stdout",
     "output_type": "stream",
     "text": [
      "train MSE:  0.15069149991\n",
      "test MSE:  0.223678787676\n"
     ]
    }
   ],
   "source": [
    "model = tree.DecisionTreeRegressor()\n",
    "\n",
    "numeric = general_tot.select_dtypes(exclude=['object']) # selecting only numeric types from dataset\n",
    "\n",
    "X_col = numeric.columns.drop(['fraction_votes', 'votesleft', 'votesright', 'rank', 'primary_win']) \n",
    "# dropping redundant values\n",
    "y_col = 'fraction_votes'\n",
    "\n",
    "# training set is based on primary results\n",
    "train_X = raw_dummy[X_col]\n",
    "train_y = raw_dummy[y_col]\n",
    "\n",
    "# test set is consolidated down to two main candidates for each party\n",
    "test_X = general_tot[X_col]\n",
    "test_y = general_tot[y_col]\n",
    "\n",
    "model.fit(train_X, train_y)\n",
    "train_yhat = model.predict(train_X)\n",
    "print 'train MSE: ', np.sqrt(metrics.mean_squared_error(train_y, train_yhat))\n",
    "\n",
    "test_yhat = model.predict(test_X)\n",
    "print 'test MSE: ', np.sqrt(metrics.mean_squared_error(test_y, test_yhat))"
   ]
  },
  {
   "cell_type": "code",
   "execution_count": 61,
   "metadata": {
    "collapsed": false
   },
   "outputs": [
    {
     "name": "stdout",
     "output_type": "stream",
     "text": [
      "train MSE:  1.54876314823e-18\n",
      "test MSE:  0.106029031283\n"
     ]
    }
   ],
   "source": [
    "model = tree.DecisionTreeRegressor()\n",
    "\n",
    "numeric = general_tot.select_dtypes(exclude=['object']) # selecting only numeric types from dataset\n",
    "\n",
    "X_col = numeric.columns.drop(['fraction_votes', 'votesleft', 'votesright', 'rank', 'primary_win']) \n",
    "# dropping redundant values\n",
    "y_col = 'fraction_votes'\n",
    "\n",
    "X = general_tot[X_col]\n",
    "y = general_tot[y_col]\n",
    "\n",
    "X_train, X_test, y_train, y_test = cross_validation.train_test_split(X, y, test_size=0.3)\n",
    "\n",
    "model.fit(X_train, y_train)\n",
    "\n",
    "train_yhat = model.predict(X_train)\n",
    "print 'train MSE: ', np.sqrt(metrics.mean_squared_error(y_train, train_yhat))\n",
    "\n",
    "test_yhat = model.predict(X_test)\n",
    "print 'test MSE: ', np.sqrt(metrics.mean_squared_error(y_test, test_yhat))"
   ]
  },
  {
   "cell_type": "code",
   "execution_count": 62,
   "metadata": {
    "collapsed": false
   },
   "outputs": [
    {
     "data": {
      "text/plain": [
       "[(0.20386463630757196, 'fips'),\n",
       " (0.188190107196017, 'black_alone'),\n",
       " (0.14973202531159818, 'candidate_Hillary Clinton'),\n",
       " (0.084717246998148532, 'land_area'),\n",
       " (0.041692459683542953, 'multi'),\n",
       " (0.027319997002656041, 'median_val_ownerhousing'),\n",
       " (0.021367893199610376, 'housing_units'),\n",
       " (0.019675747108922892, 'bachelors'),\n",
       " (0.01679097165625364, 'foreign_born_09-13'),\n",
       " (0.013531414548811696, 'highschool')]"
      ]
     },
     "execution_count": 62,
     "metadata": {},
     "output_type": "execute_result"
    }
   ],
   "source": [
    "sorted(zip(model.feature_importances_, X_train.columns.values), reverse = True)[:10] # ranking of 10 predictor relevance"
   ]
  },
  {
   "cell_type": "markdown",
   "metadata": {},
   "source": [
    "### MSE for test dataset is <15%\n",
    "We will explore the importance of different features below"
   ]
  },
  {
   "cell_type": "code",
   "execution_count": 63,
   "metadata": {
    "collapsed": true
   },
   "outputs": [],
   "source": [
    "general_tot['win'] = general_tot.groupby(by=['fips'])['votesright'].rank(ascending=False) \n",
    "\n",
    "general_tot = general_tot.replace(to_replace={'win': {2: 0}})"
   ]
  },
  {
   "cell_type": "markdown",
   "metadata": {},
   "source": [
    "### ##TO DO:\n",
    "Apply weights based on electoral college to determine who will win the general election"
   ]
  },
  {
   "cell_type": "code",
   "execution_count": 64,
   "metadata": {
    "collapsed": false
   },
   "outputs": [],
   "source": [
    "import statsmodels.api as sm\n",
    "\n",
    "numeric = general_tot.select_dtypes(exclude=['object']) # selecting only numeric types from dataset\n",
    "\n",
    "X_col = numeric.columns.drop(['fraction_votes', 'votesleft', 'votesright', 'rank', 'win']) # dropping redundant values\n",
    "y_col = 'win'\n",
    "\n",
    "\n",
    "test_X = general_tot[['under_18_pct', 'white', 'pop_per_m2', 'household_size', 'black_firm_pct', 'highschool']]\n",
    "test_y = general_tot[y_col]\n",
    "\n",
    "\n",
    "logit = sm.Logit(test_y, test_X)\n",
    "\n",
    "# model.fit(train_X, train_y)\n",
    "# train_yhat = model.predict(train_X)\n",
    "# print 'train MSE: ', np.sqrt(metrics.mean_squared_error(train_y, train_yhat))\n",
    "\n",
    "# test_yhat = model.predict(test_X)\n",
    "# print 'test MSE: ', np.sqrt(metrics.mean_squared_error(test_y, test_yhat))"
   ]
  },
  {
   "cell_type": "code",
   "execution_count": 65,
   "metadata": {
    "collapsed": false
   },
   "outputs": [
    {
     "name": "stdout",
     "output_type": "stream",
     "text": [
      "Optimization terminated successfully.\n",
      "         Current function value: 0.692935\n",
      "         Iterations 3\n"
     ]
    }
   ],
   "source": [
    "result = logit.fit()"
   ]
  },
  {
   "cell_type": "code",
   "execution_count": 66,
   "metadata": {
    "collapsed": false
   },
   "outputs": [
    {
     "name": "stdout",
     "output_type": "stream",
     "text": [
      "                           Logit Regression Results                           \n",
      "==============================================================================\n",
      "Dep. Variable:                    win   No. Observations:                 5507\n",
      "Model:                          Logit   Df Residuals:                     5501\n",
      "Method:                           MLE   Df Model:                            5\n",
      "Date:                Wed, 10 Aug 2016   Pseudo R-squ.:               0.0001182\n",
      "Time:                        15:14:56   Log-Likelihood:                -3816.0\n",
      "converged:                       True   LL-Null:                       -3816.4\n",
      "                                        LLR p-value:                    0.9700\n",
      "==================================================================================\n",
      "                     coef    std err          z      P>|z|      [95.0% Conf. Int.]\n",
      "----------------------------------------------------------------------------------\n",
      "under_18_pct      -0.0011      0.011     -0.101      0.919        -0.022     0.020\n",
      "white              0.0002      0.002      0.084      0.933        -0.004     0.004\n",
      "pop_per_m2     -1.087e-06   1.51e-05     -0.072      0.943     -3.08e-05  2.86e-05\n",
      "household_size    -0.0447      0.122     -0.365      0.715        -0.284     0.195\n",
      "black_firm_pct    -0.0008      0.005     -0.180      0.857        -0.010     0.008\n",
      "highschool         0.0019      0.003      0.638      0.523        -0.004     0.008\n",
      "==================================================================================\n"
     ]
    }
   ],
   "source": [
    "print result.summary()"
   ]
  },
  {
   "cell_type": "markdown",
   "metadata": {},
   "source": [
    "the logistic regression does not return significant results. likely a fitting error\n",
    "above we need to create new column that converts count of votes to a fraction of votes column"
   ]
  }
 ],
 "metadata": {
  "kernelspec": {
   "display_name": "Python 2",
   "language": "python",
   "name": "python2"
  },
  "language_info": {
   "codemirror_mode": {
    "name": "ipython",
    "version": 2
   },
   "file_extension": ".py",
   "mimetype": "text/x-python",
   "name": "python",
   "nbconvert_exporter": "python",
   "pygments_lexer": "ipython2",
   "version": "2.7.11"
  }
 },
 "nbformat": 4,
 "nbformat_minor": 0
}
