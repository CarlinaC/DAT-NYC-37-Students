{
 "cells": [
  {
   "cell_type": "markdown",
   "metadata": {},
   "source": [
    "# Final Project Part 2"
   ]
  },
  {
   "cell_type": "markdown",
   "metadata": {},
   "source": [
    "## Project Plan and Hypothesis"
   ]
  },
  {
   "cell_type": "markdown",
   "metadata": {},
   "source": [
    "### Project Problem and Hypothesis\n",
    "The project aims at predicting how people decide to allocate monetary resources with a close significant other. Predictor variables for this will be the measured closeness to the partner which was measured through testing the relationship centrality as well as the strategy motivation for allocation. The analysis will predict a continuous number: the monetary difference between how much was allocated to the self and how much to the partner. This project would help gaining a better insight into how people allocate their resources with people who are close to them. \n"
   ]
  },
  {
   "cell_type": "markdown",
   "metadata": {},
   "source": [
    "### Datasets\n",
    "The dataset is taken from an experiment that was conducted on MTurk in which the participants were given a task in which they had to allocate money between themselves and a second player who they should imagine is a close significant other. Afterwards, they were given a survey which investigated relationship quality/ centrality as well as the strategy that they used in the experiment. "
   ]
  },
  {
   "cell_type": "markdown",
   "metadata": {},
   "source": [
    "### Domain knowledge\n",
    " My project is directly linked to the research that I am doing in the Social Cognitive and Neural Sciences lab at NYU. My undergrad and my masters were focussed on Social Neuroscience, thus I already have a considerate amount of experience with research in this area. The project relates to behavioral neuroscience as we are studying the behavior of how people allocate resources within close relationships. There is still quite a big gap in the literature on how people allocate their resources within close relationships. Different strategies have been proposed on what general rule people follow: an equity-based rule (Greenberg, 1983), a need-based rule (Deutsch, 1975) and a simple reinforcements rule (Cate, Lloyd, & Henton, 1985). The strategy that people employ when allocating resources remains a source of disagreement (Clark & Chrisman, 1994). Thus we are trying to gain an insight into these different strategies and how the strength of the relaitonship effects this. "
   ]
  },
  {
   "cell_type": "markdown",
   "metadata": {},
   "source": [
    "### Project Concerns\n",
    "One of my main concerns is that MTurk does not yield a very representative sample, however, previous papers investigating the reliability and validity of MTurk samples seem quite positive that it is reasonable to use MTurk for experiments. I am also wondering if it is a good idea to have the outcome variable be the monetary difference that people allocated between themselves and the other person. "
   ]
  },
  {
   "cell_type": "markdown",
   "metadata": {},
   "source": [
    "### Outcomes\n",
    "The output should be the monetary difference between the self and the partner. The closer the person feels to their partner the more equal the allocation should be between the self and the other, thus the monetary difference between the self and other would be lower. Hopefully, this project would give more insight into how people allocate money within close relationships and what effect the relationship quality and attitude towards the relationship have on how money is allocated. The model shouldn't be too complicated, but I'm still trying to figure out how many predictor variables to include. If this goes bust then I'd try to use the results that we got for the MouseTracker study and maybe look at reaction time instead. \n"
   ]
  },
  {
   "cell_type": "markdown",
   "metadata": {},
   "source": [
    "#### References\n",
    "Cate, R. M., Lloyd, S. A., & Henton, J. M. (1985). The Effect of Equity, Equality, and Reward Level on the \n",
    "    Stability of Students' Premarital Relationships. The Journal of Social Psychology, 125(6), 715-721.\n",
    "    doi:10.1080/00224545.1985.9713544\n",
    "Clark, M. S., & Chrisman, K. (1994). Resource Allocation in Intimate Relationships. Entitlement and the \n",
    "\tAffectional Bond Critical Issues in Social Justice, 65-88. doi:10.1007/978-1-4899-0984-8_4\n",
    "Deutsch, M. (1975). Equity, Equality, and Need: What Determines Which Value Will Be Used as the Basis of Distributive \n",
    "    Justice? Journal of Social Issues, 31(3), 137-149. doi:10.1111/j.1540-4560.1975.tb01000.x\n",
    "Greenberg, J. (1983). Equity and equality as clues to the relationship between exchange participants. European Journal \n",
    "    of Social Psychology Eur. J. Soc. Psychol., 13(2), 195-196. doi:10.1002/ejsp.2420130209\n"
   ]
  },
  {
   "cell_type": "code",
   "execution_count": null,
   "metadata": {
    "collapsed": true
   },
   "outputs": [],
   "source": []
  }
 ],
 "metadata": {
  "kernelspec": {
   "display_name": "Python 2",
   "language": "python",
   "name": "python2"
  },
  "language_info": {
   "codemirror_mode": {
    "name": "ipython",
    "version": 2
   },
   "file_extension": ".py",
   "mimetype": "text/x-python",
   "name": "python",
   "nbconvert_exporter": "python",
   "pygments_lexer": "ipython2",
   "version": "2.7.11"
  }
 },
 "nbformat": 4,
 "nbformat_minor": 0
}
